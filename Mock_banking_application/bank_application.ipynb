{
 "cells": [
  {
   "cell_type": "markdown",
   "metadata": {},
   "source": [
    "# creating a mock banking application for understanding of oops principles"
   ]
  },
  {
   "cell_type": "code",
   "execution_count": null,
   "metadata": {},
   "outputs": [],
   "source": []
  },
  {
   "cell_type": "code",
   "execution_count": 10,
   "metadata": {},
   "outputs": [
    {
     "name": "stdout",
     "output_type": "stream",
     "text": [
      "1 - Deposit Money \n",
      " 2 - Withdraw money \n",
      " 3 - Show balance \n",
      " 4 - exit\n",
      "balance after withdraw: 80.0\n",
      "1 - Deposit Money \n",
      " 2 - Withdraw money \n",
      " 3 - Show balance \n",
      " 4 - exit\n",
      "balance after Deposit: 3080.0\n",
      "1 - Deposit Money \n",
      " 2 - Withdraw money \n",
      " 3 - Show balance \n",
      " 4 - exit\n",
      "the available balance is: 3080.0\n",
      "1 - Deposit Money \n",
      " 2 - Withdraw money \n",
      " 3 - Show balance \n",
      " 4 - exit\n",
      "balance after withdraw: 2680.0\n",
      "1 - Deposit Money \n",
      " 2 - Withdraw money \n",
      " 3 - Show balance \n",
      " 4 - exit\n"
     ]
    },
    {
     "ename": "SystemExit",
     "evalue": "",
     "output_type": "error",
     "traceback": [
      "An exception has occurred, use %tb to see the full traceback.\n",
      "\u001b[1;31mSystemExit\u001b[0m\n"
     ]
    }
   ],
   "source": [
    "import sys\n",
    "\n",
    "class bank(object):\n",
    "    #bank related transactions#####\n",
    "\n",
    "    #initialize the self paramters\n",
    "\n",
    "    def __init__(self,name ,balance = 0):\n",
    "        self.name = name\n",
    "        self.balance = balance\n",
    "    \n",
    "\n",
    "    # to deposit the money\n",
    "    def deposit(self,amount):\n",
    "        self.balance+= amount\n",
    "        return self.balance\n",
    "\n",
    "    #to withdraw money from balance\n",
    "    def withdraw(self,amount):\n",
    "        if amount > self.balance:\n",
    "            print(\"insufficient funds:\")\n",
    "        else:\n",
    "            self.balance -= amount\n",
    "        return self.balance\n",
    "    #to show the available balance\n",
    "    def display(self,balance):\n",
    "        return self.balance\n",
    "\n",
    "#creating an object or an account with the bank class\n",
    "\n",
    "name = input(\"enter the name of the acount holder:\")\n",
    "bal = int(input(\"enter the starting balance:\"))\n",
    "b = bank(name,bal)\n",
    "# using a while loop to print the main menu screen\n",
    "\n",
    "while(True):\n",
    "    print(\"1 - Deposit Money \\n 2 - Withdraw money \\n 3 - Show balance \\n 4 - exit\")\n",
    "    choice = int(input(\"enter your option\"))\n",
    "    \n",
    "    if choice == 4:\n",
    "        sys.exit()\n",
    "    elif choice == 1:\n",
    "        amt = float(input(\"Enter the amount:\"))\n",
    "        print(\"balance after Deposit:\",b.deposit(amt))\n",
    "    elif choice == 2:\n",
    "        amt = float(input(\"Enter the amount:\"))\n",
    "        print(\"balance after withdraw:\",b.withdraw(amt))\n",
    "    elif choice == 3:\n",
    "        print(\"the available balance is:\",b.display(balance=0))\n",
    "    else:\n",
    "        print(\"Choose any of the above options\")\n",
    "    \n",
    "    \n",
    "        "
   ]
  },
  {
   "cell_type": "code",
   "execution_count": null,
   "metadata": {},
   "outputs": [],
   "source": []
  }
 ],
 "metadata": {
  "kernelspec": {
   "display_name": "Python 3.10.6 64-bit",
   "language": "python",
   "name": "python3"
  },
  "language_info": {
   "codemirror_mode": {
    "name": "ipython",
    "version": 3
   },
   "file_extension": ".py",
   "mimetype": "text/x-python",
   "name": "python",
   "nbconvert_exporter": "python",
   "pygments_lexer": "ipython3",
   "version": "3.10.6"
  },
  "orig_nbformat": 4,
  "vscode": {
   "interpreter": {
    "hash": "107d7b120a5b68773a87d4067e673630b35702e55ebab3138143d08b1c4d7cbc"
   }
  }
 },
 "nbformat": 4,
 "nbformat_minor": 2
}
