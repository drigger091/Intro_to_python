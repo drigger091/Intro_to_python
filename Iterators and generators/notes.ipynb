{
 "cells": [
  {
   "cell_type": "markdown",
   "metadata": {},
   "source": [
    "# Iterable = The body on whom the iteration happens\n",
    "# itrator =  It is the object that allows the programmer to traverse throigh an group of items"
   ]
  },
  {
   "cell_type": "code",
   "execution_count": 2,
   "metadata": {},
   "outputs": [
    {
     "name": "stdout",
     "output_type": "stream",
     "text": [
      "<class 'list'>\n",
      "<list_iterator object at 0x000001E3D51FF6D0>\n"
     ]
    }
   ],
   "source": [
    "# Example\n",
    "\n",
    "l = [1,2,3]\n",
    "print(type(l))\n",
    "\n",
    "# getting the iterator in L\n",
    "\n",
    "print(iter(l))"
   ]
  },
  {
   "cell_type": "code",
   "execution_count": null,
   "metadata": {},
   "outputs": [],
   "source": [
    "# Evry iterator has an iterlable\n",
    "# not all itetables are iterator\n",
    "\n",
    "\n"
   ]
  },
  {
   "cell_type": "markdown",
   "metadata": {},
   "source": [
    "# Designing own for loop\n",
    "\n",
    "\n"
   ]
  },
  {
   "cell_type": "code",
   "execution_count": 3,
   "metadata": {},
   "outputs": [],
   "source": [
    "def own_loop(iterable):\n",
    "\n",
    "    iterator = iter(iterable)\n",
    "\n",
    "    while True:\n",
    "\n",
    "        try:\n",
    "            print(next(iterator))\n",
    "        except StopIteration:\n",
    "            break"
   ]
  },
  {
   "cell_type": "code",
   "execution_count": 4,
   "metadata": {},
   "outputs": [
    {
     "name": "stdout",
     "output_type": "stream",
     "text": [
      "1\n",
      "2\n",
      "3\n",
      "4\n",
      "6\n"
     ]
    }
   ],
   "source": [
    "a = [1,2,3,4,6]\n",
    "\n",
    "own_loop(a)"
   ]
  },
  {
   "cell_type": "code",
   "execution_count": 5,
   "metadata": {},
   "outputs": [
    {
     "name": "stdout",
     "output_type": "stream",
     "text": [
      "2078044797248 address reference of the iterarator of the iterable\n",
      "2078044797248 address reference of the iterarator of the iterator\n"
     ]
    }
   ],
   "source": [
    "# The iterator of an iterator has the same address as the ierator\n",
    "\n",
    "array = [1,2,4,6]\n",
    "\n",
    "iter1 = iter(array)\n",
    "print(id(iter1),\"address reference of the iterarator of the iterable\")\n",
    "\n",
    "iter2 = iter(iter1)\n",
    "print(id(iter2),\"address reference of the iterarator of the iterator\")"
   ]
  },
  {
   "cell_type": "code",
   "execution_count": null,
   "metadata": {},
   "outputs": [],
   "source": []
  }
 ],
 "metadata": {
  "kernelspec": {
   "display_name": "base",
   "language": "python",
   "name": "python3"
  },
  "language_info": {
   "codemirror_mode": {
    "name": "ipython",
    "version": 3
   },
   "file_extension": ".py",
   "mimetype": "text/x-python",
   "name": "python",
   "nbconvert_exporter": "python",
   "pygments_lexer": "ipython3",
   "version": "3.9.7"
  }
 },
 "nbformat": 4,
 "nbformat_minor": 2
}
