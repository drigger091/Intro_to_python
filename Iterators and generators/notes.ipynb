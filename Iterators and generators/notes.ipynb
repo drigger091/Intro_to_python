{
 "cells": [
  {
   "cell_type": "markdown",
   "metadata": {},
   "source": [
    "# Iterable = The body on whom the iteration happens\n",
    "# itrator =  It is the object that allows the programmer to traverse throigh an group of items"
   ]
  },
  {
   "cell_type": "code",
   "execution_count": 2,
   "metadata": {},
   "outputs": [
    {
     "name": "stdout",
     "output_type": "stream",
     "text": [
      "<class 'list'>\n",
      "<list_iterator object at 0x000001E3D51FF6D0>\n"
     ]
    }
   ],
   "source": [
    "# Example\n",
    "\n",
    "l = [1,2,3]\n",
    "print(type(l))\n",
    "\n",
    "# getting the iterator in L\n",
    "\n",
    "print(iter(l))"
   ]
  },
  {
   "cell_type": "code",
   "execution_count": null,
   "metadata": {},
   "outputs": [],
   "source": [
    "# Evry iterator has an iterlable\n",
    "# not all itetables are iterator\n",
    "\n",
    "\n"
   ]
  },
  {
   "cell_type": "markdown",
   "metadata": {},
   "source": [
    "# Designing own for loop\n",
    "\n",
    "\n"
   ]
  },
  {
   "cell_type": "code",
   "execution_count": 3,
   "metadata": {},
   "outputs": [],
   "source": [
    "def own_loop(iterable):\n",
    "\n",
    "    iterator = iter(iterable)\n",
    "\n",
    "    while True:\n",
    "\n",
    "        try:\n",
    "            print(next(iterator))\n",
    "        except StopIteration:\n",
    "            break"
   ]
  },
  {
   "cell_type": "code",
   "execution_count": 4,
   "metadata": {},
   "outputs": [
    {
     "name": "stdout",
     "output_type": "stream",
     "text": [
      "1\n",
      "2\n",
      "3\n",
      "4\n",
      "6\n"
     ]
    }
   ],
   "source": [
    "a = [1,2,3,4,6]\n",
    "\n",
    "own_loop(a)"
   ]
  },
  {
   "cell_type": "code",
   "execution_count": 5,
   "metadata": {},
   "outputs": [
    {
     "name": "stdout",
     "output_type": "stream",
     "text": [
      "2078044797248 address reference of the iterarator of the iterable\n",
      "2078044797248 address reference of the iterarator of the iterator\n"
     ]
    }
   ],
   "source": [
    "# The iterator of an iterator has the same address as the ierator\n",
    "\n",
    "array = [1,2,4,6]\n",
    "\n",
    "iter1 = iter(array)\n",
    "print(id(iter1),\"address reference of the iterarator of the iterable\")\n",
    "\n",
    "iter2 = iter(iter1)\n",
    "print(id(iter2),\"address reference of the iterarator of the iterator\")"
   ]
  },
  {
   "cell_type": "code",
   "execution_count": 6,
   "metadata": {},
   "outputs": [],
   "source": [
    "# Creating an own range Function\n",
    "\n",
    "class my_range:\n",
    "\n",
    "    def __init__(self,start, end):\n",
    "        self.start = start\n",
    "        self.end = end\n",
    "\n",
    "    def __iter__(self):\n",
    "        return my_range_iterator(self)\n",
    "\n",
    "\n",
    "\n",
    "class my_range_iterator:\n",
    "    def __init__(self,iterable_obj):  # this iterbale object has both start and end as it an object of my_range class\n",
    "        self.iterable = iterable_obj\n",
    "\n",
    "    def __iter__(self):      # iterators iterator is same as we discussed\n",
    "\n",
    "        return self \n",
    "    \n",
    "    def __next__(self):\n",
    "         if self.iterable.start >= self.iterable.end:\n",
    "             raise StopIteration\n",
    "         \n",
    "         current = self.iterable.start\n",
    "         self.iterable.start +=1\n",
    "         return current\n",
    "    \n"
   ]
  },
  {
   "cell_type": "code",
   "execution_count": 8,
   "metadata": {},
   "outputs": [
    {
     "name": "stdout",
     "output_type": "stream",
     "text": [
      "<__main__.my_range object at 0x000001E3D6ED7760>\n"
     ]
    }
   ],
   "source": [
    "x = my_range(1,10)\n",
    "print(x)"
   ]
  },
  {
   "cell_type": "code",
   "execution_count": 10,
   "metadata": {},
   "outputs": [
    {
     "name": "stdout",
     "output_type": "stream",
     "text": [
      "<class '__main__.my_range'>\n",
      "<class '__main__.my_range_iterator'>\n"
     ]
    }
   ],
   "source": [
    "print(type(x))\n",
    "print(type(iter(x)))\n"
   ]
  },
  {
   "cell_type": "code",
   "execution_count": 6,
   "metadata": {},
   "outputs": [
    {
     "name": "stdout",
     "output_type": "stream",
     "text": [
      "[1, 1, 2, 3, 5, 8, 13, 21, 34, 55]\n",
      "[1, 1, 4, 9, 25, 64, 169, 441, 1156, 3025]\n"
     ]
    }
   ],
   "source": [
    "# Generators\n",
    "# Using generators to print fibonnaci sirs\n",
    "\n",
    "\n",
    "def fibonaci_series(number):\n",
    "\n",
    "    x, y = 0,1\n",
    "\n",
    "    \n",
    "    for _ in range(number):\n",
    "        x , y = y , x+y\n",
    "\n",
    "        yield x\n",
    "\n",
    "        \n",
    "def square(nums):\n",
    "\n",
    "    for num in nums:\n",
    "        yield num**2\n",
    "\n",
    "\n",
    "fibonanci_numbers = list(fibonaci_series(10))\n",
    "print(fibonanci_numbers)\n",
    "\n",
    "\n",
    "squares_of_fibo = list(square(fibonaci_series(10)))\n",
    "print(squares_of_fibo)"
   ]
  },
  {
   "cell_type": "code",
   "execution_count": null,
   "metadata": {},
   "outputs": [],
   "source": []
  }
 ],
 "metadata": {
  "kernelspec": {
   "display_name": "base",
   "language": "python",
   "name": "python3"
  },
  "language_info": {
   "codemirror_mode": {
    "name": "ipython",
    "version": 3
   },
   "file_extension": ".py",
   "mimetype": "text/x-python",
   "name": "python",
   "nbconvert_exporter": "python",
   "pygments_lexer": "ipython3",
   "version": "3.9.7"
  }
 },
 "nbformat": 4,
 "nbformat_minor": 2
}
