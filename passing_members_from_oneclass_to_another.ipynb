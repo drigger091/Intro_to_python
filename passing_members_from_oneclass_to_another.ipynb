{
 "cells": [
  {
   "cell_type": "markdown",
   "metadata": {},
   "source": [
    "# passing one members of class to another"
   ]
  },
  {
   "cell_type": "code",
   "execution_count": 6,
   "metadata": {},
   "outputs": [
    {
     "name": "stdout",
     "output_type": "stream",
     "text": [
      "ID= 45\n",
      "Name= rajesh\n",
      "salary= 11899\n"
     ]
    }
   ],
   "source": [
    "# creating a parent class\n",
    "\n",
    "class emp:\n",
    "    def __init__(self,id ,name ,salary):\n",
    "        self.id = id\n",
    "        self.name = name\n",
    "        self.salary = salary\n",
    "    #instance method\n",
    "\n",
    "    def display(self):\n",
    "        print(\"ID=\",self.id)\n",
    "        print(\"Name=\",self.name)\n",
    "        print(\"salary=\",self.salary)\n",
    "    \n",
    "# this class will be used for employee other details\n",
    "class details:\n",
    "\n",
    "    #method to receive emp class instance\n",
    "    #and to dislay employee details\n",
    "    #using static method\n",
    "\n",
    "    @staticmethod\n",
    "    def mymethod(e):\n",
    "        #incrmenting salary of e by 10000\n",
    "        e.salary+=10000\n",
    "        e.display()\n",
    "\n",
    "id = input(\"enter the employee id:\")\n",
    "name = input(\"enter the employee name:\")\n",
    "salary = int(input(\"enter the salary:\"))\n",
    "\n",
    "e = emp(id,name ,salary)\n",
    "details.mymethod(e)\n",
    "\n",
    "\n",
    "\n",
    "\n",
    "    "
   ]
  },
  {
   "cell_type": "code",
   "execution_count": null,
   "metadata": {},
   "outputs": [],
   "source": []
  }
 ],
 "metadata": {
  "kernelspec": {
   "display_name": "Python 3.9.7 ('base')",
   "language": "python",
   "name": "python3"
  },
  "language_info": {
   "codemirror_mode": {
    "name": "ipython",
    "version": 3
   },
   "file_extension": ".py",
   "mimetype": "text/x-python",
   "name": "python",
   "nbconvert_exporter": "python",
   "pygments_lexer": "ipython3",
   "version": "3.9.7"
  },
  "orig_nbformat": 4,
  "vscode": {
   "interpreter": {
    "hash": "c39ee6e24b83006eb386f86b08c4fd4839bfb2c807e17caea351eeccecc27516"
   }
  }
 },
 "nbformat": 4,
 "nbformat_minor": 2
}
