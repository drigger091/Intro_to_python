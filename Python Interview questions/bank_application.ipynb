{
 "cells": [
  {
   "cell_type": "markdown",
   "metadata": {},
   "source": [
    "# creating a mock banking application for understanding of oops principles"
   ]
  },
  {
   "cell_type": "code",
   "execution_count": null,
   "metadata": {},
   "outputs": [],
   "source": []
  },
  {
   "cell_type": "code",
   "execution_count": 1,
   "metadata": {},
   "outputs": [],
   "source": [
    "import sys\n",
    "\n",
    "class bank(object):\n",
    "    #bank related transactions#####\n",
    "\n",
    "    #initialize the self paramters\n",
    "\n",
    "    def __init__(self,name ,balance = 0):\n",
    "        self.name = name\n",
    "        self.balance = balance\n",
    "    \n",
    "\n",
    "    # to deposit the money\n",
    "    def deposit(self,amount):\n",
    "        self.balance+= amount\n",
    "        return self.balance\n",
    "\n",
    "    #to withdraw money from balance\n",
    "    def withdraw(self,amount):\n",
    "        if amount > self.balance:\n",
    "            print(\"insufficient funds:\")\n",
    "        else:\n",
    "            self.balance -= amount\n",
    "        return self.balance\n",
    "\n",
    "    \n",
    "        "
   ]
  },
  {
   "cell_type": "code",
   "execution_count": null,
   "metadata": {},
   "outputs": [],
   "source": []
  }
 ],
 "metadata": {
  "kernelspec": {
   "display_name": "Python 3.10.6 64-bit",
   "language": "python",
   "name": "python3"
  },
  "language_info": {
   "codemirror_mode": {
    "name": "ipython",
    "version": 3
   },
   "file_extension": ".py",
   "mimetype": "text/x-python",
   "name": "python",
   "nbconvert_exporter": "python",
   "pygments_lexer": "ipython3",
   "version": "3.10.6"
  },
  "orig_nbformat": 4,
  "vscode": {
   "interpreter": {
    "hash": "107d7b120a5b68773a87d4067e673630b35702e55ebab3138143d08b1c4d7cbc"
   }
  }
 },
 "nbformat": 4,
 "nbformat_minor": 2
}
