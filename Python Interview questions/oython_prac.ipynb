{
 "cells": [
  {
   "cell_type": "markdown",
   "metadata": {},
   "source": [
    "Write a Python program to convert kilometers to miles."
   ]
  },
  {
   "cell_type": "code",
   "execution_count": 4,
   "metadata": {},
   "outputs": [
    {
     "name": "stdout",
     "output_type": "stream",
     "text": [
      "The Distance in miles is 21.114 miles\n"
     ]
    }
   ],
   "source": [
    "dist = int(input(\"Enter The distance in kilometres\"))\n",
    "\n",
    "\n",
    "conversion_factor  = 0.621\n",
    "\n",
    "miles = dist * conversion_factor\n",
    "\n",
    "\n",
    "print(f\"The Distance in miles is {miles} miles\")\n"
   ]
  },
  {
   "cell_type": "markdown",
   "metadata": {},
   "source": [
    "Write a Python program to convert Celsius to Fahrenheit."
   ]
  },
  {
   "cell_type": "code",
   "execution_count": 5,
   "metadata": {},
   "outputs": [
    {
     "name": "stdout",
     "output_type": "stream",
     "text": [
      "The Conversion of temperarture from celsius to farenheit is 212.0 degree farenheit\n"
     ]
    }
   ],
   "source": [
    "celsius = int(input(\"Enter the temperature in celcious\"))\n",
    "\n",
    "Farenheit = (celsius *9/5) + 32\n",
    "\n",
    "print(f\"The Conversion of temperarture from celsius to farenheit is {Farenheit} degree farenheit\")"
   ]
  },
  {
   "cell_type": "markdown",
   "metadata": {},
   "source": [
    "Write a Python program to display calendar."
   ]
  },
  {
   "cell_type": "code",
   "execution_count": 7,
   "metadata": {},
   "outputs": [
    {
     "name": "stdout",
     "output_type": "stream",
     "text": [
      "   December 2025\n",
      "Mo Tu We Th Fr Sa Su\n",
      " 1  2  3  4  5  6  7\n",
      " 8  9 10 11 12 13 14\n",
      "15 16 17 18 19 20 21\n",
      "22 23 24 25 26 27 28\n",
      "29 30 31\n",
      "\n"
     ]
    }
   ],
   "source": [
    "import calendar\n",
    "\n",
    "year = int(input(\"Enter the year:\"))\n",
    "month = int(input(\"Enter the month:\"))\n",
    "\n",
    "cal = calendar.month(year,month)\n",
    "\n",
    "print(cal)"
   ]
  },
  {
   "cell_type": "markdown",
   "metadata": {},
   "source": [
    "Write a Python program to swap two variables without temp variable. and with temp"
   ]
  },
  {
   "cell_type": "code",
   "execution_count": 9,
   "metadata": {},
   "outputs": [
    {
     "name": "stdout",
     "output_type": "stream",
     "text": [
      "After swapping\n",
      "a= 10\n",
      "b= 5\n",
      "After swapping\n",
      "c= 20\n",
      "d= 15\n"
     ]
    }
   ],
   "source": [
    "a = 5\n",
    "b = 10\n",
    "\n",
    "#without temp\n",
    "\n",
    "a,b = b,a\n",
    "\n",
    "print(\"After swapping\")\n",
    "print(\"a=\" ,a)\n",
    "print(\"b=\",b)\n",
    "\n",
    "\n",
    "c = 15\n",
    "d = 20\n",
    "\n",
    "temp = c\n",
    "\n",
    "c = d\n",
    "d = temp\n",
    "\n",
    "print(\"After swapping\")\n",
    "print(\"c=\" ,c)\n",
    "print(\"d=\",d)\n"
   ]
  },
  {
   "cell_type": "markdown",
   "metadata": {},
   "source": [
    "Write a Python Program to Check if a Number is Positive, Negative or Zero."
   ]
  },
  {
   "cell_type": "code",
   "execution_count": 11,
   "metadata": {},
   "outputs": [
    {
     "name": "stdout",
     "output_type": "stream",
     "text": [
      "23\n",
      "The Number is positive\n"
     ]
    }
   ],
   "source": [
    "Number = int(input(\"enter the concerned number:\"))\n",
    "\n",
    "print(Number)\n",
    "\n",
    "\n",
    "if Number > 0:\n",
    "    print(\"The Number is positive\")\n",
    "elif Number == 0:\n",
    "    \n",
    "    print(\"The number is Zero\")\n",
    "\n",
    "else:\n",
    "    print(\"The number is negative\")"
   ]
  },
  {
   "cell_type": "markdown",
   "metadata": {},
   "source": [
    "Write a Python Program to Check if a Number is Odd or Even."
   ]
  },
  {
   "cell_type": "code",
   "execution_count": 3,
   "metadata": {},
   "outputs": [
    {
     "name": "stdout",
     "output_type": "stream",
     "text": [
      "24 is an even number\n"
     ]
    }
   ],
   "source": [
    "Number = int(input(\"Enter the Concerned number:\"))\n",
    "\n",
    "if Number % 2 == 0 :\n",
    "    print(f\"{Number} is an even number\")\n",
    "else:\n",
    "    print(f\"{Number} is odd number\")\n",
    " "
   ]
  },
  {
   "cell_type": "markdown",
   "metadata": {},
   "source": [
    "Write a Python Program to Check Leap Year."
   ]
  },
  {
   "cell_type": "code",
   "execution_count": 5,
   "metadata": {},
   "outputs": [
    {
     "name": "stdout",
     "output_type": "stream",
     "text": [
      "The given year 2000 is a leap year.\n"
     ]
    }
   ],
   "source": [
    "year = int(input('Enter your desired year:'))\n",
    "\n",
    "if (year%400 == 0) and (year %100 == 0):\n",
    "    print(f\"The given year {year} is a leap year.\")\n",
    "elif (year % 4 == 0 ) and (year % 100 != 0):\n",
    "    print(f'The given year is leap')\n",
    "else:\n",
    "    print(f\"The year is not a leap year\")\n",
    "\n",
    "    "
   ]
  },
  {
   "cell_type": "markdown",
   "metadata": {},
   "source": [
    "write a prgram to check whether a program is prime or not"
   ]
  },
  {
   "cell_type": "code",
   "execution_count": 27,
   "metadata": {},
   "outputs": [
    {
     "name": "stdout",
     "output_type": "stream",
     "text": [
      "23 is a prime number\n"
     ]
    }
   ],
   "source": [
    "num = int(input(\"Enter your number: \"))\n",
    "flag = False\n",
    "\n",
    "if num == 1:\n",
    "    print(f\"The given number {num} is not a prime number\")\n",
    "    \n",
    "elif num > 1:\n",
    "    for i in range(2, num):\n",
    "        if (num % i) == 0:\n",
    "            flag = True\n",
    "            break\n",
    "\n",
    "    if flag:\n",
    "        print(f\"{num} is not a prime number\")\n",
    "    else:\n",
    "        print(f\"{num} is a prime number\")\n"
   ]
  },
  {
   "cell_type": "markdown",
   "metadata": {},
   "source": [
    "print all numbers from a range\n",
    "\n",
    "\n"
   ]
  },
  {
   "cell_type": "code",
   "execution_count": 29,
   "metadata": {},
   "outputs": [
    {
     "name": "stdout",
     "output_type": "stream",
     "text": [
      "The Prime numbers from 3 and 74 are:\n",
      "3\n",
      "5\n",
      "7\n",
      "11\n",
      "13\n",
      "17\n",
      "19\n",
      "23\n",
      "29\n",
      "31\n",
      "37\n",
      "41\n",
      "43\n",
      "47\n",
      "53\n",
      "59\n",
      "61\n",
      "67\n",
      "71\n",
      "73\n"
     ]
    }
   ],
   "source": [
    "lower = int(input('Enter the lower limit'))\n",
    "upper = int(input(\"Enter the upper limit\"))\n",
    "\n",
    "print(f\"The Prime numbers from {lower} and {upper} are:\")\n",
    "\n",
    "for i in  range(lower,upper +1):\n",
    "    if i > 1:\n",
    "        for j in range(2,i):\n",
    "            if (i % j) == 0:\n",
    "                break\n",
    "        else:\n",
    "            print(i)"
   ]
  },
  {
   "cell_type": "markdown",
   "metadata": {},
   "source": [
    "write a program to print the factorial of a number"
   ]
  },
  {
   "cell_type": "code",
   "execution_count": 30,
   "metadata": {},
   "outputs": [
    {
     "name": "stdout",
     "output_type": "stream",
     "text": [
      "Then factorial for 5 is 120\n"
     ]
    }
   ],
   "source": [
    "num = int(input(\"Enter the number:\"))\n",
    "\n",
    "factorial = 1\n",
    "\n",
    "if num < 0:\n",
    "    print(\"Negative number doesnt have tutorials\")\n",
    "\n",
    "elif num == 0:\n",
    "    print(\"Factorial of zero is 1\")\n",
    "\n",
    "else:\n",
    "\n",
    "    for i in range(1,num +1):\n",
    "        factorial = factorial * i\n",
    "\n",
    "    print(f\"Then factorial for {num} is {factorial}\")"
   ]
  },
  {
   "cell_type": "markdown",
   "metadata": {},
   "source": [
    "Display the miltiplocation table"
   ]
  },
  {
   "cell_type": "code",
   "execution_count": 33,
   "metadata": {},
   "outputs": [
    {
     "name": "stdout",
     "output_type": "stream",
     "text": [
      "Multiplication table for 23\n",
      "23 * 1 = 23\n",
      "23 * 2 = 46\n",
      "23 * 3 = 69\n",
      "23 * 4 = 92\n",
      "23 * 5 = 115\n",
      "23 * 6 = 138\n",
      "23 * 7 = 161\n",
      "23 * 8 = 184\n",
      "23 * 9 = 207\n",
      "23 * 10 = 230\n"
     ]
    }
   ],
   "source": [
    "num = int(input(\"Enter the number you want:\"))\n",
    "\n",
    "\n",
    "\n",
    "def display_mutiple_table(num):\n",
    "    print(f\"Multiplication table for {num}\")\n",
    "    \n",
    "    \n",
    "    for i in range(1,11):\n",
    "        \n",
    "        print(f\"{num} * {i} = {num *i}\")\n",
    "\n",
    "\n",
    "\n",
    "display_mutiple_table(num)\n"
   ]
  },
  {
   "cell_type": "markdown",
   "metadata": {},
   "source": [
    "write a code to print a fibonnaci series\n",
    "\n"
   ]
  },
  {
   "cell_type": "code",
   "execution_count": 35,
   "metadata": {},
   "outputs": [
    {
     "name": "stdout",
     "output_type": "stream",
     "text": [
      "The fibonacci series is : \n",
      "0\n",
      "1\n",
      "1\n",
      "2\n",
      "3\n",
      "5\n",
      "8\n",
      "13\n",
      "21\n",
      "34\n",
      "55\n",
      "89\n",
      "144\n",
      "233\n",
      "377\n",
      "610\n",
      "987\n",
      "1597\n",
      "2584\n",
      "4181\n",
      "6765\n",
      "10946\n",
      "17711\n",
      "28657\n",
      "46368\n",
      "75025\n",
      "121393\n",
      "196418\n",
      "317811\n",
      "514229\n",
      "832040\n",
      "1346269\n",
      "2178309\n",
      "3524578\n",
      "5702887\n",
      "9227465\n",
      "14930352\n",
      "24157817\n",
      "39088169\n",
      "63245986\n",
      "102334155\n",
      "165580141\n",
      "267914296\n",
      "433494437\n",
      "701408733\n",
      "1134903170\n",
      "1836311903\n",
      "2971215073\n",
      "4807526976\n",
      "7778742049\n"
     ]
    }
   ],
   "source": [
    "range = int(input(\"Enter the range for fibonaci\"))\n",
    "\n",
    "n1 , n2 = 0 , 1\n",
    "count = 0\n",
    "if range <= 0:\n",
    "    print(\"Invalid input\")\n",
    "\n",
    "elif range == 1:\n",
    "    print(\"The fibonacci series is\", n1)\n",
    "\n",
    "else:\n",
    "    print(\"The fibonacci series is : \")\n",
    "    while count < range :\n",
    "        print(n1)\n",
    "        nth = n1 + n2\n",
    "        n1 = n2\n",
    "        n2 = nth\n",
    "        count+=1\n"
   ]
  },
  {
   "cell_type": "code",
   "execution_count": 3,
   "metadata": {},
   "outputs": [
    {
     "name": "stdout",
     "output_type": "stream",
     "text": [
      "False\n"
     ]
    }
   ],
   "source": [
    "# ceck for armstrong number?\n",
    "\n",
    "\n",
    "def check_armstrong(number):\n",
    "    # intialize sum\n",
    "    sum = 0\n",
    "    \n",
    "\n",
    "    temp = number\n",
    "    while temp > 0:\n",
    "       digit = temp % 10\n",
    "       sum += digit ** len(str(number))\n",
    "       temp //= 10\n",
    "\n",
    "    return sum == number\n",
    "\n",
    "\n",
    "print(check_armstrong(154))\n",
    "\n",
    "\n"
   ]
  },
  {
   "cell_type": "code",
   "execution_count": 4,
   "metadata": {},
   "outputs": [
    {
     "name": "stdout",
     "output_type": "stream",
     "text": [
      "370\n",
      "371\n",
      "407\n",
      "1634\n"
     ]
    }
   ],
   "source": [
    "# check for armstrong number in an interval\n",
    "\n",
    "def is_armstrong(num):\n",
    "\n",
    "    order = len(str(num))\n",
    "    sum = 0\n",
    "    temp = num\n",
    "\n",
    "    while temp > 0:\n",
    "        digit = temp % 10\n",
    "        sum += digit **order\n",
    "        temp //=10\n",
    "\n",
    "    return num == sum\n",
    "\n",
    "lower = int(input(\"Enter the lower range:\"))\n",
    "upper = int(input(\"Enter the upper range:\"))\n",
    "\n",
    "for num in range(lower, upper+1):\n",
    "    if is_armstrong(num):\n",
    "        print(num)"
   ]
  },
  {
   "cell_type": "code",
   "execution_count": 6,
   "metadata": {},
   "outputs": [
    {
     "data": {
      "text/plain": [
       "1"
      ]
     },
     "execution_count": 6,
     "metadata": {},
     "output_type": "execute_result"
    }
   ],
   "source": [
    " # write a code to find The HCF\n",
    "\n",
    "\n",
    "def compute_hcf(num1 , num2):\n",
    "\n",
    "    if num1 > num2 :\n",
    "        smaller = num2\n",
    "    else:\n",
    "        smaller = num1\n",
    "\n",
    "\n",
    "    for i in range(1,smaller+1):\n",
    "        if((num1 % i == 0) and (num2 % i==0)):\n",
    "            hcf=i\n",
    "\n",
    "    return hcf\n",
    "\n",
    "\n",
    "num1 = int(input(\"Enter The first integer\"))\n",
    "num2 = int(input(\"Enter the second integer\"))\n",
    "\n",
    "compute_hcf(num1 , num2)\n",
    "           \n"
   ]
  },
  {
   "cell_type": "code",
   "execution_count": 7,
   "metadata": {},
   "outputs": [
    {
     "name": "stdout",
     "output_type": "stream",
     "text": [
      "The LCM is: 598\n"
     ]
    }
   ],
   "source": [
    "# write a code to find the LCM\n",
    "\n",
    "def find_LCM ( num1 ,num2):\n",
    "    if num1 > num2:\n",
    "        larger = num1\n",
    "\n",
    "    else:\n",
    "         larger = num2\n",
    "\n",
    "    while True:\n",
    "        if larger % num1 == 0 and larger % num2 == 0 :\n",
    "            lcm = larger\n",
    "            break\n",
    "        larger += 1\n",
    "\n",
    "    return lcm\n",
    "\n",
    "num1 = int(input('Enter the first number:'))\n",
    "num2 = int(input('Enter the Second number:'))\n",
    "\n",
    "print(\"The LCM is:\",find_LCM(num1 , num2))"
   ]
  },
  {
   "cell_type": "code",
   "execution_count": 9,
   "metadata": {},
   "outputs": [
    {
     "name": "stdout",
     "output_type": "stream",
     "text": [
      "The ASCII value of 'd'is  100\n"
     ]
    }
   ],
   "source": [
    "# write the ASCII value of a charcter:\n",
    "\n",
    "\n",
    "char = str(input(\"Enter the character:\"))\n",
    "\n",
    "print(\"The ASCII value of '\" + char +\"'is \",ord(char))"
   ]
  },
  {
   "cell_type": "code",
   "execution_count": 13,
   "metadata": {},
   "outputs": [
    {
     "name": "stdout",
     "output_type": "stream",
     "text": [
      "\n",
      "Welcome to the calculator:\n",
      "1-------> Add\n",
      "2-------> Subtraction\n",
      "3------> Multiplication \n",
      "4-------> Division\n",
      "5-------> Exit\n",
      "Enter your choices!!\n",
      "The result is -33.0\n",
      "\n",
      "Welcome to the calculator:\n",
      "1-------> Add\n",
      "2-------> Subtraction\n",
      "3------> Multiplication \n",
      "4-------> Division\n",
      "5-------> Exit\n",
      "Enter your choices!!\n",
      "Please visit again: Bye bye\n"
     ]
    }
   ],
   "source": [
    "class Calculator:\n",
    "\n",
    "    def __init__(self):\n",
    "        self.result = 0\n",
    "\n",
    "    def add(self, a, b):\n",
    "        self.result = a + b\n",
    "        return self.result\n",
    "\n",
    "    def subtract(self, a, b):\n",
    "        self.result = a - b\n",
    "        return self.result\n",
    "\n",
    "    def multiplication(self, a, b):\n",
    "        self.result = a * b\n",
    "        return self.result\n",
    "\n",
    "    def division(self, a, b):\n",
    "        if b == 0:\n",
    "            raise ValueError(\"Division by zero is not viable\")\n",
    "        self.result = a / b\n",
    "        return self.result\n",
    "\n",
    "\n",
    "calculator = Calculator()\n",
    "\n",
    "while True:\n",
    "    print(\"\\nWelcome to the calculator:\")\n",
    "    print(\"1-------> Add\")\n",
    "    print(\"2-------> Subtraction\")\n",
    "    print(\"3------> Multiplication \")\n",
    "    print(\"4-------> Division\")\n",
    "    print(\"5-------> Exit\")\n",
    "\n",
    "    print(\"Enter your choices!!\")\n",
    "\n",
    "    ch = int(input(\"Enter your choice: \"))\n",
    "\n",
    "    if ch == 5:\n",
    "        print(\"Please visit again: Bye bye\")\n",
    "        break\n",
    "\n",
    "    if ch in [1, 2, 3, 4]:\n",
    "        num1 = float(input(\"Enter first number: \"))\n",
    "        num2 = float(input(\"Enter Second number: \"))\n",
    "\n",
    "        if ch == 1:\n",
    "            result = calculator.add(num1, num2)\n",
    "        elif ch == 2:\n",
    "            result = calculator.subtract(num1, num2)\n",
    "        elif ch == 3:\n",
    "            result = calculator.multiplication(num1, num2)\n",
    "        elif ch == 4:\n",
    "            result = calculator.division(num1, num2)\n",
    "\n",
    "        print(\"The result is\", result)\n",
    "\n",
    "    else:\n",
    "        print(\"Invalid choice: Please select something from 1 to 5\")\n"
   ]
  },
  {
   "cell_type": "code",
   "execution_count": 14,
   "metadata": {},
   "outputs": [
    {
     "name": "stdout",
     "output_type": "stream",
     "text": [
      "The Fibonacci sequence is: [0, 1, 1, 2, 3, 5, 8, 13, 21, 34, 55, 89, 144, 233, 377, 610, 987, 1597, 2584, 4181, 6765, 10946, 17711, 28657, 46368, 75025, 121393, 196418, 317811, 514229, 832040, 1346269, 2178309, 3524578, 5702887]\n"
     ]
    }
   ],
   "source": [
    "# print fibonacci using recusrion\n",
    "def fibonacci(n):\n",
    "    if n <= 0:\n",
    "        return []\n",
    "    elif n == 1:\n",
    "        return [0]\n",
    "    elif n == 2:\n",
    "        return [0, 1]\n",
    "    else:\n",
    "        fib_sequence = fibonacci(n - 1)\n",
    "        fib_sequence.append(fib_sequence[-1] + fib_sequence[-2])\n",
    "        return fib_sequence\n",
    "\n",
    "# Get user input for the number of terms\n",
    "num_terms = int(input(\"Enter the number of Fibonacci terms: \"))\n",
    "\n",
    "# Print the Fibonacci sequence\n",
    "fibonacci_sequence = fibonacci(num_terms)\n",
    "print(\"The Fibonacci sequence is:\", fibonacci_sequence)\n",
    "\n"
   ]
  },
  {
   "cell_type": "code",
   "execution_count": 15,
   "metadata": {},
   "outputs": [
    {
     "name": "stdout",
     "output_type": "stream",
     "text": [
      "The factorial for 5 is 120\n"
     ]
    }
   ],
   "source": [
    "# factorial of a number using recursion\n",
    "\n",
    "def recur_factorial(n):\n",
    "\n",
    "    if n == 1:\n",
    "        return n\n",
    "    else:\n",
    "\n",
    "        return n * recur_factorial(n-1)\n",
    "    \n",
    "\n",
    "num = int(input(\"Enter the number:\"))\n",
    "if num < 0:\n",
    "    print(\"Factrial doesnr  exist for  negatuve numbers\")\n",
    "\n",
    "elif num == 0:\n",
    "    print(\"The factorial of 0 is 1\")\n",
    "else:\n",
    "    print(f\"The factorial for {num} is\",recur_factorial(num))\n"
   ]
  },
  {
   "cell_type": "code",
   "execution_count": 20,
   "metadata": {},
   "outputs": [
    {
     "name": "stdout",
     "output_type": "stream",
     "text": [
      "Welcome to BMI calculator\n",
      "Your body mass index is 23.99\n",
      "You have a normal weight\n"
     ]
    }
   ],
   "source": [
    "# calculate your BMI using python\n",
    "\n",
    "\n",
    "def body_mass_index(height ,weight):\n",
    "\n",
    "    return round((weight /height**2),2)\n",
    "\n",
    "\n",
    "h = float(input(\"Enter your height in meters\"))\n",
    "w = float(input(\"Enter your weight in kg\"))\n",
    "\n",
    "\n",
    "\n",
    "print(\"Welcome to BMI calculator\")\n",
    "\n",
    "bmi = body_mass_index(h,w)\n",
    "\n",
    "print(f\"Your body mass index is {bmi}\")\n",
    "\n",
    "\n",
    "if bmi <= 18.5:\n",
    "    print(\"You are underweight\")\n",
    "elif 18.5 < bmi <= 24.9:\n",
    "    print(\"You have a normal weight\")\n",
    "elif 25 < bmi <= 29.29:\n",
    "    print(\"You are overweight\")\n",
    "else:\n",
    "    print(\"You are obese\")\n"
   ]
  },
  {
   "cell_type": "code",
   "execution_count": 21,
   "metadata": {},
   "outputs": [
    {
     "name": "stdout",
     "output_type": "stream",
     "text": [
      "The Natural logarithm of the number is ,0.5306282510621704\n"
     ]
    }
   ],
   "source": [
    "# write a program to fnd the natural logarithm of any number\n",
    "\n",
    "import math\n",
    "\n",
    "num  = float(input(\"Enter a positive number\"))\n",
    "\n",
    "if num <= 0:\n",
    "    print(\"Please enter a positive number:\")\n",
    "else:\n",
    "\n",
    "    result = math.log(num)\n",
    "    print(f\"The Natural logarithm of the number is ,{result}\")"
   ]
  },
  {
   "cell_type": "code",
   "execution_count": 22,
   "metadata": {},
   "outputs": [
    {
     "name": "stdout",
     "output_type": "stream",
     "text": [
      "The Cube of First10 natural numbers is 3025\n"
     ]
    }
   ],
   "source": [
    "# write a python program to print the cube sum of first N natutal numbers\n",
    "\n",
    "\n",
    "def cube_sum_natural_numbers(n):\n",
    "     if n <= 0:\n",
    "          return 0\n",
    "     else:\n",
    "          total = sum([i**3 for i in range(1,n+1)])\n",
    "          return total\n",
    "     \n",
    "\n",
    "# Testing the function\n",
    "     \n",
    "num = int(input(\"Enter the value of n:\"))\n",
    "if num <= 0:\n",
    "     print(\"Please input a positive integer\")\n",
    "else:\n",
    "     result = cube_sum_natural_numbers(num)\n",
    "     print(f\"The sum of Cube of First {num} natural numbers is {result}\")"
   ]
  },
  {
   "cell_type": "code",
   "execution_count": null,
   "metadata": {},
   "outputs": [],
   "source": [
    "# write a program to return a sum of array\n",
    "\n",
    "def sum_of_array(arr):\n",
    "    "
   ]
  }
 ],
 "metadata": {
  "kernelspec": {
   "display_name": "Python 3",
   "language": "python",
   "name": "python3"
  },
  "language_info": {
   "codemirror_mode": {
    "name": "ipython",
    "version": 3
   },
   "file_extension": ".py",
   "mimetype": "text/x-python",
   "name": "python",
   "nbconvert_exporter": "python",
   "pygments_lexer": "ipython3",
   "version": "3.9.7"
  }
 },
 "nbformat": 4,
 "nbformat_minor": 2
}
