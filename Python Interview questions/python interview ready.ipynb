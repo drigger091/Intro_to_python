{
 "cells": [
  {
   "cell_type": "code",
   "execution_count": 22,
   "id": "82d1505e",
   "metadata": {},
   "outputs": [
    {
     "name": "stdout",
     "output_type": "stream",
     "text": [
      "Enter a num:178\n",
      "871\n",
      "the number aint pali\n"
     ]
    }
   ],
   "source": [
    "#Reversing a number and checking whther \n",
    "\n",
    "n = int(input(\"Enter a num:\"))\n",
    "temporary = n\n",
    "reverse = 0\n",
    "       \n",
    "while(n>0):\n",
    "    reminder= n % 10\n",
    "    reverse = reverse *10 + reminder\n",
    "    n = n//10\n",
    "       \n",
    "    \n",
    "       \n",
    "print(reverse)\n",
    "\n",
    "if (reverse==temporary):\n",
    "    print(\"the number is palindrome\")\n",
    "else:\n",
    "    print(\"the number aint pali\")\n",
    "       "
   ]
  },
  {
   "cell_type": "code",
   "execution_count": 7,
   "id": "9e1044fb",
   "metadata": {},
   "outputs": [
    {
     "name": "stdout",
     "output_type": "stream",
     "text": [
      "gnirtsehtretne\n"
     ]
    }
   ],
   "source": [
    "# to check whwther a string is palindrome or not\n",
    "a = \"Enter the String\"\n",
    "a = a.replace(\" \",\"\")\n",
    "a = a.lower()\n",
    "a = a[::-1]\n",
    "\n",
    "print(a)\n",
    "\n",
    "\n"
   ]
  },
  {
   "cell_type": "code",
   "execution_count": 23,
   "id": "8780da52",
   "metadata": {},
   "outputs": [
    {
     "name": "stdout",
     "output_type": "stream",
     "text": [
      "enter the string:Hello peeps\n",
      "speepolleH\n"
     ]
    }
   ],
   "source": [
    "def reversestring(b):\n",
    "    \n",
    "    return  b[::-1]\n",
    "x = input(\"enter the string:\")\n",
    "b = x.replace(\" \",\"\")\n",
    "\n",
    "print(reversestring(b))\n",
    "    "
   ]
  },
  {
   "cell_type": "code",
   "execution_count": 58,
   "id": "8287c64a",
   "metadata": {},
   "outputs": [],
   "source": [
    "a =[1,2,3,4,5,7,8,9]"
   ]
  },
  {
   "cell_type": "code",
   "execution_count": null,
   "id": "8623153c",
   "metadata": {},
   "outputs": [],
   "source": [
    "type(a)"
   ]
  },
  {
   "cell_type": "code",
   "execution_count": null,
   "id": "ed0720cc",
   "metadata": {},
   "outputs": [],
   "source": [
    "a.reverse()"
   ]
  },
  {
   "cell_type": "code",
   "execution_count": null,
   "id": "f5adc37e",
   "metadata": {},
   "outputs": [],
   "source": [
    "a"
   ]
  },
  {
   "cell_type": "code",
   "execution_count": null,
   "id": "3efc8e1d",
   "metadata": {},
   "outputs": [],
   "source": [
    "for i in a:\n",
    "    if "
   ]
  },
  {
   "cell_type": "code",
   "execution_count": null,
   "id": "ed0fdd49",
   "metadata": {},
   "outputs": [],
   "source": [
    "len(a)"
   ]
  },
  {
   "cell_type": "code",
   "execution_count": 59,
   "id": "85ec2983",
   "metadata": {},
   "outputs": [
    {
     "name": "stdout",
     "output_type": "stream",
     "text": [
      "[9, 8, 7, 5, 4, 3, 2, 1]\n"
     ]
    }
   ],
   "source": [
    "print(a[::-1])"
   ]
  },
  {
   "cell_type": "code",
   "execution_count": 9,
   "id": "c1355750",
   "metadata": {},
   "outputs": [
    {
     "data": {
      "text/plain": [
       "list"
      ]
     },
     "execution_count": 9,
     "metadata": {},
     "output_type": "execute_result"
    }
   ],
   "source": [
    "type(a[::-1])"
   ]
  },
  {
   "cell_type": "code",
   "execution_count": 8,
   "id": "dab6c93d",
   "metadata": {},
   "outputs": [
    {
     "name": "stdout",
     "output_type": "stream",
     "text": [
      "[11, 10, 9, 8, 5, 4, 3, 2, 1]\n",
      "[1, 2, 3, 4, 5, 8, 9, 10, 11]\n",
      "[1, 3, 5, 9, 11]\n",
      "[2, 4, 8, 10]\n",
      "[11, 9, 5, 3, 1]\n",
      "[10, 8, 4, 2]\n"
     ]
    }
   ],
   "source": [
    "#reversing a list using the slicer function\n",
    "\n",
    "\n",
    "\n",
    "a = [1,2,3,4,5,8,9,10,11]\n",
    "\n",
    "print(a[::-1])\n",
    "print(a[::1])\n",
    "print(a[::2])\n",
    "print(a[1::2])\n",
    "print(a[::-2])\n",
    "print(a[-2::-2])"
   ]
  },
  {
   "cell_type": "code",
   "execution_count": 10,
   "id": "e0cd9ce7",
   "metadata": {},
   "outputs": [
    {
     "name": "stdout",
     "output_type": "stream",
     "text": [
      "bacecaR\n"
     ]
    }
   ],
   "source": [
    "a =\"Racecab\"\n",
    "\n",
    "print(a[::-1])"
   ]
  },
  {
   "cell_type": "code",
   "execution_count": 62,
   "id": "98604045",
   "metadata": {},
   "outputs": [
    {
     "name": "stdout",
     "output_type": "stream",
     "text": [
      "[1, 7, 10, 11, 12, 13, 14]\n",
      "[1, 13, 10, 11, 12, 7, 14]\n"
     ]
    }
   ],
   "source": [
    "#swapping any two elements in a list\n",
    "\n",
    "list1 = [1,7,10,11,12,13,14]\n",
    "\n",
    "print(list1)\n",
    "len(list1)\n",
    "\n",
    "pos1 ,pos2 = 1,-2\n",
    "\n",
    "list1[pos1],list1[pos2]= list1[pos2],list1[pos1]\n",
    "print(list1)"
   ]
  },
  {
   "cell_type": "code",
   "execution_count": 63,
   "id": "da4b1fd0",
   "metadata": {},
   "outputs": [
    {
     "data": {
      "text/plain": [
       "7"
      ]
     },
     "execution_count": 63,
     "metadata": {},
     "output_type": "execute_result"
    }
   ],
   "source": [
    "len(list1)"
   ]
  },
  {
   "cell_type": "code",
   "execution_count": 64,
   "id": "fbbd0d11",
   "metadata": {},
   "outputs": [],
   "source": [
    "a = list1"
   ]
  },
  {
   "cell_type": "code",
   "execution_count": 65,
   "id": "57e9e11b",
   "metadata": {},
   "outputs": [
    {
     "name": "stdout",
     "output_type": "stream",
     "text": [
      "[1, 13, 10, 11, 12, 7, 14]\n"
     ]
    }
   ],
   "source": [
    "for i in range(0,len(a)):\n",
    "    temp = a[i]\n",
    "    a[i]= a[len(a)-i-1]\n",
    "    a[len(a)-i-1]= temp\n",
    "print(a)"
   ]
  },
  {
   "cell_type": "code",
   "execution_count": null,
   "id": "662450c5",
   "metadata": {},
   "outputs": [],
   "source": [
    "list1"
   ]
  },
  {
   "cell_type": "code",
   "execution_count": 66,
   "id": "08a75510",
   "metadata": {},
   "outputs": [
    {
     "name": "stdout",
     "output_type": "stream",
     "text": [
      "[13, 12, 7, 5, 4, 3, 2, 1]\n"
     ]
    }
   ],
   "source": [
    "a = [1,2,3,4,5,7,12,13]\n",
    "length =len(a)\n",
    "b=[]\n",
    "\n",
    "for i in range(0,length):\n",
    "    b.insert(i,a[length-i-1])\n",
    "print(b)\n",
    "    \n",
    "    \n"
   ]
  },
  {
   "cell_type": "code",
   "execution_count": 67,
   "id": "1015d49c",
   "metadata": {},
   "outputs": [
    {
     "name": "stdout",
     "output_type": "stream",
     "text": [
      "13\n",
      "12\n",
      "7\n",
      "5\n",
      "4\n",
      "3\n",
      "2\n",
      "1\n"
     ]
    }
   ],
   "source": [
    "a = [1,2,3,4,5,7,12,13]\n",
    "length =len(a)\n",
    "for i in range(0,length):\n",
    "    \n",
    "    print(a[length-i-1])\n"
   ]
  },
  {
   "cell_type": "code",
   "execution_count": 68,
   "id": "e6f76306",
   "metadata": {},
   "outputs": [
    {
     "name": "stdout",
     "output_type": "stream",
     "text": [
      "{'I': 1, 'f': 2, ' ': 14, 'y': 4, 'o': 5, 'u': 4, \"'\": 3, 'r': 7, 'e': 13, 'v': 1, 'i': 6, 's': 5, 't': 3, 'n': 5, 'g': 3, 'h': 3, 'p': 1, 'a': 5, ',': 1, 'l': 2, 'k': 1, 'b': 1, 'c': 3, 'd': 1, 'm': 1}\n"
     ]
    }
   ],
   "source": [
    "a =\"If you're visiting this page, you're likely here because you're searching for a random sentence\"\n",
    "\n",
    "\n",
    "dict ={}\n",
    "\n",
    "\n",
    "for i in a:\n",
    "    dict[i] = 0\n",
    "    \n",
    "\n",
    "for i in a:\n",
    "    dict[i] += 1\n",
    "    \n",
    "print(dict)\n",
    "    "
   ]
  },
  {
   "cell_type": "code",
   "execution_count": 20,
   "id": "858a8054",
   "metadata": {},
   "outputs": [
    {
     "name": "stdout",
     "output_type": "stream",
     "text": [
      "Please enter the first String:Hello\n",
      "Please enter the second string:hello\n",
      "{'h': 1, 'e': 1, 'l': 2, 'o': 1}\n",
      "{'h': 1, 'e': 1, 'l': 2, 'o': 1}\n",
      "they are anagrams\n"
     ]
    }
   ],
   "source": [
    "#anagram or not using less time complexity\n",
    "\n",
    "a =input(\"Please enter the first String:\")\n",
    "b = input(\"Please enter the second string:\")\n",
    "#converting the words to lower case\n",
    "\n",
    "a=a.lower()\n",
    "b =b.lower()\n",
    "#getting rid of spaces\n",
    "a = a.replace(\" \",\"\")\n",
    "b = b.replace(\" \",\"\")\n",
    "dicta = {}\n",
    "dictb = {}\n",
    "\n",
    "for i in a:\n",
    "    dicta[i]=0\n",
    "for i in a:\n",
    "    dicta[i] += 1\n",
    "print(dicta)\n",
    "\n",
    "for j in b:\n",
    "    dictb[j]=0\n",
    "for j in b:\n",
    "    dictb[j] += 1\n",
    "print(dictb)\n",
    "\n",
    "if dicta == dictb:\n",
    "    print(\"they are anagrams\")\n",
    "else:\n",
    "    print(\"they are nt anagrams\")\n",
    "    \n",
    "\n"
   ]
  },
  {
   "cell_type": "code",
   "execution_count": 12,
   "id": "3446f184",
   "metadata": {},
   "outputs": [
    {
     "name": "stdout",
     "output_type": "stream",
     "text": [
      "Please enter the string:Hello how are you today\n",
      "The number of Vowels 9\n",
      "The number of Consonants 10\n"
     ]
    }
   ],
   "source": [
    "#checking the number of vowels and consonants\n",
    "\n",
    "\n",
    "a =input(\"Please enter the string:\")\n",
    "a= a.replace(\" \",\"\")\n",
    "a =a.lower()\n",
    "\n",
    "vowels = 0\n",
    "consonants = 0\n",
    "\n",
    "for i in a:\n",
    "    if(i=='a'or i=='e'or i==\"i\" or i==\"o\" or  i==\"u\"):\n",
    "        vowels=vowels+1\n",
    "        \n",
    "    else:\n",
    "        consonants=consonants+1\n",
    "        \n",
    "print(\"The number of Vowels\",vowels)\n",
    "print(\"The number of Consonants\",consonants)\n",
    "\n"
   ]
  },
  {
   "cell_type": "code",
   "execution_count": 70,
   "id": "0cc69d25",
   "metadata": {},
   "outputs": [
    {
     "name": "stdout",
     "output_type": "stream",
     "text": [
      "the sum of all the elements in an array:33\n"
     ]
    }
   ],
   "source": [
    "#sum of all elemnts in an array\n",
    "\n",
    "\n",
    "a =[1,2,4,5,6,7,8]\n",
    "\n",
    "sum = 0\n",
    "\n",
    "for i in range(0,len(a)):\n",
    "    sum = sum +a[i]\n",
    "    \n",
    "print(\"the sum of all the elements in an array:\"+str(sum))"
   ]
  },
  {
   "cell_type": "code",
   "execution_count": 15,
   "id": "3bb0ba0c",
   "metadata": {},
   "outputs": [
    {
     "name": "stdout",
     "output_type": "stream",
     "text": [
      "Enter a number:44\n",
      "44 is a prime number\n"
     ]
    }
   ],
   "source": [
    "#to check wthere the numbers are prime or not\n",
    "\n",
    "a = int(input(\"Enter a number:\"))\n",
    "\n",
    "#putting a condition to check whethere the number is greater than 1\n",
    "\n",
    "#defining a flag variable\n",
    "\n",
    "flag = False\n",
    "if a > 1:\n",
    "    \n",
    "    for i in range(2,a):\n",
    "        if(a % i)==0:\n",
    "            flag=True\n",
    "            break\n",
    "            \n",
    "#check the flag for results and print\n",
    "# we are using flags just to make sure the loops stops ruuning and we can break and use the result \n",
    "#to declare the result\n",
    "if flag:\n",
    "    print(a,\"is a prime number\")\n",
    "else:\n",
    "    print(a,\"is not a prime number\")\n",
    "            \n",
    "            \n",
    "        \n",
    "        \n",
    "\n",
    "\n"
   ]
  },
  {
   "cell_type": "code",
   "execution_count": 16,
   "id": "5bb88794",
   "metadata": {},
   "outputs": [
    {
     "name": "stdout",
     "output_type": "stream",
     "text": [
      "Enter your string:Hello stranger\n",
      "Enter the character you wana change:e\n",
      "Hllo strangr\n"
     ]
    }
   ],
   "source": [
    "#use of methods to replace occuence of  given character in a string\n",
    "\n",
    "a = input(\"Enter your string:\")\n",
    "b = str(input(\"Enter the character you wana change:\"))\n",
    "\n",
    "c = a.replace(b,\"\")\n",
    "print(c)"
   ]
  },
  {
   "cell_type": "markdown",
   "id": "7b7a0a98",
   "metadata": {},
   "source": [
    "# creating a class and objects\n",
    "\n"
   ]
  },
  {
   "cell_type": "code",
   "execution_count": 30,
   "id": "13e385ca",
   "metadata": {},
   "outputs": [
    {
     "name": "stdout",
     "output_type": "stream",
     "text": [
      "1\n",
      "Luka Tony\n",
      "Footballer\n",
      "1000000\n",
      "3\n",
      "Luka balack\n",
      "Football coach\n",
      "10000000000\n"
     ]
    }
   ],
   "source": [
    "class students:\n",
    "    pass\n",
    "\n",
    "s1 =students()\n",
    "s2 =students()\n",
    "#object 1\n",
    "s1.id = 1\n",
    "s1.name = \"Luka Tony\"\n",
    "s1.dept = \"Footballer\"\n",
    "s1.fees = \"1000000\"\n",
    "\n",
    "print(s1.id)\n",
    "print(s1.name)\n",
    "print(s1.dept)\n",
    "print(s1.fees)\n",
    "\n",
    "#second object\n",
    "\n",
    "s2.id = 3\n",
    "s2.name = \"Luka balack\"\n",
    "s2.dept = \"Football coach\"\n",
    "s2.fees = \"10000000000\"\n",
    "\n",
    "print(s2.id)\n",
    "print(s2.name)\n",
    "print(s2.dept)\n",
    "print(s2.fees)\n"
   ]
  },
  {
   "cell_type": "code",
   "execution_count": null,
   "id": "7c561629",
   "metadata": {},
   "outputs": [],
   "source": [
    "class Audi:\n",
    "    pass"
   ]
  },
  {
   "cell_type": "code",
   "execution_count": 5,
   "id": "2ee07ced",
   "metadata": {},
   "outputs": [],
   "source": [
    "#creating a method in the class and use of self\n",
    "class Audi:\n",
    "    def start(self):\n",
    "        print(\"lets roll with the bitches\")\n",
    "    "
   ]
  },
  {
   "cell_type": "code",
   "execution_count": 6,
   "id": "7aaec583",
   "metadata": {},
   "outputs": [
    {
     "name": "stdout",
     "output_type": "stream",
     "text": [
      "lets roll with the bitches\n"
     ]
    }
   ],
   "source": [
    "#creating on object for the class\n",
    "c1 =Audi()\n",
    "c1.start()"
   ]
  },
  {
   "cell_type": "code",
   "execution_count": null,
   "id": "03102d0c",
   "metadata": {},
   "outputs": [],
   "source": [
    "#use of constructor and use of init() method\n",
    "\n",
    "class employee:\n",
    "    def __init__(self,id,salary,bonus):\n",
    "        self.id = id\n",
    "        self.salary = salary\n",
    "        self.bonus = bonus\n",
    "        \n",
    "#creating a method to display the details of multiple employees\n",
    "#to avoid wrting print statement everytime instead put it in a fucntion\n",
    "\n",
    "    \n",
    "        \n",
    "e1 =employee(2,50000,450)\n",
    "print(e1.id)\n",
    "print(e1.salary)\n",
    "print(e1.bonus)\n",
    "\n",
    "e2 =employee(4,150000,4500)\n",
    "print(e2.id)\n",
    "print(e2.salary)\n",
    "print(e2.bonus)\n",
    "\n",
    "\n",
    "        "
   ]
  },
  {
   "cell_type": "code",
   "execution_count": 11,
   "id": "471aa5b3",
   "metadata": {},
   "outputs": [
    {
     "name": "stdout",
     "output_type": "stream",
     "text": [
      "1\n",
      "60000\n",
      "70\n",
      "78 900000 7500\n"
     ]
    }
   ],
   "source": [
    "class employees:\n",
    "    def __init__(self,id1,salary1,bonus1):\n",
    "    \n",
    "        self.id = id1\n",
    "        self.salary = salary1\n",
    "        self.bonus = bonus1\n",
    "        \n",
    "        #creating a function for displaying the varied results in details\n",
    "    def display_details(self):\n",
    "        print(self.id,self.salary,self.bonus)\n",
    "        \n",
    "        \n",
    "e1 =employees(1,60000,70)\n",
    "print(e1.id)\n",
    "print(e1.salary)\n",
    "print(e1.bonus)\n",
    "\n",
    "e2 =employees(78,900000,7500)\n",
    "e2.display_details()"
   ]
  },
  {
   "cell_type": "code",
   "execution_count": 24,
   "id": "bdc59776",
   "metadata": {},
   "outputs": [
    {
     "name": "stdout",
     "output_type": "stream",
     "text": [
      "2000 500\n",
      "78 900000 7500\n",
      "2000 500\n"
     ]
    }
   ],
   "source": [
    "class employees:\n",
    "    def __init__(self,id1,salary1,bonus1):\n",
    "    \n",
    "        self.id = id1\n",
    "        self.salary = salary1\n",
    "        self.bonus = bonus1\n",
    "        self.f1 = self.facility()\n",
    "        \n",
    "        #creating a function for displaying the varied results in details\n",
    "    def display_details(self):\n",
    "        print(self.id,self.salary,self.bonus)\n",
    "        \n",
    "    class facility:\n",
    "        def __init__(self):\n",
    "            self.travel = 2000\n",
    "            self.pf =500\n",
    "            \n",
    "        def show(self):\n",
    "            print(self.travel,self.pf)\n",
    "        \n",
    "        \n",
    "e1 =employees(1,60000,70)\n",
    "\n",
    "e1.f1.show()\n",
    "\n",
    "e2 =employees(78,900000,7500)\n",
    "e2.display_details()\n",
    "e2.f1.show()"
   ]
  },
  {
   "cell_type": "markdown",
   "id": "f92ff1fa",
   "metadata": {},
   "source": [
    "# inheritance single and multiple"
   ]
  },
  {
   "cell_type": "code",
   "execution_count": 29,
   "id": "0886a6e9",
   "metadata": {},
   "outputs": [
    {
     "name": "stdout",
     "output_type": "stream",
     "text": [
      "this is the base class-- car\n",
      "this is inside class -- audi\n"
     ]
    }
   ],
   "source": [
    "class car:\n",
    "    def F1(self):\n",
    "        print(\"this is the base class-- car\")\n",
    "        \n",
    "        \n",
    "class audi(car):\n",
    "    def F2(self):\n",
    "        print(\"this is a derived class -- audi\")\n",
    "        \n",
    "#creating an object and assiging to both the classes\n",
    "a1 = audi()\n",
    "a1.F1()\n",
    "a1.F2()\n",
    "\n",
    "#this is single inheritance\n",
    "    "
   ]
  },
  {
   "cell_type": "code",
   "execution_count": 47,
   "id": "586437eb",
   "metadata": {},
   "outputs": [
    {
     "name": "stdout",
     "output_type": "stream",
     "text": [
      "this is the base class-- car\n",
      "this is another base class--- vehicle\n"
     ]
    }
   ],
   "source": [
    "#inheriting from two different classes\n",
    "\n",
    "class car:\n",
    "    def F1(self):\n",
    "        print(\"this is the base class-- car\")\n",
    "     \n",
    "    \n",
    "    \n",
    "class vehicle:\n",
    "    def F2(self):\n",
    "        print(\"this is another base class--- vehicle\")\n",
    "        \n",
    "class audi(car,vehicle):\n",
    "    def F3(self):\n",
    "        print(\"this is a derived class -- audi\")\n",
    "        \n",
    "#creating an object and assiging to both the classes\n",
    "a1 = audi()\n",
    "a1.F1()\n",
    "a1.F2()\n",
    "\n",
    "#here we can see a1 is an object from audi which is extended or derived from both class and vehicle\n",
    "#and whenver we call any fucntions with respect to the fucntions from class vehicle and class car\n",
    "#it is responding"
   ]
  },
  {
   "cell_type": "markdown",
   "id": "0230b9cd",
   "metadata": {},
   "source": [
    "#multilevel inheritance vs multiple inheritance\n",
    "# miltiple  inheritanc a class is extended or derived from many classes like audi is derived from \n",
    "# vehicles and cars\n",
    "\n",
    "# in multilevel inheritance it a derived class is generated from a base class and the derived class\n",
    "# is then used as base class to derive classes out if it as it reduces complexation levl over multiple\n",
    "# inheritance\n",
    "\n"
   ]
  },
  {
   "cell_type": "code",
   "execution_count": 55,
   "id": "9aa5de4d",
   "metadata": {},
   "outputs": [
    {
     "name": "stdout",
     "output_type": "stream",
     "text": [
      "this is the base class-- car\n",
      "this is another base class--- vehicle\n",
      "this is the base class-- car\n"
     ]
    }
   ],
   "source": [
    "#multilevel inheritance\n",
    "\n",
    "class car:\n",
    "    def F1(self):\n",
    "        print(\"this is the base class-- car\")\n",
    "     \n",
    "    \n",
    "    \n",
    "class vehicle(car):\n",
    "    def F2(self):\n",
    "        print(\"this is another base class--- vehicle\")\n",
    "        \n",
    "class audi(vehicle):\n",
    "    def F3(self):\n",
    "        print(\"this is a derived class -- audi\")\n",
    "        \n",
    "#creating an object and assiging to both the classes\n",
    "v1 = vehicle()\n",
    "v1.F1()\n",
    "a1 = audi()\n",
    "a1.F2()\n",
    "a1.F1()"
   ]
  },
  {
   "cell_type": "markdown",
   "id": "a0a1931f",
   "metadata": {},
   "source": [
    "# abstract class"
   ]
  },
  {
   "cell_type": "code",
   "execution_count": 56,
   "id": "104adb03",
   "metadata": {},
   "outputs": [],
   "source": [
    "from abc import ABC,abstractclassmethod\n",
    "#in abstract class we can have to name the fucntion same\n"
   ]
  },
  {
   "cell_type": "code",
   "execution_count": 40,
   "id": "91541f2a",
   "metadata": {},
   "outputs": [],
   "source": [
    "class Polygon:\n",
    "    def __init__(self, no_of_sides):\n",
    "        self.n = no_of_sides\n",
    "        self.sides = [0 for i in range(no_of_sides)]\n",
    "\n",
    "    def inputSides(self):\n",
    "        self.sides = [float(input(\"Enter side \"+str(i+1)+\" : \")) for i in range(self.n)]\n",
    "\n",
    "    def dispSides(self):\n",
    "        for i in range(self.n):\n",
    "            print(\"Side\",i+1,\"is\",self.sides[i])"
   ]
  },
  {
   "cell_type": "code",
   "execution_count": 43,
   "id": "e2a64c2f",
   "metadata": {},
   "outputs": [],
   "source": [
    "class Rectangle(Polygon):\n",
    "    def __init__(self):\n",
    "        Polygon.__init__(self,4)\n",
    "\n",
    "    def findArea(self):\n",
    "        a, b, c, d = self.sides\n",
    "        # calculate the semi-perimeter\n",
    "        #s = (a + b + c) / 2\n",
    "        area = a * b\n",
    "        print('The area of the rectangle is %0.2f' %area)"
   ]
  },
  {
   "cell_type": "code",
   "execution_count": 44,
   "id": "90928467",
   "metadata": {},
   "outputs": [
    {
     "name": "stdout",
     "output_type": "stream",
     "text": [
      "Enter side 1 : 9\n",
      "Enter side 2 : 4\n",
      "Enter side 3 : 9\n",
      "Enter side 4 : 4\n",
      "The area of the rectangle is 36.00\n"
     ]
    }
   ],
   "source": [
    "r = Rectangle()\n",
    "r.inputSides()\n",
    "r.findArea()"
   ]
  },
  {
   "cell_type": "code",
   "execution_count": 36,
   "id": "36a056e3",
   "metadata": {},
   "outputs": [],
   "source": [
    "class Triangle(Polygon):\n",
    "    def __init__(self):\n",
    "        Polygon.__init__(self,3)\n",
    "\n",
    "    def findArea(self):\n",
    "        a, b, c = self.sides\n",
    "        # calculate the semi-perimeter\n",
    "        s = (a + b + c) / 2\n",
    "        area = (s*(s-a)*(s-b)*(s-c)) ** 0.5\n",
    "        print('The area of the triangle is %0.2f' %area)"
   ]
  },
  {
   "cell_type": "code",
   "execution_count": 38,
   "id": "4934f187",
   "metadata": {},
   "outputs": [
    {
     "name": "stdout",
     "output_type": "stream",
     "text": [
      "Enter side 1 : 6\n",
      "Enter side 2 : 8\n",
      "Enter side 3 : 9\n",
      "The area of the triangle is 23.53\n"
     ]
    }
   ],
   "source": [
    "t = Triangle()\n",
    "t.inputSides()\n",
    "t.findArea()"
   ]
  },
  {
   "cell_type": "code",
   "execution_count": null,
   "id": "9ae3cd9e",
   "metadata": {},
   "outputs": [],
   "source": []
  }
 ],
 "metadata": {
  "kernelspec": {
   "display_name": "Python 3 (ipykernel)",
   "language": "python",
   "name": "python3"
  },
  "language_info": {
   "codemirror_mode": {
    "name": "ipython",
    "version": 3
   },
   "file_extension": ".py",
   "mimetype": "text/x-python",
   "name": "python",
   "nbconvert_exporter": "python",
   "pygments_lexer": "ipython3",
   "version": "3.9.7"
  }
 },
 "nbformat": 4,
 "nbformat_minor": 5
}
