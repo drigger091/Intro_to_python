{
 "cells": [
  {
   "cell_type": "code",
   "execution_count": null,
   "id": "dd6ab13e",
   "metadata": {},
   "outputs": [],
   "source": [
    "from flask import Flask"
   ]
  },
  {
   "cell_type": "code",
   "execution_count": 1,
   "id": "9efa13c4",
   "metadata": {},
   "outputs": [],
   "source": [
    "import os \n",
    "\n",
    "\n",
    "import pandas as pd\n",
    "import numpy as np"
   ]
  },
  {
   "cell_type": "code",
   "execution_count": 2,
   "id": "df7b0ea8",
   "metadata": {},
   "outputs": [
    {
     "name": "stdout",
     "output_type": "stream",
     "text": [
      "[10, 20, 30, 40, 50, 50, 80, 90]\n"
     ]
    }
   ],
   "source": [
    "list1 =[10,20,30,40,50,50,80,90]\n",
    "print(list1)"
   ]
  },
  {
   "cell_type": "code",
   "execution_count": 4,
   "id": "0fb2b33d",
   "metadata": {},
   "outputs": [
    {
     "name": "stdout",
     "output_type": "stream",
     "text": [
      "[6, 20, 30, 40, 50, 50, 80, 90]\n",
      "[10, 6, 20, 30, 40, 50, 50, 80, 90]\n"
     ]
    }
   ],
   "source": [
    "list1[0]= 6\n",
    "print(list1)\n",
    "\n",
    "\n",
    "list1.insert(0,10)\n",
    "print(list1)"
   ]
  },
  {
   "cell_type": "code",
   "execution_count": 2,
   "id": "b9785684",
   "metadata": {},
   "outputs": [
    {
     "name": "stdout",
     "output_type": "stream",
     "text": [
      "yes there are duplicates\n"
     ]
    }
   ],
   "source": [
    "#checking for duplicacy in alist\n",
    "\n",
    "# we use the list.count() function and creating a function\n",
    "def checkifduplicates(list1):\n",
    "\n",
    "    for i in list1:\n",
    "        if list1.count(i) > 1:\n",
    "            return True\n",
    "    return False\n",
    "\n",
    "\n",
    "result = checkifduplicates(list1)\n",
    "\n",
    "if result:\n",
    "    print(\"yes there are duplicates\")\n",
    "    \n",
    "else:\n",
    "    print(\"no duplicates\")\n"
   ]
  },
  {
   "cell_type": "code",
   "execution_count": 3,
   "id": "209affb1",
   "metadata": {},
   "outputs": [
    {
     "name": "stdout",
     "output_type": "stream",
     "text": [
      "{1, 2, 4, 5}\n"
     ]
    }
   ],
   "source": [
    "set ={1,2,1,4,5}\n",
    "print(set)"
   ]
  },
  {
   "cell_type": "code",
   "execution_count": 4,
   "id": "1e44ba7e",
   "metadata": {},
   "outputs": [],
   "source": [
    "list2 = [1,2,3,4,5,6]"
   ]
  },
  {
   "cell_type": "code",
   "execution_count": 7,
   "id": "f1c61e7f",
   "metadata": {},
   "outputs": [
    {
     "ename": "TypeError",
     "evalue": "'set' object is not callable",
     "output_type": "error",
     "traceback": [
      "\u001b[1;31m---------------------------------------------------------------------------\u001b[0m",
      "\u001b[1;31mTypeError\u001b[0m                                 Traceback (most recent call last)",
      "Input \u001b[1;32mIn [7]\u001b[0m, in \u001b[0;36m<cell line: 7>\u001b[1;34m()\u001b[0m\n\u001b[0;32m      4\u001b[0m listx \u001b[38;5;241m=\u001b[39m [\u001b[38;5;241m1\u001b[39m,\u001b[38;5;241m2\u001b[39m,\u001b[38;5;241m3\u001b[39m,\u001b[38;5;241m4\u001b[39m,\u001b[38;5;241m5\u001b[39m,\u001b[38;5;241m6\u001b[39m]\n\u001b[0;32m      5\u001b[0m listy \u001b[38;5;241m=\u001b[39m [\u001b[38;5;241m7\u001b[39m,\u001b[38;5;241m8\u001b[39m,\u001b[38;5;241m9\u001b[39m,\u001b[38;5;241m10\u001b[39m,\u001b[38;5;241m11\u001b[39m,\u001b[38;5;241m12\u001b[39m]\n\u001b[1;32m----> 7\u001b[0m a\u001b[38;5;241m=\u001b[39m \u001b[38;5;28;43mset\u001b[39;49m\u001b[43m(\u001b[49m\u001b[43m(\u001b[49m\u001b[43mlistx\u001b[49m\u001b[43m)\u001b[49m\u001b[43m)\u001b[49m\n\u001b[0;32m      8\u001b[0m b\u001b[38;5;241m=\u001b[39m \u001b[38;5;28mset\u001b[39m((listy))\n\u001b[0;32m     10\u001b[0m \u001b[38;5;28;01mif\u001b[39;00m a\u001b[38;5;241m==\u001b[39mb:\n",
      "\u001b[1;31mTypeError\u001b[0m: 'set' object is not callable"
     ]
    }
   ],
   "source": [
    "#comparing two llist\n",
    "\n",
    "\n",
    "listx = [1,2,3,4,5,6]\n",
    "listy = [7,8,9,10,11,12]\n",
    "\n",
    "a= set((listx))\n",
    "b= set((listy))\n",
    "\n",
    "if a==b:\n",
    "    print(\"The list are same\")\n",
    "else:\n",
    "    print(\"they are not same\")"
   ]
  },
  {
   "cell_type": "code",
   "execution_count": 1,
   "id": "1c8684fa",
   "metadata": {},
   "outputs": [],
   "source": [
    "import pandas as pd\n",
    "import numpy as np"
   ]
  },
  {
   "cell_type": "code",
   "execution_count": 3,
   "id": "8a7c6efb",
   "metadata": {},
   "outputs": [
    {
     "data": {
      "text/plain": [
       "0    10\n",
       "1    11\n",
       "2    12\n",
       "3    13\n",
       "4    14\n",
       "5    15\n",
       "6    16\n",
       "dtype: int64"
      ]
     },
     "execution_count": 3,
     "metadata": {},
     "output_type": "execute_result"
    }
   ],
   "source": [
    "s1 = pd.Series([1,2,3,4,5,6])\n",
    "s2 = pd.Series([10,11,12,13,14,15,16])\n",
    "\n",
    "s1\n",
    "s2"
   ]
  },
  {
   "cell_type": "code",
   "execution_count": 4,
   "id": "27eed01b",
   "metadata": {},
   "outputs": [
    {
     "data": {
      "text/plain": [
       "0    11.0\n",
       "1    13.0\n",
       "2    15.0\n",
       "3    17.0\n",
       "4    19.0\n",
       "5    21.0\n",
       "6     NaN\n",
       "dtype: float64"
      ]
     },
     "execution_count": 4,
     "metadata": {},
     "output_type": "execute_result"
    }
   ],
   "source": [
    "s1 + s2"
   ]
  },
  {
   "cell_type": "code",
   "execution_count": 5,
   "id": "90fb2217",
   "metadata": {},
   "outputs": [
    {
     "data": {
      "text/plain": [
       "array([10, 11, 12, 13, 14, 15, 16, 17, 18, 19, 20, 21, 22, 23, 24, 25, 26,\n",
       "       27, 28, 29, 30, 31, 32, 33, 34, 35, 36, 37, 38, 39, 40, 41, 42, 43,\n",
       "       44, 45, 46, 47, 48, 49, 50, 51, 52, 53, 54, 55, 56, 57, 58, 59, 60,\n",
       "       61, 62, 63, 64, 65, 66, 67, 68, 69, 70, 71, 72, 73, 74, 75, 76, 77,\n",
       "       78, 79, 80, 81, 82, 83, 84, 85, 86, 87, 88, 89, 90, 91, 92, 93, 94,\n",
       "       95, 96, 97, 98, 99])"
      ]
     },
     "execution_count": 5,
     "metadata": {},
     "output_type": "execute_result"
    }
   ],
   "source": [
    "b1 =np.arange(10,100)\n",
    "b1"
   ]
  },
  {
   "cell_type": "code",
   "execution_count": 8,
   "id": "aa107ae2",
   "metadata": {},
   "outputs": [],
   "source": [
    "a1 = [1,3,5,7,9]\n",
    "a2 =[2,4,6,8,10,12]\n",
    "a3 =[]\n",
    "\n",
    "n1 = len(a1)\n",
    "n2 = len(a2)"
   ]
  },
  {
   "cell_type": "code",
   "execution_count": 9,
   "id": "6ec7a387",
   "metadata": {},
   "outputs": [
    {
     "name": "stdout",
     "output_type": "stream",
     "text": [
      "5\n",
      "6\n"
     ]
    }
   ],
   "source": [
    "#checking the length of the list\n",
    "print(n1)\n",
    "print(n2)"
   ]
  },
  {
   "cell_type": "code",
   "execution_count": 17,
   "id": "6d76ba7d",
   "metadata": {},
   "outputs": [],
   "source": [
    "#creating a custom fucntion\n",
    "\n",
    "def mergingarrays(a1,a2,n1,n2):\n",
    "    a3 = [None]*n1 + n2\n",
    "    \n",
    "    i = 0\n",
    "    j = 0\n",
    "    k = 0\n",
    "    \n",
    "    #running both the arrays and placing the fist smaller elements\n",
    "    while i<n1 and j<n2:\n",
    "        if a1[i] < a2[j]:\n",
    "            a3[k] =a1[i]\n",
    "            \n",
    "            k= k+1\n",
    "            i= i+1\n",
    "        else:\n",
    "            a3[k]=a2[j]\n",
    "            k= k+1\n",
    "            j= j+1\n",
    "        #storing the remaining elemrnts of first array\n",
    "            \n",
    "    while  i<n1:\n",
    "        n3[k] = n1[i]\n",
    "        k= k+1\n",
    "        i= i+1\n",
    "        \n",
    "    while  j<n2:\n",
    "        n3[k] = n2[j]\n",
    "        k= k+1\n",
    "        j= j+1\n",
    "    print(\"array after the merge\")\n",
    "    for i in range(n1+n2):\n",
    "        print(str(n3[i]),end =\" \")\n",
    "    "
   ]
  },
  {
   "cell_type": "code",
   "execution_count": 16,
   "id": "bcdfb64c",
   "metadata": {},
   "outputs": [
    {
     "data": {
      "text/plain": [
       "0"
      ]
     },
     "execution_count": 16,
     "metadata": {},
     "output_type": "execute_result"
    }
   ],
   "source": [
    "#checking teh length of a3\n",
    "len(a3)"
   ]
  },
  {
   "cell_type": "code",
   "execution_count": 18,
   "id": "e5f00211",
   "metadata": {},
   "outputs": [
    {
     "name": "stdout",
     "output_type": "stream",
     "text": [
      "number of elements:5\n",
      "1\n",
      "2\n",
      "3\n",
      "4\n",
      "5\n",
      "[1, 2, 3, 4, 5]\n"
     ]
    }
   ],
   "source": [
    "a1 =[]\n",
    "\n",
    "#number of elemnts in a list\n",
    "n = int(input(\"number of elements:\"))\n",
    "for i in range(0,n):\n",
    "    add = int(input())\n",
    "    a1.append(add)\n",
    "print(a1)"
   ]
  },
  {
   "cell_type": "code",
   "execution_count": null,
   "id": "d798574f",
   "metadata": {},
   "outputs": [],
   "source": [
    "list1 =[]\n",
    "\n",
    "#number of elemnts in a list\n",
    "n = int(input(\"number of elements:\"))\n",
    "for i in range(0,n):\n",
    "    add = int(input())\n",
    "    list1.append(add)\n",
    "print(list1)\n",
    "\n",
    "list2 =[]\n",
    "\n",
    "#number of elemnts in a list\n",
    "n = int(input(\"number of elements:\"))\n",
    "for i in range(0,n):\n",
    "    add = int(input())\n",
    "    list2.append(add)\n",
    "print(list2)\n",
    "\n",
    "\n",
    "\n",
    "class arraymerger:\n",
    "    \n",
    "    def __init__(self,a1,a2):\n",
    "        self.list1 = a1\n",
    "        self.list2 = a2\n",
    "    \n",
    "    def merge(self):\n",
    "        x=[]\n",
    "        i=0\n",
    "        j=0\n",
    "\n",
    "        while (i<len(a1) and j< len(a2)):\n",
    "            if(a1[i]<a2[j]):\n",
    "                x.append(a1[i])\n",
    "                i= i+1\n",
    "            elif(a1[i]>a2[j]):\n",
    "                x.append(a2[j])\n",
    "                j= j+1\n",
    "            else:\n",
    "                x.append(a1[i])\n",
    "                x.append(a2[j])\n",
    "                j = j+1\n",
    "                i = i=1\n",
    "        while(i<len(a1)):\n",
    "            x.append(a1[i])\n",
    "            i=i+1\n",
    "        while(j<len(a2)):\n",
    "            x.append(a2[j])\n",
    "            j= j+1\n",
    "        return x\n",
    "\n",
    "ob = arraymerger(a1,a2)\n",
    "\n",
    "\n",
    "print(ob.merge())"
   ]
  },
  {
   "cell_type": "code",
   "execution_count": null,
   "id": "c3ceba4d",
   "metadata": {},
   "outputs": [],
   "source": []
  }
 ],
 "metadata": {
  "kernelspec": {
   "display_name": "Python 3 (ipykernel)",
   "language": "python",
   "name": "python3"
  },
  "language_info": {
   "codemirror_mode": {
    "name": "ipython",
    "version": 3
   },
   "file_extension": ".py",
   "mimetype": "text/x-python",
   "name": "python",
   "nbconvert_exporter": "python",
   "pygments_lexer": "ipython3",
   "version": "3.9.12"
  }
 },
 "nbformat": 4,
 "nbformat_minor": 5
}
