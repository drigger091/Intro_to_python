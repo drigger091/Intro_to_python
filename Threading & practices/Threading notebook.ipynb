{
 "cells": [
  {
   "cell_type": "code",
   "execution_count": 33,
   "metadata": {},
   "outputs": [
    {
     "name": "stdout",
     "output_type": "stream",
     "text": [
      "Hello World\n",
      "Hello World\n",
      "Hello World\n",
      "Hello World\n"
     ]
    }
   ],
   "source": [
    "\n",
    "from threading import Thread\n",
    "\n",
    "# create a function comtaining to be executed pararelly\n",
    "\n",
    "def display():\n",
    "\n",
    "    for i in range(4):\n",
    "\n",
    "        print(\"Hello World\")\n",
    "\n",
    "\n",
    "# create a new thread\n",
    "\n",
    "t1 = Thread(target=display)\n",
    "\n",
    "# start the new thread\n",
    "\n",
    "t1.start()"
   ]
  },
  {
   "cell_type": "code",
   "execution_count": 34,
   "metadata": {},
   "outputs": [
    {
     "name": "stdout",
     "output_type": "stream",
     "text": [
      "python is tough\n",
      "python is tough\n",
      "python is tough\n",
      "python is tough\n",
      "python is tough\n"
     ]
    }
   ],
   "source": [
    "# checking with arguments steps\n",
    "\n",
    "\n",
    "def display(n,msg):\n",
    "\n",
    "    for i in range(n):\n",
    "\n",
    "        print(msg)\n",
    "\n",
    "\n",
    "\n",
    "\n",
    "t2 = Thread(target=display,args=(5,\"python is tough\"))\n",
    "\n",
    "t2.start()"
   ]
  },
  {
   "cell_type": "markdown",
   "metadata": {},
   "source": [
    "# even if one argument is passed it should pass troigh as an argument in a tuple form\n",
    "args = (5,) other wise typeerror\n",
    "\n",
    "# we can also use kwargs ={'n':4} then we have to use dictionary instead of tuple it passes as astring then"
   ]
  },
  {
   "cell_type": "code",
   "execution_count": 35,
   "metadata": {},
   "outputs": [
    {
     "name": "stdout",
     "output_type": "stream",
     "text": [
      "T1 Thread details: <Thread(Thread-50, started 20312)>This is python\n",
      "This is python\n",
      "This is python\n",
      "This is python\n",
      "\n",
      "Hello World\n",
      "Hello World\n",
      "Hello World\n",
      "Hello World\n"
     ]
    }
   ],
   "source": [
    " # example of parallele xecution\n",
    "\n",
    "\n",
    "from threading import Thread ,current_thread\n",
    "\n",
    "# create a function comtaining to be executed pararelly\n",
    "\n",
    "def display():\n",
    "\n",
    "    print(\"T1 Thread details:\",current_thread())   # to print the name u just print current_thread().name or just address current_thread().ident\n",
    "\n",
    "    for i in range(4):\n",
    "\n",
    "        print(\"Hello World\")\n",
    "\n",
    "\n",
    "# create a new thread\n",
    "\n",
    "t1 = Thread(target=display)\n",
    "\n",
    "# start the new thread\n",
    "\n",
    "t1.start()\n",
    "\n",
    "\n",
    "for i in range(4):\n",
    "    print(\"This is python\")"
   ]
  },
  {
   "cell_type": "markdown",
   "metadata": {},
   "source": [
    "# now lets see of your function is a method in a class"
   ]
  },
  {
   "cell_type": "code",
   "execution_count": 36,
   "metadata": {},
   "outputs": [
    {
     "name": "stdout",
     "output_type": "stream",
     "text": [
      "threading is good\n",
      "threading is good\n",
      "threading is good\n",
      "threading is good\n",
      "welcome to python\n",
      "welcome to python\n",
      "welcome to python\n",
      "welcome to python\n",
      "welcome to python\n"
     ]
    }
   ],
   "source": [
    "# threads for methods\n",
    "\n",
    "\n",
    "from threading import Thread\n",
    "\n",
    "\n",
    "class example:\n",
    "\n",
    "    def display(self,n,msg):\n",
    "\n",
    "        for i in range(n):\n",
    "\n",
    "            print(msg)\n",
    "\n",
    "\n",
    "e1 = example()\n",
    "t1 = Thread(target=e1.display,args=(4,\"threading is good\"))\n",
    "t1.start()\n",
    "for i in range(5):\n",
    "    print(\"welcome to python\")\n",
    "\n",
    "\n",
    "\n"
   ]
  },
  {
   "cell_type": "code",
   "execution_count": 37,
   "metadata": {},
   "outputs": [
    {
     "name": "stdout",
     "output_type": "stream",
     "text": [
      "Constructor called\n",
      "Video Compfessor mode active\n",
      "suitable for kids\n",
      "OOP Syllabus started uploading.....\n"
     ]
    },
    {
     "name": "stdout",
     "output_type": "stream",
     "text": [
      "checking copyrights\n",
      "checking copyrights\n",
      "checking copyrights\n",
      "checking copyrights\n"
     ]
    }
   ],
   "source": [
    "# Method overridding in Threading\n",
    "from time import sleep\n",
    "from threading import Thread\n",
    "\n",
    "\n",
    "videos = ['OOP Syllabus','constructor','destructor','file handling']\n",
    "          \n",
    "\n",
    "class Mythread(Thread):\n",
    "\n",
    "    def __init__(self,val):\n",
    "        print(\"Constructor called\")\n",
    "        self.kid = val\n",
    "        Thread.__init__(self)\n",
    "\n",
    "\n",
    "    def compression(self):\n",
    "        print(\"Video Compfessor mode active\")\n",
    "    \n",
    "    def run(self):\n",
    "        self.compression()\n",
    "        if self.kid:\n",
    "            print(\"suitable for kids\")\n",
    "        for vid in videos:\n",
    "            print(f\"{vid} started uploading.....\")\n",
    "            sleep(3)\n",
    "            print(f\"{vid}uploaded....\")\n",
    "\n",
    "\n",
    "\n",
    "t1 = Mythread(True)\n",
    "t1.start()\n",
    "\n",
    "\n",
    "for i in range(4):\n",
    "    sleep(0.5)\n",
    "    print(\"checking copyrights\")\n",
    "\n"
   ]
  },
  {
   "cell_type": "code",
   "execution_count": 38,
   "metadata": {},
   "outputs": [],
   "source": [
    "# returning the data generated by Threads\n",
    "\n",
    "\n",
    "# here the value is to be returned as a self.temp varibale for the aobject fefernce execition and eturned the result with print suppose\n",
    "# print(t1.temp)"
   ]
  },
  {
   "cell_type": "code",
   "execution_count": 39,
   "metadata": {},
   "outputs": [
    {
     "name": "stdout",
     "output_type": "stream",
     "text": [
      "Thread-53\n",
      "Thread-54\n",
      "Dipayan\n",
      "Python\n",
      "Python\n",
      "Hello World\n",
      "Hello World\n",
      "Hello World\n",
      "Hello World\n",
      "welcpme\n",
      "welcpme\n",
      "19704\n",
      "19704\n",
      "12820\n",
      "12820\n",
      "10500\n",
      "welcpme\n"
     ]
    }
   ],
   "source": [
    "# creating multiple threads to  chck names\n",
    "\n",
    "\n",
    "from threading import Thread , current_thread\n",
    "import os\n",
    "def display():\n",
    "    for i in range(4):\n",
    "        print(\"Hello World\")\n",
    "\n",
    "def show():\n",
    "    for i in range(3):\n",
    "        print(\"welcpme\")\n",
    "\n",
    "\n",
    "\n",
    "T1 = Thread(target=display)\n",
    "T2 = Thread(target=show)\n",
    "\n",
    "print(T1.name)\n",
    "print(T2.name)\n",
    "# changing names\n",
    "T2.name = \"Dipayan\"\n",
    "print(T2.name)\n",
    "\n",
    "print(current_thread().name)\n",
    "\n",
    "# chnaging the name of the main fucntion\n",
    "current_thread().name = \"Python\"\n",
    "print(current_thread().name)\n",
    "\n",
    "\n",
    "\n",
    "#native idendity and iden of athread are generally same but they are not same only activated when threadng starts\n",
    "T1.start()\n",
    "T2.start()\n",
    "print(T1.ident)\n",
    "print(T1.native_id)\n",
    "print(T2.ident)\n",
    "print(T2.native_id)\n",
    "print(os.getpid())"
   ]
  },
  {
   "cell_type": "markdown",
   "metadata": {},
   "source": [
    "# Counting the number of Threads and details of those threads\n",
    "\n",
    "    # is_alive() checking whther a thread is runing or not\n",
    "    # main_thread(): returns main thread details\n",
    "    # active_count() Number of active threads\n",
    "    # enumerate(): list of all running threads\n",
    "    # get_native_id =  os alloted id fr the thread is found out\n",
    "\n"
   ]
  },
  {
   "cell_type": "code",
   "execution_count": 41,
   "metadata": {},
   "outputs": [
    {
     "name": "stdout",
     "output_type": "stream",
     "text": [
      "Before False\n",
      "Main Thread deatils: <_MainThread(Python, started 17896)>\n",
      "Hello World\n",
      "Number of threds activeHello World\n",
      " 7\n",
      "Detailed enumeate list of threads [<_MainThread(Python, started 17896)>, <Thread(Thread-7, started daemon 14796)>, <Heartbeat(Thread-8, started daemon 5108)>, <ControlThread(Thread-6, started daemon 11196)>, <HistorySavingThread(IPythonHistorySavingThread, started 19200)>, <ParentPollerWindows(Thread-5, started daemon 16504)>, <Thread(Thread-56, started 3504)>]\n",
      "AfterHello World True\n",
      "\n",
      "17896\n",
      "Hello World\n"
     ]
    }
   ],
   "source": [
    "from threading import Thread , current_thread ,main_thread ,active_count ,enumerate ,get_native_id\n",
    "import os\n",
    "def display():\n",
    "    print(\"Main Thread deatils:\",main_thread())\n",
    "    for i in range(4):\n",
    "        print(\"Hello World\")\n",
    "\n",
    "def show():\n",
    "    for i in range(3):\n",
    "        print(\"welcome\")\n",
    "\n",
    "\n",
    "d2= Thread(target=display)\n",
    "print(\"Before\",d2.is_alive())\n",
    "d2.start()\n",
    "print(\"Number of threds active\",active_count())\n",
    "print(\"Detailed enumeate list of threads\",enumerate())\n",
    "print(\"After\",d2.is_alive())\n",
    "print(get_native_id())"
   ]
  },
  {
   "cell_type": "markdown",
   "metadata": {},
   "source": [
    "# usage of join function to priortise the thread usage"
   ]
  },
  {
   "cell_type": "code",
   "execution_count": 1,
   "metadata": {},
   "outputs": [
    {
     "name": "stdout",
     "output_type": "stream",
     "text": [
      "The uploading has started:\n",
      "Video Uploaded\n",
      "Sending notfication:\n",
      "Hello\n",
      "Hello\n",
      "Hello\n",
      "Hello\n"
     ]
    }
   ],
   "source": [
    "from threading import Thread\n",
    "from time import sleep\n",
    "\n",
    "def upload():\n",
    "    print(\"The uploading has started:\")\n",
    "    sleep(3)\n",
    "    print(\"Video Uploaded\")\n",
    "\n",
    "\n",
    "def notification():\n",
    "    print(\"Sending notfication:\")\n",
    "\n",
    "\n",
    "t1 = Thread(target=upload)\n",
    "t2 = Thread(target=notification)\n",
    "t1.start()\n",
    "t1.join()\n",
    "t2.start()\n",
    "\n",
    "\n",
    "# code running in main thread\n",
    "\n",
    "for i in range(4):\n",
    "    print(\"Hello\")"
   ]
  },
  {
   "cell_type": "markdown",
   "metadata": {},
   "source": [
    "# Race condition in threading\n",
    " # we are using bus ticketing system"
   ]
  },
  {
   "cell_type": "markdown",
   "metadata": {},
   "source": [
    "# locking mechanism will be used to reduce the concurrent use of resources and to use each thread t acess the data after the changes have been incorporated"
   ]
  },
  {
   "cell_type": "code",
   "execution_count": 18,
   "metadata": {},
   "outputs": [
    {
     "name": "stdout",
     "output_type": "stream",
     "text": [
      "Available seats are: 4\n",
      "4 are allocated to Dipayan\n",
      "Available seats are: 0\n",
      "Sorry! seats are not available.\n"
     ]
    }
   ],
   "source": [
    "from threading import Thread, current_thread\n",
    "from time import sleep\n",
    "\n",
    "class Bus:\n",
    "    def __init__(self, name, available_seats):\n",
    "        self.name = name\n",
    "        self.available_seats = available_seats\n",
    "\n",
    "    def reserve(self, need_seats):\n",
    "        print('Available seats are:', self.available_seats)\n",
    "        if self.available_seats >= need_seats:\n",
    "            nm = current_thread().name\n",
    "            print(f\"{need_seats} are allocated to {nm}\")\n",
    "            self.available_seats -= need_seats\n",
    "        else:\n",
    "            print(\"Sorry! seats are not available.\")\n",
    "\n",
    "b1 = Bus(\"Lokenath Travels\", 4)\n",
    "\n",
    "t1 = Thread(target=b1.reserve, args=(4,), name=\"Dipayan\")\n",
    "t2 = Thread(target=b1.reserve, args=(3,), name=\"Shanu\")\n",
    "\n",
    "t1.start()\n",
    "t2.start()\n"
   ]
  },
  {
   "cell_type": "markdown",
   "metadata": {},
   "source": [
    "# here we will incorporate locks"
   ]
  },
  {
   "cell_type": "code",
   "execution_count": 16,
   "metadata": {},
   "outputs": [
    {
     "name": "stdout",
     "output_type": "stream",
     "text": [
      "Available seats are: 4\n",
      "4 are allocated to Dipayan\n",
      "Available seats are: 0\n",
      "Sorry! seats are not available.\n"
     ]
    }
   ],
   "source": [
    "from threading import Thread, current_thread\n",
    "from time import sleep\n",
    "lock = Lock()\n",
    "class Bus:\n",
    "    def __init__(self, name, available_seats,l):\n",
    "        self.name = name\n",
    "        self.available_seats = available_seats\n",
    "        self.l = l\n",
    "\n",
    "    def reserve(self, need_seats):\n",
    "        self.l.acquire()\n",
    "        print('Available seats are:', self.available_seats)\n",
    "        if self.available_seats >= need_seats:\n",
    "            nm = current_thread().name\n",
    "            print(f\"{need_seats} are allocated to {nm}\")\n",
    "            self.available_seats -= need_seats\n",
    "        else:\n",
    "            print(\"Sorry! seats are not available.\")\n",
    "\n",
    "        self.l.release()\n",
    "\n",
    "b1 = Bus(\"Lokenath Travels\", 4,lock)\n",
    "\n",
    "t1 = Thread(target=b1.reserve, args=(4,), name=\"Dipayan\")\n",
    "t2 = Thread(target=b1.reserve, args=(3,), name=\"Shanu\")\n",
    "\n",
    "t1.start()\n",
    "t2.start()\n"
   ]
  },
  {
   "cell_type": "code",
   "execution_count": null,
   "metadata": {},
   "outputs": [],
   "source": []
  }
 ],
 "metadata": {
  "kernelspec": {
   "display_name": "base",
   "language": "python",
   "name": "python3"
  },
  "language_info": {
   "codemirror_mode": {
    "name": "ipython",
    "version": 3
   },
   "file_extension": ".py",
   "mimetype": "text/x-python",
   "name": "python",
   "nbconvert_exporter": "python",
   "pygments_lexer": "ipython3",
   "version": "3.9.7"
  }
 },
 "nbformat": 4,
 "nbformat_minor": 2
}
