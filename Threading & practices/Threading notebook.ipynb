{
 "cells": [
  {
   "cell_type": "code",
   "execution_count": 2,
   "metadata": {},
   "outputs": [
    {
     "name": "stdout",
     "output_type": "stream",
     "text": [
      "Hello World\n",
      "Hello World\n",
      "Hello World\n",
      "Hello World\n"
     ]
    }
   ],
   "source": [
    "\n",
    "from threading import Thread\n",
    "\n",
    "# create a function comtaining to be executed pararelly\n",
    "\n",
    "def display():\n",
    "\n",
    "    for i in range(4):\n",
    "\n",
    "        print(\"Hello World\")\n",
    "\n",
    "\n",
    "# create a new thread\n",
    "\n",
    "t1 = Thread(target=display)\n",
    "\n",
    "# start the new thread\n",
    "\n",
    "t1.start()"
   ]
  },
  {
   "cell_type": "code",
   "execution_count": 3,
   "metadata": {},
   "outputs": [
    {
     "name": "stdout",
     "output_type": "stream",
     "text": [
      "python is tough\n",
      "python is tough\n",
      "python is tough\n",
      "python is tough\n",
      "python is tough\n"
     ]
    }
   ],
   "source": [
    "# checking with arguments steps\n",
    "\n",
    "\n",
    "def display(n,msg):\n",
    "\n",
    "    for i in range(n):\n",
    "\n",
    "        print(msg)\n",
    "\n",
    "\n",
    "\n",
    "\n",
    "t2 = Thread(target=display,args=(5,\"python is tough\"))\n",
    "\n",
    "t2.start()"
   ]
  },
  {
   "cell_type": "markdown",
   "metadata": {},
   "source": [
    "# even if one argument is passed it should pass troigh as an argument in a tuple form\n",
    "args = (5,) other wise typeerror\n",
    "\n",
    "# we can also use kwargs ={'n':4} then we have to use dictionary instead of tuple it passes as astring then"
   ]
  },
  {
   "cell_type": "code",
   "execution_count": 5,
   "metadata": {},
   "outputs": [
    {
     "name": "stdout",
     "output_type": "stream",
     "text": [
      "T1 Thread details: <Thread(Thread-12, started 18872)>\n",
      "Hello World\n",
      "Hello World\n",
      "Hello World\n",
      "Hello World\n",
      "This is python\n",
      "This is python\n",
      "This is python\n",
      "This is python\n"
     ]
    }
   ],
   "source": [
    " # example of parallele xecution\n",
    "\n",
    "\n",
    "from threading import Thread ,current_thread\n",
    "\n",
    "# create a function comtaining to be executed pararelly\n",
    "\n",
    "def display():\n",
    "\n",
    "    print(\"T1 Thread details:\",current_thread())   # to print the name u just print current_thread().name or just address current_thread().ident\n",
    "\n",
    "    for i in range(4):\n",
    "\n",
    "        print(\"Hello World\")\n",
    "\n",
    "\n",
    "# create a new thread\n",
    "\n",
    "t1 = Thread(target=display)\n",
    "\n",
    "# start the new thread\n",
    "\n",
    "t1.start()\n",
    "\n",
    "\n",
    "for i in range(4):\n",
    "    print(\"This is python\")"
   ]
  },
  {
   "cell_type": "code",
   "execution_count": null,
   "metadata": {},
   "outputs": [],
   "source": []
  }
 ],
 "metadata": {
  "kernelspec": {
   "display_name": "base",
   "language": "python",
   "name": "python3"
  },
  "language_info": {
   "codemirror_mode": {
    "name": "ipython",
    "version": 3
   },
   "file_extension": ".py",
   "mimetype": "text/x-python",
   "name": "python",
   "nbconvert_exporter": "python",
   "pygments_lexer": "ipython3",
   "version": "3.9.7"
  }
 },
 "nbformat": 4,
 "nbformat_minor": 2
}
