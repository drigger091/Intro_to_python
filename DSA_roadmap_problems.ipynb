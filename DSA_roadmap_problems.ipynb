{
  "nbformat": 4,
  "nbformat_minor": 0,
  "metadata": {
    "colab": {
      "provenance": [],
      "authorship_tag": "ABX9TyOj+9vdq8XMcIKtnQ3RpVkE",
      "include_colab_link": true
    },
    "kernelspec": {
      "name": "python3",
      "display_name": "Python 3"
    },
    "language_info": {
      "name": "python"
    }
  },
  "cells": [
    {
      "cell_type": "markdown",
      "metadata": {
        "id": "view-in-github",
        "colab_type": "text"
      },
      "source": [
        "<a href=\"https://colab.research.google.com/github/drigger091/Intro_to_python/blob/main/DSA_roadmap_problems.ipynb\" target=\"_parent\"><img src=\"https://colab.research.google.com/assets/colab-badge.svg\" alt=\"Open In Colab\"/></a>"
      ]
    },
    {
      "cell_type": "code",
      "source": [
        "#kadane's algorithm\n",
        "\n",
        "def max_sum_subarr(arr):\n",
        "\n",
        "  s = len(arr)\n",
        "\n",
        "  cur_sum = 0\n",
        "  max_so_far = a[0]\n",
        "  subarray = []\n",
        "  start = 0; end = 0; temp = 0               #a = [0,-7,3,1,-2,8,1]\n",
        "\n",
        "  for i in range(0,s):\n",
        "    cur_sum = cur_sum + arr[i]\n",
        "    if max_so_far < cur_sum:\n",
        "      max_so_far = cur_sum\n",
        "      start = temp\n",
        "      end = i\n",
        "\n",
        "    if cur_sum < 0:\n",
        "      cur_sum = 0\n",
        "      temp = i+1\n",
        "\n",
        "\n",
        "  print(\"The max sum is\",max_so_far)\n",
        "\n",
        "  for k in range(start, end+1):\n",
        "\n",
        "     subarray.append(arr[k])\n",
        "  \n",
        "    \n",
        "\n",
        "    \n",
        "\n",
        "\n",
        "  print(\"The sub array is\",subarray)\n",
        "\n",
        "\n",
        "\n",
        "a = [0,-7,3,1,-2,8,1]\n",
        "\n",
        "max_sum_subarr(a)\n",
        "\n",
        "  \n",
        "\n",
        "\n",
        "\n",
        "\n",
        "\n",
        "\n",
        "\n"
      ],
      "metadata": {
        "colab": {
          "base_uri": "https://localhost:8080/"
        },
        "id": "apNuDQms5wWL",
        "outputId": "3f847a0e-9bdf-403a-f9a2-82b33878aa56"
      },
      "execution_count": null,
      "outputs": [
        {
          "output_type": "stream",
          "name": "stdout",
          "text": [
            "The max sum is 11\n",
            "The sub array is [3, 1, -2, 8, 1]\n"
          ]
        }
      ]
    },
    {
      "cell_type": "code",
      "source": [
        "# a = string\n",
        "\n",
        "\n",
        "a = 'Malayalam'\n",
        "\n",
        "def palindrome(a):\n",
        "    a = a.lower().replace(' ', '')\n",
        "    first, last = 0, len(a) - 1\n",
        "\n",
        "    while(first < last):\n",
        "        if(a[first] == a[last]):\n",
        "            first += 1\n",
        "            last -= 1\n",
        "        else:\n",
        "            return False\n",
        "\n",
        "    return True\n",
        "\n",
        "print(palindrome(a))\n"
      ],
      "metadata": {
        "id": "AqFj3DALdyKn",
        "colab": {
          "base_uri": "https://localhost:8080/"
        },
        "outputId": "9adaa642-49ae-4b58-ce43-9683b684c51b"
      },
      "execution_count": 8,
      "outputs": [
        {
          "output_type": "stream",
          "name": "stdout",
          "text": [
            "True\n"
          ]
        }
      ]
    },
    {
      "cell_type": "code",
      "source": [
        "\n",
        "#sub string palindrome\n",
        "\n",
        "a = \"\"\n",
        "\n",
        "\n",
        "\n",
        "\n",
        "def longestPalindrome(a): \n",
        "\n",
        "    n = len(a)\n",
        "\n",
        "    if n < 2:\n",
        "      return n\n",
        "\n",
        "    start = 0 \n",
        "    maxlen = 1\n",
        "\n",
        "    for i in range(n):\n",
        "\n",
        "    \n",
        "\n",
        "   \n",
        "\n",
        "\n",
        "\n",
        "\n",
        "          \n",
        "\n",
        "\n",
        "\n",
        "\n",
        "    \n",
        "\n",
        "\n",
        "\n"
      ],
      "metadata": {
        "colab": {
          "base_uri": "https://localhost:8080/",
          "height": 131
        },
        "id": "rtPVgnnb5FIh",
        "outputId": "4f32e6ea-a01e-4cc0-9949-e8057ffd86ef"
      },
      "execution_count": 15,
      "outputs": [
        {
          "output_type": "error",
          "ename": "IndentationError",
          "evalue": "ignored",
          "traceback": [
            "\u001b[0;36m  File \u001b[0;32m\"<tokenize>\"\u001b[0;36m, line \u001b[0;32m39\u001b[0m\n\u001b[0;31m    return res\u001b[0m\n\u001b[0m    ^\u001b[0m\n\u001b[0;31mIndentationError\u001b[0m\u001b[0;31m:\u001b[0m unindent does not match any outer indentation level\n"
          ]
        }
      ]
    },
    {
      "cell_type": "code",
      "source": [
        " \n",
        " a = \"dadadafa\"\n",
        "\n",
        "\n",
        "\n",
        "\n",
        "def longestPalindrome(a): \n",
        "    \n",
        "  s = len(a)\n",
        "  res = \"\"\n",
        "  reslen = 0\n",
        "\n",
        "  if s <=0:\n",
        "      print(\"Cant be done\")\n",
        "\n",
        "  else:\n",
        "\n",
        "      for i in range(s):\n",
        "\n",
        "        if s %2 != 0: #odd length\n",
        "            l,r = i,i\n",
        "            while l >=0 and r < s and a[l] == a[r]:\n",
        "              if (r-l +1) > reslen:\n",
        "                res = a[l:r+1]\n",
        "                reslen = r-l +1\n",
        "              l-=1\n",
        "              r+=1\n",
        "            else: #even length\n",
        "              l ,r = i ,i+1\n",
        "\n",
        "            while l >=0 and r < s and a[i] == a[r]:\n",
        "\n",
        "              if (r-1+l) > reslen:\n",
        "                res = a[l:r+1]\n",
        "                reslen = l-r +1\n",
        "              l-=1\n",
        "              r+=1\n",
        "\n",
        "      return res\n",
        "\n",
        "\n",
        "longestPalindrome(a)"
      ],
      "metadata": {
        "colab": {
          "base_uri": "https://localhost:8080/",
          "height": 35
        },
        "id": "Rr2oDY9TS-Wo",
        "outputId": "5883c59c-61ba-45cb-c7b7-7c20a0fd23f9"
      },
      "execution_count": 18,
      "outputs": [
        {
          "output_type": "execute_result",
          "data": {
            "text/plain": [
              "''"
            ],
            "application/vnd.google.colaboratory.intrinsic+json": {
              "type": "string"
            }
          },
          "metadata": {},
          "execution_count": 18
        }
      ]
    },
    {
      "cell_type": "code",
      "source": [
        "# COUNT AND SAY\n",
        "\n",
        "\n",
        "\n",
        "def countandsay(n):\n",
        "\n",
        "\n",
        "    if n == 1:\n",
        "\n",
        "      return \"1\"\n",
        "\n",
        "    if n ==2:\n",
        "      return \"11\"\n",
        "\n",
        "    #we iterate from 3 to n-1 terms\n",
        "    #we generate every nerw item from tne previous one\n",
        "\n",
        "    s = 11\n",
        "\n",
        "    for i in range(3,n+1):\n",
        "#here prevoud charcter is procesed in currnt ityeration we have to\n",
        "#turn the loop 1 extra time so we add a dummy character\n",
        "        s+= '$'\n",
        "        l = len(s)\n",
        "\n",
        "        count =1\n",
        "        temp = \"\" #initilizing the ith term in the series\n",
        "\n",
        "\n",
        "        for j in range(1,l):\n",
        "           if s[j] != s[j-1]:\n",
        "             temp+=str(count+0)\n",
        "             temp+=s[j-1]\n",
        "             count =1\n",
        "           else:\n",
        "              count+=1\n",
        "        s= temp\n",
        "    return s\n",
        "\n",
        "\n",
        "n =5\n",
        "\n",
        "print(countandsay(n))\n",
        "\n",
        "\n",
        "\n",
        "   \n",
        "\n",
        "\n",
        "\n",
        "\n",
        "\n",
        "\n",
        "\n",
        "\n",
        "\n",
        "\n",
        "\n",
        "\n"
      ],
      "metadata": {
        "colab": {
          "base_uri": "https://localhost:8080/",
          "height": 357
        },
        "id": "ELmUsAY8aQjJ",
        "outputId": "5e316086-5fe9-4c20-b1d8-20bd24796af3"
      },
      "execution_count": 21,
      "outputs": [
        {
          "output_type": "error",
          "ename": "TypeError",
          "evalue": "ignored",
          "traceback": [
            "\u001b[0;31m---------------------------------------------------------------------------\u001b[0m",
            "\u001b[0;31mTypeError\u001b[0m                                 Traceback (most recent call last)",
            "\u001b[0;32m<ipython-input-21-efb4014b9288>\u001b[0m in \u001b[0;36m<module>\u001b[0;34m\u001b[0m\n\u001b[1;32m     41\u001b[0m \u001b[0mn\u001b[0m \u001b[0;34m=\u001b[0m\u001b[0;36m5\u001b[0m\u001b[0;34m\u001b[0m\u001b[0;34m\u001b[0m\u001b[0m\n\u001b[1;32m     42\u001b[0m \u001b[0;34m\u001b[0m\u001b[0m\n\u001b[0;32m---> 43\u001b[0;31m \u001b[0mprint\u001b[0m\u001b[0;34m(\u001b[0m\u001b[0mcountandsay\u001b[0m\u001b[0;34m(\u001b[0m\u001b[0mn\u001b[0m\u001b[0;34m)\u001b[0m\u001b[0;34m)\u001b[0m\u001b[0;34m\u001b[0m\u001b[0;34m\u001b[0m\u001b[0m\n\u001b[0m\u001b[1;32m     44\u001b[0m \u001b[0;34m\u001b[0m\u001b[0m\n\u001b[1;32m     45\u001b[0m \u001b[0;34m\u001b[0m\u001b[0m\n",
            "\u001b[0;32m<ipython-input-21-efb4014b9288>\u001b[0m in \u001b[0;36mcountandsay\u001b[0;34m(n)\u001b[0m\n\u001b[1;32m     21\u001b[0m \u001b[0;31m#here prevoud charcter is procesed in currnt ityeration we have to\u001b[0m\u001b[0;34m\u001b[0m\u001b[0;34m\u001b[0m\u001b[0;34m\u001b[0m\u001b[0m\n\u001b[1;32m     22\u001b[0m \u001b[0;31m#turn the loop 1 extra time so we add a dummy character\u001b[0m\u001b[0;34m\u001b[0m\u001b[0;34m\u001b[0m\u001b[0;34m\u001b[0m\u001b[0m\n\u001b[0;32m---> 23\u001b[0;31m         \u001b[0ms\u001b[0m\u001b[0;34m+=\u001b[0m \u001b[0;34m'$'\u001b[0m\u001b[0;34m\u001b[0m\u001b[0;34m\u001b[0m\u001b[0m\n\u001b[0m\u001b[1;32m     24\u001b[0m         \u001b[0ml\u001b[0m \u001b[0;34m=\u001b[0m \u001b[0mlen\u001b[0m\u001b[0;34m(\u001b[0m\u001b[0ms\u001b[0m\u001b[0;34m)\u001b[0m\u001b[0;34m\u001b[0m\u001b[0;34m\u001b[0m\u001b[0m\n\u001b[1;32m     25\u001b[0m \u001b[0;34m\u001b[0m\u001b[0m\n",
            "\u001b[0;31mTypeError\u001b[0m: unsupported operand type(s) for +=: 'int' and 'str'"
          ]
        }
      ]
    },
    {
      "cell_type": "code",
      "source": [
        "# two pointer algorithm\n",
        "\n",
        "# from a array find any two numbers whose sum adds upto K\n",
        "\n",
        "# we use two pointers 1 from left side other from right ( n -1)\n",
        "\n",
        "def two_pointers(arr,k):\n",
        "\n",
        "  s = len(arr)\n",
        "\n",
        "  l = 0\n",
        "  r = s-1\n",
        "\n",
        "  while l<r:\n",
        "\n",
        "    if arr[l] + arr[r] == k:\n",
        "\n",
        "      \n",
        "\n",
        "    elif arr[l] + arr[r] < k:\n",
        "      l = l+1\n",
        "\n",
        "    else:\n",
        "\n",
        "      r = r-1\n",
        "\n",
        "a = [1,2,3,4,66,7,8]\n",
        "k = 9\n",
        "\n",
        "two_pointers(a,k)\n",
        "\n",
        "\n"
      ],
      "metadata": {
        "id": "4290oOIubB0a"
      },
      "execution_count": null,
      "outputs": []
    },
    {
      "cell_type": "code",
      "source": [
        "#\n",
        "#to be well understood\n",
        "#length of largest subarray\n",
        "\n",
        "\n",
        " # print max number of ones\n",
        "a = [1,1,1]\n",
        "s = len(a)\n",
        "\n",
        "def findmaxone(a,s):\n",
        "\n",
        "  og1_count = 0\n",
        "\n",
        "  max_diff = 0\n",
        "\n",
        "  curr_max = 0\n",
        "\n",
        "\n",
        "  for i in range(s):\n",
        "\n",
        "    if a[i] == 1:\n",
        "      og1_count +=1\n",
        "\n",
        "\n",
        "    if a[i] == 0:\n",
        "\n",
        "      val = 1\n",
        "\n",
        "    else:\n",
        "\n",
        "      val = -1\n",
        "\n",
        "\n",
        "    curr_max = max(val,curr_max +val)\n",
        "    max_diff = max(max_diff,curr_max)\n",
        "\n",
        "  max_diff = max (0,max_diff)\n",
        "\n",
        "  return og1_count + max_diff\n",
        "\n",
        "\n",
        "\n",
        "findmaxone(a,s)\n",
        "\n",
        "\n"
      ],
      "metadata": {
        "colab": {
          "base_uri": "https://localhost:8080/"
        },
        "id": "10783TNvfu16",
        "outputId": "416b24a0-e7d4-4140-e8e4-97588cf57037"
      },
      "execution_count": null,
      "outputs": [
        {
          "output_type": "execute_result",
          "data": {
            "text/plain": [
              "3"
            ]
          },
          "metadata": {},
          "execution_count": 6
        }
      ]
    },
    {
      "cell_type": "code",
      "source": [],
      "metadata": {
        "id": "gxVb0-r0bAbB"
      },
      "execution_count": null,
      "outputs": []
    },
    {
      "cell_type": "code",
      "source": [
        "a = [1,0,0,0,1]\n",
        "s = len(a)\n",
        "\n",
        "def findmaxone(a,s):\n",
        "\n",
        "  og1_count = 0\n",
        "  max_diff = 0    #( count of 1s - count of 0s)\n",
        "  \n",
        "\n",
        "  for i in range(s):\n",
        "\n",
        "      if a[i] == 1:\n",
        "        og1_count +=1\n",
        "\n",
        "\n",
        "        count1 ,count0 = 0,0\n",
        "    \n",
        "      for j in range(i,s):\n",
        "\n",
        "          if a[j] == 1:\n",
        "            count1 +=1\n",
        "\n",
        "          else:\n",
        "\n",
        "            count0+=1\n",
        "\n",
        "\n",
        "          max_diff = max (max_diff,count1 - count0)\n",
        "\n",
        "    \n",
        "  return og1_count + max_diff\n",
        "\n",
        "\n",
        "findmaxone(a,s)\n",
        "\n",
        "\n",
        "\n"
      ],
      "metadata": {
        "colab": {
          "base_uri": "https://localhost:8080/"
        },
        "id": "ziSFO59X2Hqf",
        "outputId": "2b4e8819-ab93-42d6-d302-f076595a9576"
      },
      "execution_count": null,
      "outputs": [
        {
          "output_type": "execute_result",
          "data": {
            "text/plain": [
              "7"
            ]
          },
          "metadata": {},
          "execution_count": 15
        }
      ]
    },
    {
      "cell_type": "code",
      "execution_count": null,
      "metadata": {
        "id": "dt1L6EyMcAry",
        "colab": {
          "base_uri": "https://localhost:8080/"
        },
        "outputId": "ec74e665-af7e-4636-af86-4a4857547016"
      },
      "outputs": [
        {
          "output_type": "stream",
          "name": "stdout",
          "text": [
            "3\n",
            "Enter the number5\n",
            "120\n",
            "Enter the number6\n",
            "720\n",
            "Enter the number7\n",
            "5040\n"
          ]
        }
      ],
      "source": [
        "#factorial\n",
        "\n",
        "\n",
        "x = int(input())\n",
        "\n",
        "for i in range(0,x,1):\n",
        "  n = int(input(\"Enter the number\"))\n",
        "  output = 1\n",
        "\n",
        "  for i in range (1,n+1,1):\n",
        "\n",
        "    output = output * i\n",
        "    \n",
        "\n",
        "  print(output)\n"
      ]
    },
    {
      "cell_type": "code",
      "source": [
        "#sum of triplets\n",
        "\n",
        "\n",
        "a = [7,6,1,23,45,56]\n",
        "sum = 30\n",
        "\n",
        "\n",
        "size = len(a)\n",
        "\n",
        "\n",
        "\n",
        "def find_sum(a,size,sum):\n",
        "   a.sort()\n",
        "\n",
        "   for i in range(0,size-2):\n",
        "\n",
        "     left = i+1\n",
        "     right = size-1\n",
        "\n",
        "     while left< right:\n",
        "\n",
        "       if (a[i] +a[left]+a[right] == sum):\n",
        "          print(\"The Triplet is\",a[i],a[left],a[right])\n",
        "          return True \n",
        "\n",
        "       elif(a[i]+a[left]+a[right] < sum):\n",
        "          left+=1\n",
        "       else:\n",
        "          right-=1\n",
        "   return False\n",
        "\n",
        "status = find_sum(a,size,sum)\n",
        "\n",
        "if status is True:\n",
        "  print(\"result shown\")\n",
        "\n",
        "else:\n",
        "\n",
        "  print(\"not possible\")\n",
        "\n",
        "\n",
        "    \n",
        "#O(n^2) time complexity\n",
        "\n",
        "\n",
        "\n"
      ],
      "metadata": {
        "colab": {
          "base_uri": "https://localhost:8080/"
        },
        "id": "9GR8WjYkAS5M",
        "outputId": "6458f38f-ae00-4890-92b9-df9ad1033973"
      },
      "execution_count": null,
      "outputs": [
        {
          "output_type": "stream",
          "name": "stdout",
          "text": [
            "The Triplet is 1 6 23\n",
            "result shown\n"
          ]
        }
      ]
    },
    {
      "cell_type": "code",
      "source": [
        "#find min and max of an unsorted array:\n",
        "\n",
        "a = [5,6,1,3,55,2,76]\n",
        "\n",
        "\n",
        "max = a[0]\n",
        "min = a[0]\n",
        "\n",
        "\n",
        "for i in range(0,len(a)):\n",
        "  \n",
        "  if a[i] > max:\n",
        "    max = a[i]\n",
        "\n",
        "\n",
        "for i in range(0,len(a)):\n",
        "\n",
        "    if a[i] <min:\n",
        "      min = a[i]\n",
        "print(min)\n",
        "print(max)\n",
        "\n",
        "#complexity O(n)\n",
        "\n"
      ],
      "metadata": {
        "colab": {
          "base_uri": "https://localhost:8080/"
        },
        "id": "vPlueobBDdNs",
        "outputId": "b95d6828-752a-4241-f97c-5a5ac79f98e9"
      },
      "execution_count": null,
      "outputs": [
        {
          "output_type": "stream",
          "name": "stdout",
          "text": [
            "1\n",
            "76\n"
          ]
        }
      ]
    },
    {
      "cell_type": "code",
      "source": [
        "#kaydence algorithm \n",
        "\n",
        "\n",
        "def findGoodPairs(self, a, n, k):\n",
        "        \n",
        "        \n",
        "        \n",
        "        count = 0\n",
        "        for i in range(0,n):\n",
        "            \n",
        "            for j in range(0,n):\n",
        "                \n",
        "                if a[i] == a[j] and abs(i-j) >= k:\n",
        "                    count +=1\n",
        "                \n",
        "        \n",
        "        return floor(count / 2) \n"
      ],
      "metadata": {
        "id": "TunqklmyLequ"
      },
      "execution_count": null,
      "outputs": []
    },
    {
      "cell_type": "code",
      "source": [
        "def findgoodpairs(a,n,k):\n",
        "\n",
        "\n",
        "  count = 0\n",
        "\n",
        "  \n",
        "\n",
        "\n",
        "\n",
        "\n",
        "\n",
        "\n",
        "\n"
      ],
      "metadata": {
        "id": "Zbe_4s3O3DMc"
      },
      "execution_count": null,
      "outputs": []
    }
  ]
}