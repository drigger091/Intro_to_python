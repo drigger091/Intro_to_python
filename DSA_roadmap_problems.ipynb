{
  "nbformat": 4,
  "nbformat_minor": 0,
  "metadata": {
    "colab": {
      "provenance": [],
      "authorship_tag": "ABX9TyMcbBTKn3Yyu2dTlJX6Am8I"
    },
    "kernelspec": {
      "name": "python3",
      "display_name": "Python 3"
    },
    "language_info": {
      "name": "python"
    }
  },
  "cells": [
    {
      "cell_type": "code",
      "source": [
        "def sort_array(data):\n",
        "    low, mid, high = 0, 0, len(data) - 1\n",
        "    while mid <= high:\n",
        "        if data[mid] == 0:\n",
        "            data[low], data[mid] = data[mid], data[low]\n",
        "            low += 1\n",
        "            mid += 1\n",
        "        elif data[mid] == 1:\n",
        "            mid += 1\n",
        "        else:\n",
        "            data[mid], data[high] = data[high], data[mid]\n",
        "            high -= 1\n",
        "    return data\n",
        "\n",
        "data = [1, 2, 0, 2, 1, 0, 2, 1, 0]\n",
        "print(sort_array(data))\n"
      ],
      "metadata": {
        "colab": {
          "base_uri": "https://localhost:8080/"
        },
        "id": "4qLWOyQLeqco",
        "outputId": "e6df64ac-64d2-4259-acf8-a19a83644e9b"
      },
      "execution_count": 6,
      "outputs": [
        {
          "output_type": "stream",
          "name": "stdout",
          "text": [
            "[0, 0, 0, 1, 1, 1, 2, 2, 2]\n"
          ]
        }
      ]
    },
    {
      "cell_type": "code",
      "source": [
        "#understanding 3 pointer algorithm\n",
        "\n",
        "#sorting an array of 1s ,0s and 2s\n",
        "\n",
        "def sort_array(n):\n",
        "\n",
        "  s = len(n)\n",
        "  low = 0\n",
        "  mid = 0\n",
        "  high = s-1\n",
        "\n",
        "  while mid <= high:\n",
        "    if n[mid] == 0 :\n",
        "      n[low],n[mid] = n[mid],n[low]\n",
        "      low +=1\n",
        "      mid+=1\n",
        "    elif n[mid] == 1:\n",
        "      mid+=1\n",
        "    else:\n",
        "      n[mid],n[high] = n[high],n[mid]\n",
        "      high-=1\n",
        "  return n\n",
        "\n",
        "n = [1,2,1,0,1,2,0,0,1,2]\n",
        "print(sort_array(n))\n"
      ],
      "metadata": {
        "colab": {
          "base_uri": "https://localhost:8080/"
        },
        "id": "wBNX372ydlT2",
        "outputId": "7bd97835-ebf8-4850-cc65-303a7e6c3e30"
      },
      "execution_count": 7,
      "outputs": [
        {
          "output_type": "stream",
          "name": "stdout",
          "text": [
            "[0, 0, 0, 1, 1, 1, 1, 2, 2, 2]\n"
          ]
        }
      ]
    },
    {
      "cell_type": "code",
      "source": [
        "# Kth Max and Min in an array\n",
        "def kth_max_min(n,k,is_max):\n",
        "  if is_max:\n",
        "    return sorted (n , reverse = True)[k-1]\n",
        "  else:\n",
        "    return sorted(n)[k-1]\n",
        "\n",
        "n = [1,2,3,4,5,6,7,8,0,10]\n",
        "k =3\n",
        "print(\"kth maximum element\",kth_max_min(n,k,True))\n",
        "print(\"kth minumum element\",kth_max_min(n,k,False))\n"
      ],
      "metadata": {
        "colab": {
          "base_uri": "https://localhost:8080/"
        },
        "id": "b3-YBemsTSFq",
        "outputId": "5a108863-674f-4fdd-b0c3-6e6b89d305cc"
      },
      "execution_count": 3,
      "outputs": [
        {
          "output_type": "stream",
          "name": "stdout",
          "text": [
            "kth maximum element 7\n",
            "kth minumum element 2\n"
          ]
        }
      ]
    },
    {
      "cell_type": "code",
      "source": [
        "def largesubarray(n,k):\n",
        "\n",
        "    current_sum = 0\n",
        "    start = 0\n",
        "    sub_length = 0\n",
        "    s = len(n)\n",
        "\n",
        "    for i in range (s):\n",
        "\n",
        "        current_sum = current_sum + n[i]\n",
        "\n",
        "        while current_sum > k:\n",
        "\n",
        "            current_sum = current_sum - n[start]\n",
        "\n",
        "            start =+ 1\n",
        "\n",
        "            #here we are increasing the pointer to the right and hgettig rid of\n",
        "            #value from the left\n",
        "\n",
        "        if current_sum == k:\n",
        "\n",
        "            sub_length = max(sub_length,i-start + 1)\n",
        "        \n",
        "    return sub_length\n",
        "\n",
        "\n",
        "n = [1,2,3,4,5,6,7,8,9,10]\n",
        "k = 15\n",
        "\n",
        "print(largesubarray(n,k))"
      ],
      "metadata": {
        "colab": {
          "base_uri": "https://localhost:8080/"
        },
        "id": "AzPM2gwtPFEU",
        "outputId": "aded0923-3a52-4395-e85f-604794a50c40"
      },
      "execution_count": null,
      "outputs": [
        {
          "output_type": "stream",
          "name": "stdout",
          "text": [
            "7\n"
          ]
        }
      ]
    },
    {
      "cell_type": "code",
      "source": [
        "def largest_subarray(data, k):\n",
        "    max_length = float('-inf')\n",
        "    current_sum = 0\n",
        "    start = 0\n",
        "    for i in range(len(data)):\n",
        "        current_sum += data[i]\n",
        "        while current_sum > k:\n",
        "            current_sum -= data[start]\n",
        "            start += 1\n",
        "        if current_sum == k:\n",
        "            max_length = max(max_length, i - start + 1)\n",
        "    return max_length\n",
        "\n",
        "data = [1, 2, 3, 4, 5, 6, 7, 8, 9, 10]\n",
        "k = 3\n",
        "print(largest_subarray(data, k))"
      ],
      "metadata": {
        "colab": {
          "base_uri": "https://localhost:8080/"
        },
        "id": "LjwrJQtSNcj1",
        "outputId": "3a3b5b5e-e88b-44fc-8603-01dbda618bd4"
      },
      "execution_count": null,
      "outputs": [
        {
          "output_type": "stream",
          "name": "stdout",
          "text": [
            "2\n"
          ]
        }
      ]
    },
    {
      "cell_type": "code",
      "source": [
        "def largest_subarray(data, k):\n",
        "    max_length = 0\n",
        "    current_sum = 0\n",
        "    start = 0\n",
        "    for end in range(len(data)):\n",
        "        current_sum += data[end]\n",
        "        while current_sum > k:\n",
        "            current_sum -= data[start]\n",
        "            start += 1\n",
        "        if current_sum == k:\n",
        "            max_length = max(max_length, end - start + 1)\n",
        "    return max_length\n",
        "\n",
        "data = [1, 2, 3, 4, 5, 6, 7, 8, 9, 10]\n",
        "k = 15\n",
        "print(largest_subarray(data, k))\n"
      ],
      "metadata": {
        "colab": {
          "base_uri": "https://localhost:8080/"
        },
        "id": "UPhK13YrNRZO",
        "outputId": "363f4fff-64ab-4c62-c42f-14ac09c3da16"
      },
      "execution_count": null,
      "outputs": [
        {
          "output_type": "stream",
          "name": "stdout",
          "text": [
            "5\n"
          ]
        }
      ]
    },
    {
      "cell_type": "code",
      "source": [
        "#kadane's algorithm\n",
        "\n",
        "def max_sum_subarr(arr):\n",
        "\n",
        "  s = len(arr)\n",
        "\n",
        "  cur_sum = 0\n",
        "  max_so_far = a[0]\n",
        "  subarray = []\n",
        "  start = 0; end = 0; temp = 0               #a = [0,-7,3,1,-2,8,1]\n",
        "\n",
        "  for i in range(0,s):\n",
        "    cur_sum = cur_sum + arr[i]\n",
        "    if max_so_far < cur_sum:\n",
        "      max_so_far = cur_sum\n",
        "      start = temp\n",
        "      end = i\n",
        "\n",
        "    if cur_sum < 0:\n",
        "      cur_sum = 0\n",
        "      temp = i+1\n",
        "\n",
        "\n",
        "  print(\"The max sum is\",max_so_far)\n",
        "\n",
        "  for k in range(start, end+1):\n",
        "\n",
        "     subarray.append(arr[k])\n",
        "  \n",
        "    \n",
        "\n",
        "    \n",
        "\n",
        "\n",
        "  print(\"The sub array is\",subarray)\n",
        "\n",
        "\n",
        "\n",
        "a = [0,-7,3,1,-2,8,1]\n",
        "\n",
        "max_sum_subarr(a)\n",
        "\n",
        "  \n",
        "\n",
        "\n",
        "\n",
        "\n",
        "\n",
        "\n",
        "\n"
      ],
      "metadata": {
        "colab": {
          "base_uri": "https://localhost:8080/"
        },
        "id": "apNuDQms5wWL",
        "outputId": "3f847a0e-9bdf-403a-f9a2-82b33878aa56"
      },
      "execution_count": null,
      "outputs": [
        {
          "output_type": "stream",
          "name": "stdout",
          "text": [
            "The max sum is 11\n",
            "The sub array is [3, 1, -2, 8, 1]\n"
          ]
        }
      ]
    },
    {
      "cell_type": "code",
      "source": [
        "# a = string\n",
        "\n",
        "\n",
        "a = 'Malayalam'\n",
        "\n",
        "def palindrome(a):\n",
        "    a = a.lower().replace(' ', '')\n",
        "    first, last = 0, len(a) - 1\n",
        "\n",
        "    while(first < last):\n",
        "        if(a[first] == a[last]):\n",
        "            first += 1\n",
        "            last -= 1\n",
        "        else:\n",
        "            return False\n",
        "\n",
        "    return True\n",
        "\n",
        "print(palindrome(a))\n"
      ],
      "metadata": {
        "id": "AqFj3DALdyKn",
        "colab": {
          "base_uri": "https://localhost:8080/"
        },
        "outputId": "9adaa642-49ae-4b58-ce43-9683b684c51b"
      },
      "execution_count": null,
      "outputs": [
        {
          "output_type": "stream",
          "name": "stdout",
          "text": [
            "True\n"
          ]
        }
      ]
    },
    {
      "cell_type": "code",
      "source": [
        "#longest palindrome subequence\n",
        "\n",
        "\n",
        "a = \"fafaf\"\n",
        "def longpal(a):\n",
        "\n",
        "  n = len(a)\n",
        "  \n",
        "  start = 0\n",
        "  maxlen= 1\n",
        "  for i in range (n):\n",
        "    l = i-1\n",
        "    r = i+1\n",
        "    while ( r < n and a[r] == a[i]):\n",
        "      r =r+1\n",
        "    while (l >=0 and a[l] ==a[i]):\n",
        "      l=l-1\n",
        "    while (l >=0 and r<n and a[l]==a[r] ):\n",
        "      l=l-1\n",
        "      r=r+1\n",
        "    length = r -l -1\n",
        "    if(maxlen < length):\n",
        "      maxlen = length\n",
        "      start = l+1\n",
        "    print(\"the longest palindrome is:\",end =\"\")\n",
        "    print(a[start:start+maxlen])\n",
        "    return maxlen\n",
        "\n",
        "\n",
        "  \n",
        "\n",
        "longpal(a)\n",
        "\n",
        "\n",
        "  \n"
      ],
      "metadata": {
        "colab": {
          "base_uri": "https://localhost:8080/"
        },
        "id": "Ta882OcIaPxh",
        "outputId": "d3397d6c-f6ff-447b-81ba-a717338ed480"
      },
      "execution_count": null,
      "outputs": [
        {
          "output_type": "stream",
          "name": "stdout",
          "text": [
            "the longest palindrome is:f\n"
          ]
        },
        {
          "output_type": "execute_result",
          "data": {
            "text/plain": [
              "1"
            ]
          },
          "metadata": {},
          "execution_count": 19
        }
      ]
    },
    {
      "cell_type": "code",
      "source": [
        "\n",
        "#sub string palindrome #using wedusk method\n",
        "\n",
        "a = \"asdfasfdafafa\"\n",
        "\n",
        "\n",
        "def longestPalindrome(a): \n",
        "    N = len(a)\n",
        "\n",
        "    def lp(l,r):\n",
        "      while r< N and l >=0:\n",
        "        if a[r] != a[l]:break\n",
        "        r+=1\n",
        "        l-=1\n",
        "      return l+1,r\n",
        "    start ,end = 0 ,0  \n",
        "    for i in range(N):\n",
        "       l ,r = lp(i,i)\n",
        "       if (r-l) > (end - start):\n",
        "         end = r\n",
        "         start = l\n",
        "       l,r = lp(i,i+1)\n",
        "       if (r-l) > (end - start):\n",
        "         end = r\n",
        "         start =l\n",
        "\n",
        "    return a[start:end]\n",
        "\n",
        "\n",
        "\n",
        "\n",
        "           \n",
        "   \n",
        "\n",
        "\n",
        "    \n",
        "\n",
        "        \n",
        "\n",
        "\n",
        "print(longestPalindrome(a))\n",
        "           \n",
        "\n",
        "\n",
        "  \n",
        "    \n",
        "\n",
        "\n",
        "\n",
        "  \n",
        "\n",
        "\n",
        "    \n",
        "\n",
        "    \n",
        "\n",
        "   \n",
        "\n",
        "\n",
        "\n",
        "\n",
        "          \n",
        "\n",
        "\n",
        "\n",
        "\n",
        "    \n",
        "\n",
        "\n",
        "\n"
      ],
      "metadata": {
        "colab": {
          "base_uri": "https://localhost:8080/"
        },
        "id": "rtPVgnnb5FIh",
        "outputId": "5fe6fa75-a070-4fdb-aff6-928c12cddd9d"
      },
      "execution_count": null,
      "outputs": [
        {
          "output_type": "stream",
          "name": "stdout",
          "text": [
            "afafa\n"
          ]
        }
      ]
    },
    {
      "cell_type": "code",
      "source": [
        " \n",
        " a = \"dadadafa\"\n",
        "\n",
        "\n",
        "\n",
        "\n",
        "def longestPalindrome(a): \n",
        "    \n",
        "  s = len(a)\n",
        "  res = \"\"\n",
        "  reslen = 0\n",
        "\n",
        "  if s <=0:\n",
        "      print(\"Cant be done\")\n",
        "\n",
        "  else:\n",
        "\n",
        "      for i in range(s):\n",
        "\n",
        "        if s %2 != 0: #odd length\n",
        "            l,r = i,i\n",
        "            while l >=0 and r < s and a[l] == a[r]:\n",
        "              if (r-l +1) > reslen:\n",
        "                res = a[l:r+1]\n",
        "                reslen = r-l +1\n",
        "              l-=1\n",
        "              r+=1\n",
        "            else: #even length\n",
        "              l ,r = i ,i+1\n",
        "\n",
        "            while l >=0 and r < s and a[i] == a[r]:\n",
        "\n",
        "              if (r-1+l) > reslen:\n",
        "                res = a[l:r+1]\n",
        "                reslen = l-r +1\n",
        "              l-=1\n",
        "              r+=1\n",
        "\n",
        "      return res\n",
        "\n",
        "\n",
        "print(longestPalindrome(a))"
      ],
      "metadata": {
        "colab": {
          "base_uri": "https://localhost:8080/"
        },
        "id": "Rr2oDY9TS-Wo",
        "outputId": "de3d5fa1-15ce-4d90-9944-f9bafa303dd6"
      },
      "execution_count": null,
      "outputs": [
        {
          "output_type": "stream",
          "name": "stdout",
          "text": [
            "\n"
          ]
        }
      ]
    },
    {
      "cell_type": "code",
      "source": [
        "# COUNT AND SAY\n",
        "\n",
        "\n",
        "\n",
        "def countandsay(n):\n",
        "\n",
        "\n",
        "    if n == 1:\n",
        "\n",
        "      return \"1\"\n",
        "\n",
        "    if n ==2:\n",
        "      return \"11\"\n",
        "\n",
        "    #we iterate from 3 to n-1 terms\n",
        "    #we generate every nerw item from tne previous one\n",
        "\n",
        "    s = 11\n",
        "\n",
        "    for i in range(3,n+1):\n",
        "#here prevoud charcter is procesed in currnt ityeration we have to\n",
        "#turn the loop 1 extra time so we add a dummy character\n",
        "        s+= '$'\n",
        "        l = len(s)\n",
        "\n",
        "        count =1\n",
        "        temp = \"\" #initilizing the ith term in the series\n",
        "\n",
        "\n",
        "        for j in range(1,l):\n",
        "           if s[j] != s[j-1]:\n",
        "             temp+=str(count+0)\n",
        "             temp+=s[j-1]\n",
        "             count =1\n",
        "           else:\n",
        "              count+=1\n",
        "        s= temp\n",
        "    return s\n",
        "\n",
        "\n",
        "n =5\n",
        "\n",
        "print(countandsay(n))\n",
        "\n",
        "\n",
        "\n",
        "   \n",
        "\n",
        "\n",
        "\n",
        "\n",
        "\n",
        "\n",
        "\n",
        "\n",
        "\n",
        "\n",
        "\n",
        "\n"
      ],
      "metadata": {
        "colab": {
          "base_uri": "https://localhost:8080/",
          "height": 357
        },
        "id": "ELmUsAY8aQjJ",
        "outputId": "5e316086-5fe9-4c20-b1d8-20bd24796af3"
      },
      "execution_count": null,
      "outputs": [
        {
          "output_type": "error",
          "ename": "TypeError",
          "evalue": "ignored",
          "traceback": [
            "\u001b[0;31m---------------------------------------------------------------------------\u001b[0m",
            "\u001b[0;31mTypeError\u001b[0m                                 Traceback (most recent call last)",
            "\u001b[0;32m<ipython-input-21-efb4014b9288>\u001b[0m in \u001b[0;36m<module>\u001b[0;34m\u001b[0m\n\u001b[1;32m     41\u001b[0m \u001b[0mn\u001b[0m \u001b[0;34m=\u001b[0m\u001b[0;36m5\u001b[0m\u001b[0;34m\u001b[0m\u001b[0;34m\u001b[0m\u001b[0m\n\u001b[1;32m     42\u001b[0m \u001b[0;34m\u001b[0m\u001b[0m\n\u001b[0;32m---> 43\u001b[0;31m \u001b[0mprint\u001b[0m\u001b[0;34m(\u001b[0m\u001b[0mcountandsay\u001b[0m\u001b[0;34m(\u001b[0m\u001b[0mn\u001b[0m\u001b[0;34m)\u001b[0m\u001b[0;34m)\u001b[0m\u001b[0;34m\u001b[0m\u001b[0;34m\u001b[0m\u001b[0m\n\u001b[0m\u001b[1;32m     44\u001b[0m \u001b[0;34m\u001b[0m\u001b[0m\n\u001b[1;32m     45\u001b[0m \u001b[0;34m\u001b[0m\u001b[0m\n",
            "\u001b[0;32m<ipython-input-21-efb4014b9288>\u001b[0m in \u001b[0;36mcountandsay\u001b[0;34m(n)\u001b[0m\n\u001b[1;32m     21\u001b[0m \u001b[0;31m#here prevoud charcter is procesed in currnt ityeration we have to\u001b[0m\u001b[0;34m\u001b[0m\u001b[0;34m\u001b[0m\u001b[0;34m\u001b[0m\u001b[0m\n\u001b[1;32m     22\u001b[0m \u001b[0;31m#turn the loop 1 extra time so we add a dummy character\u001b[0m\u001b[0;34m\u001b[0m\u001b[0;34m\u001b[0m\u001b[0;34m\u001b[0m\u001b[0m\n\u001b[0;32m---> 23\u001b[0;31m         \u001b[0ms\u001b[0m\u001b[0;34m+=\u001b[0m \u001b[0;34m'$'\u001b[0m\u001b[0;34m\u001b[0m\u001b[0;34m\u001b[0m\u001b[0m\n\u001b[0m\u001b[1;32m     24\u001b[0m         \u001b[0ml\u001b[0m \u001b[0;34m=\u001b[0m \u001b[0mlen\u001b[0m\u001b[0;34m(\u001b[0m\u001b[0ms\u001b[0m\u001b[0;34m)\u001b[0m\u001b[0;34m\u001b[0m\u001b[0;34m\u001b[0m\u001b[0m\n\u001b[1;32m     25\u001b[0m \u001b[0;34m\u001b[0m\u001b[0m\n",
            "\u001b[0;31mTypeError\u001b[0m: unsupported operand type(s) for +=: 'int' and 'str'"
          ]
        }
      ]
    },
    {
      "cell_type": "code",
      "source": [
        "# two pointer algorithm\n",
        "\n",
        "# from a array find any two numbers whose sum adds upto K\n",
        "\n",
        "# we use two pointers 1 from left side other from right ( n -1)\n",
        "\n",
        "def find_pairs(data, k):\n",
        "    data.sort()\n",
        "    left, right = 0, len(data) - 1\n",
        "    pairs = []\n",
        "    while left < right:\n",
        "        if data[left] + data[right] == k:\n",
        "            pairs.append((data[left], data[right]))\n",
        "            left += 1\n",
        "            right -= 1\n",
        "        elif data[left] + data[right] < k:\n",
        "            left += 1\n",
        "        else:\n",
        "            right -= 1\n",
        "    return pairs\n",
        "\n",
        "data = [1, 2, 3, 4, 5, 6, 7, 8, 9, 10]\n",
        "k = 15\n",
        "print(find_pairs(data, k))\n",
        "\n",
        "\n"
      ],
      "metadata": {
        "id": "4290oOIubB0a",
        "colab": {
          "base_uri": "https://localhost:8080/"
        },
        "outputId": "3d03b02a-599b-488c-8fe0-4f628ea8473e"
      },
      "execution_count": null,
      "outputs": [
        {
          "output_type": "stream",
          "name": "stdout",
          "text": [
            "[(5, 10), (6, 9), (7, 8)]\n"
          ]
        }
      ]
    },
    {
      "cell_type": "code",
      "source": [
        "def find_pair(n,k):\n",
        "\n",
        "    \n",
        "    s = len(n)\n",
        "    left = 0\n",
        "    right = s-1\n",
        "\n",
        "    pairs = []\n",
        "\n",
        "    while left < right:\n",
        "\n",
        "        if n[left] + n[right] == k:\n",
        "\n",
        "            pairs.append((n[left],n[right]))\n",
        "\n",
        "            left+=1\n",
        "\n",
        "            right-=1\n",
        "\n",
        "        elif n[left] + n[right] < k:\n",
        "\n",
        "            left+=1\n",
        "\n",
        "        else:\n",
        "\n",
        "            right-=1\n",
        "        \n",
        "    return pairs\n",
        "\n",
        "\n",
        "n = [1,2,3,7,8,5,6,9,10]\n",
        "k = 15\n",
        "\n",
        "print(\"The pair is:\",find_pair(n,k))"
      ],
      "metadata": {
        "colab": {
          "base_uri": "https://localhost:8080/"
        },
        "id": "7PGvPbchgm7x",
        "outputId": "bf18242d-dfce-444c-9474-e63defead43d"
      },
      "execution_count": null,
      "outputs": [
        {
          "output_type": "stream",
          "name": "stdout",
          "text": [
            "The pair is: []\n"
          ]
        }
      ]
    },
    {
      "cell_type": "code",
      "source": [
        "#\n",
        "#to be well understood\n",
        "#length of largest subarray\n",
        "\n",
        "\n",
        " # print max number of ones\n",
        "a = [1,1,1]\n",
        "s = len(a)\n",
        "\n",
        "def findmaxone(a,s):\n",
        "\n",
        "  og1_count = 0\n",
        "\n",
        "  max_diff = 0\n",
        "\n",
        "  curr_max = 0\n",
        "\n",
        "\n",
        "  for i in range(s):\n",
        "\n",
        "    if a[i] == 1:\n",
        "      og1_count +=1\n",
        "\n",
        "\n",
        "    if a[i] == 0:\n",
        "\n",
        "      val = 1\n",
        "\n",
        "    else:\n",
        "\n",
        "      val = -1\n",
        "\n",
        "\n",
        "    curr_max = max(val,curr_max +val)\n",
        "    max_diff = max(max_diff,curr_max)\n",
        "\n",
        "  max_diff = max (0,max_diff)\n",
        "\n",
        "  return og1_count + max_diff\n",
        "\n",
        "\n",
        "\n",
        "findmaxone(a,s)\n",
        "\n",
        "\n"
      ],
      "metadata": {
        "colab": {
          "base_uri": "https://localhost:8080/"
        },
        "id": "10783TNvfu16",
        "outputId": "416b24a0-e7d4-4140-e8e4-97588cf57037"
      },
      "execution_count": null,
      "outputs": [
        {
          "output_type": "execute_result",
          "data": {
            "text/plain": [
              "3"
            ]
          },
          "metadata": {},
          "execution_count": 6
        }
      ]
    },
    {
      "cell_type": "code",
      "source": [],
      "metadata": {
        "id": "gxVb0-r0bAbB"
      },
      "execution_count": null,
      "outputs": []
    },
    {
      "cell_type": "code",
      "source": [
        "a = [1,0,0,0,1]\n",
        "s = len(a)\n",
        "\n",
        "def findmaxone(a,s):\n",
        "\n",
        "  og1_count = 0\n",
        "  max_diff = 0    #( count of 1s - count of 0s)\n",
        "  \n",
        "\n",
        "  for i in range(s):\n",
        "\n",
        "      if a[i] == 1:\n",
        "        og1_count +=1\n",
        "\n",
        "\n",
        "        count1 ,count0 = 0,0\n",
        "    \n",
        "      for j in range(i,s):\n",
        "\n",
        "          if a[j] == 1:\n",
        "            count1 +=1\n",
        "\n",
        "          else:\n",
        "\n",
        "            count0+=1\n",
        "\n",
        "\n",
        "          max_diff = max (max_diff,count1 - count0)\n",
        "\n",
        "    \n",
        "  return og1_count + max_diff\n",
        "\n",
        "\n",
        "findmaxone(a,s)\n",
        "\n",
        "\n",
        "\n"
      ],
      "metadata": {
        "colab": {
          "base_uri": "https://localhost:8080/"
        },
        "id": "ziSFO59X2Hqf",
        "outputId": "2b4e8819-ab93-42d6-d302-f076595a9576"
      },
      "execution_count": null,
      "outputs": [
        {
          "output_type": "execute_result",
          "data": {
            "text/plain": [
              "7"
            ]
          },
          "metadata": {},
          "execution_count": 15
        }
      ]
    },
    {
      "cell_type": "code",
      "source": [
        "#count and say problem\n",
        "\n",
        "\n",
        "\n",
        "def countandsay(n):\n",
        "  if n ==1:\n",
        "    return 1\n",
        "  prev = \"1\"\n",
        "  \n",
        "  for i in range (n-1):\n",
        "      next = \"\"\n",
        "      current_digit = prev[0]\n",
        "      count =1\n",
        "\n",
        "      for i in range(1,len(prev)):\n",
        "        if prev[i] == current_digit:\n",
        "          count+=1\n",
        "        else:\n",
        "          next += str(count) + current_digit\n",
        "          current_digit = prev[i]\n",
        "          count = 1\n",
        "\n",
        "      next += str(count) + current_digit\n",
        "\n",
        "      prev = next\n",
        "\n",
        "  return prev\n",
        "\n",
        "\n",
        "countandsay(2)\n",
        "\n",
        "\n",
        "    \n",
        "\n",
        " \n",
        "\n",
        "    \n",
        "  "
      ],
      "metadata": {
        "colab": {
          "base_uri": "https://localhost:8080/",
          "height": 35
        },
        "id": "3hrUaOCqQQha",
        "outputId": "5ae6a7fb-7baf-449d-fc92-c8bb846c4a5e"
      },
      "execution_count": null,
      "outputs": [
        {
          "output_type": "execute_result",
          "data": {
            "text/plain": [
              "'11'"
            ],
            "application/vnd.google.colaboratory.intrinsic+json": {
              "type": "string"
            }
          },
          "metadata": {},
          "execution_count": 3
        }
      ]
    },
    {
      "cell_type": "code",
      "execution_count": null,
      "metadata": {
        "id": "dt1L6EyMcAry",
        "colab": {
          "base_uri": "https://localhost:8080/"
        },
        "outputId": "ec74e665-af7e-4636-af86-4a4857547016"
      },
      "outputs": [
        {
          "output_type": "stream",
          "name": "stdout",
          "text": [
            "3\n",
            "Enter the number5\n",
            "120\n",
            "Enter the number6\n",
            "720\n",
            "Enter the number7\n",
            "5040\n"
          ]
        }
      ],
      "source": [
        "#factorial\n",
        "\n",
        "\n",
        "x = int(input())\n",
        "\n",
        "for i in range(0,x,1):\n",
        "  n = int(input(\"Enter the number\"))\n",
        "  output = 1\n",
        "\n",
        "  for i in range (1,n+1,1):\n",
        "\n",
        "    output = output * i\n",
        "    \n",
        "\n",
        "  print(output)\n"
      ]
    },
    {
      "cell_type": "code",
      "source": [
        "#sum of triplets\n",
        "\n",
        "\n",
        "a = [7,6,1,23,45,56]\n",
        "sum = 30\n",
        "\n",
        "\n",
        "size = len(a)\n",
        "\n",
        "\n",
        "\n",
        "def find_sum(a,size,sum):\n",
        "   a.sort()\n",
        "\n",
        "   for i in range(0,size-2):\n",
        "\n",
        "     left = i+1\n",
        "     right = size-1\n",
        "\n",
        "     while left< right:\n",
        "\n",
        "       if (a[i] +a[left]+a[right] == sum):\n",
        "          print(\"The Triplet is\",a[i],a[left],a[right])\n",
        "          return True \n",
        "\n",
        "       elif(a[i]+a[left]+a[right] < sum):\n",
        "          left+=1\n",
        "       else:\n",
        "          right-=1\n",
        "   return False\n",
        "\n",
        "status = find_sum(a,size,sum)\n",
        "\n",
        "if status is True:\n",
        "  print(\"result shown\")\n",
        "\n",
        "else:\n",
        "\n",
        "  print(\"not possible\")\n",
        "\n",
        "\n",
        "    \n",
        "#O(n^2) time complexity\n",
        "\n",
        "\n",
        "\n"
      ],
      "metadata": {
        "colab": {
          "base_uri": "https://localhost:8080/"
        },
        "id": "9GR8WjYkAS5M",
        "outputId": "d2a39fd0-b7ca-4eb2-e65a-c9874ac87dd5"
      },
      "execution_count": null,
      "outputs": [
        {
          "output_type": "stream",
          "name": "stdout",
          "text": [
            "The Triplet is 1 6 23\n",
            "result shown\n"
          ]
        }
      ]
    },
    {
      "cell_type": "code",
      "source": [
        "#find min and max of an unsorted array:\n",
        "\n",
        "a = [5,6,1,3,55,2,76]\n",
        "\n",
        "\n",
        "max = a[0]\n",
        "min = a[0]\n",
        "\n",
        "\n",
        "for i in range(0,len(a)):\n",
        "  \n",
        "  if a[i] > max:\n",
        "    max = a[i]\n",
        "\n",
        "\n",
        "for i in range(0,len(a)):\n",
        "\n",
        "    if a[i] <min:\n",
        "      min = a[i]\n",
        "print(min)\n",
        "print(max)\n",
        "\n",
        "#complexity O(n)\n",
        "\n"
      ],
      "metadata": {
        "colab": {
          "base_uri": "https://localhost:8080/"
        },
        "id": "vPlueobBDdNs",
        "outputId": "b95d6828-752a-4241-f97c-5a5ac79f98e9"
      },
      "execution_count": null,
      "outputs": [
        {
          "output_type": "stream",
          "name": "stdout",
          "text": [
            "1\n",
            "76\n"
          ]
        }
      ]
    },
    {
      "cell_type": "code",
      "source": [
        "#kaydence algorithm \n",
        "\n",
        "\n",
        "def findGoodPairs(self, a, n, k):\n",
        "        \n",
        "        \n",
        "        \n",
        "        count = 0\n",
        "        for i in range(0,n):\n",
        "            \n",
        "            for j in range(0,n):\n",
        "                \n",
        "                if a[i] == a[j] and abs(i-j) >= k:\n",
        "                    count +=1\n",
        "                \n",
        "        \n",
        "        return floor(count / 2) \n"
      ],
      "metadata": {
        "id": "TunqklmyLequ"
      },
      "execution_count": null,
      "outputs": []
    },
    {
      "cell_type": "code",
      "source": [
        "def findgoodpairs(a,n,k):\n",
        "\n",
        "\n",
        "  count = 0\n",
        "\n",
        "  \n",
        "\n",
        "\n",
        "\n",
        "\n",
        "\n",
        "\n",
        "\n"
      ],
      "metadata": {
        "id": "Zbe_4s3O3DMc"
      },
      "execution_count": null,
      "outputs": []
    }
  ]
}