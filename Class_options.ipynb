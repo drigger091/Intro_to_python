{
 "cells": [
  {
   "cell_type": "code",
   "execution_count": 3,
   "metadata": {},
   "outputs": [
    {
     "name": "stdout",
     "output_type": "stream",
     "text": [
      "x in s1= : 10\n",
      "x in s2= : 10\n",
      "x in s1= : 11\n",
      "x in s2= : 11\n"
     ]
    }
   ],
   "source": [
    "# clas variable vs static variable\n",
    "\n",
    "\n",
    "class sample:\n",
    "    #class variable\n",
    "     x =10\n",
    "\n",
    "     #creating a class method\n",
    "     @classmethod\n",
    "     def modify(cls):\n",
    "        cls.x +=1\n",
    "\n",
    "    #creating two instanes for the class\n",
    "s1 = sample()\n",
    "s2 = sample()\n",
    "\n",
    "print( \"x in s1= :\",s1.x)\n",
    "print( \"x in s2= :\",s2.x)\n",
    "\n",
    "# modify x in s1\n",
    "s1.modify()\n",
    "print( \"x in s1= :\",s1.x)\n",
    "print( \"x in s2= :\",s2.x)\n",
    "\n",
    "#cls is the default parameter in the class varible used\n",
    "\n",
    "# to access class variabel from outside we need to use sample.x\n",
    "\n"
   ]
  },
  {
   "cell_type": "code",
   "execution_count": 4,
   "metadata": {},
   "outputs": [
    {
     "name": "stdout",
     "output_type": "stream",
     "text": [
      "10\n",
      "11\n",
      "11\n"
     ]
    }
   ],
   "source": [
    "class student:\n",
    "# class varqable\n",
    "    n = 10\n",
    "\n",
    "print(student.n)\n",
    "student.n+=1\n",
    "print(student.n)\n",
    "S2 = student()\n",
    "print(S2.n)\n",
    "\n",
    "#class variable is shared by all instances\n",
    "\n",
    "#once the class variable is modifo=ied in the class name space it is accessible to all instances\n",
    "\n",
    "\n"
   ]
  },
  {
   "cell_type": "code",
   "execution_count": 5,
   "metadata": {},
   "outputs": [
    {
     "name": "stdout",
     "output_type": "stream",
     "text": [
      "11\n",
      "10\n"
     ]
    }
   ],
   "source": [
    "#modyfing the class variable at an instant space\n",
    "\n",
    "class student:\n",
    "    n =10\n",
    "\n",
    "s1 = student()\n",
    "s1.n+= 1\n",
    "print(s1.n)\n",
    "s2 = student()\n",
    "print(s2.n)"
   ]
  },
  {
   "cell_type": "code",
   "execution_count": 9,
   "metadata": {},
   "outputs": [
    {
     "name": "stdout",
     "output_type": "stream",
     "text": [
      "Hi Rajiv\n",
      "Your marks 500\n",
      "You have scored second division\n",
      "---------------------------------------\n",
      "Hi yogesh\n",
      "Your marks 100\n",
      "you have failed\n",
      "---------------------------------------\n"
     ]
    }
   ],
   "source": [
    "#creating an instance method to process data of several students:\n",
    "\n",
    "\n",
    "\n",
    "\n",
    "\n",
    "class student:\n",
    "    def __init__(self,name,marks):\n",
    "        self.name = name\n",
    "        self.marks = marks\n",
    "\n",
    "        #creating instance method\n",
    "    def display(self):\n",
    "            print(\"Hi\",self.name)\n",
    "            print(\"Your marks\",self.marks)\n",
    "\n",
    "        #to show grades based on mrks\n",
    "    def show_grades(self):\n",
    "        if(self.marks >= 600):\n",
    "            \n",
    "            print(\"you have got first grade\")\n",
    "        elif(self.marks >= 500):\n",
    "             print(\"You have scored second division\")\n",
    "        elif(self.marks>=400):\n",
    "            print(\"You have scored 3rd divison\")\n",
    "        else:\n",
    "            print(\"you have failed\")\n",
    "\n",
    "#creating number of instances we are doing it for\n",
    "\n",
    "n = int(input(\"enter the number of students ?\"))\n",
    "\n",
    "i=0\n",
    "while(i<n):\n",
    "    name =input(\"Enter the student name:\")\n",
    "    marks = int(input(\"enter the marks\"))\n",
    "\n",
    "    #creating an instance\n",
    "    s = student(name,marks)\n",
    "    s.display()\n",
    "    s.show_grades()\n",
    "    i+= 1\n",
    "\n",
    "    print(\"---------------------------------------\")\n",
    "\n",
    "\n",
    "\n",
    "\n"
   ]
  },
  {
   "cell_type": "code",
   "execution_count": 10,
   "metadata": {},
   "outputs": [
    {
     "name": "stdout",
     "output_type": "stream",
     "text": [
      "The name is Rajiv\n",
      "Your marks is 400\n",
      "------------------------------------------\n",
      "The name is tolar\n",
      "Your marks is 400\n",
      "------------------------------------------\n"
     ]
    }
   ],
   "source": [
    "# accessor and mutator methods\n",
    "\n",
    "#this is used to avoid the constric tof function of avoiding intialiation factor\n",
    "\n",
    "\n",
    "class student:\n",
    "    #mutator method\n",
    "\n",
    "    def setName(self , name):\n",
    "        self.name = name\n",
    "    \n",
    "    #accesor method\n",
    "\n",
    "    def getName(self):\n",
    "        return self.name\n",
    "\n",
    "    #mutator method\n",
    "\n",
    "    def setMarks(self,marks):\n",
    "        self.marks = marks\n",
    "\n",
    "    #aceessor methods\n",
    "\n",
    "    def getMarks(self):\n",
    "        return self.marks\n",
    "\n",
    "\n",
    "#creating instances for the loop\n",
    "\n",
    "n = int(input(\"enter the number of students:\"))\n",
    "\n",
    "\n",
    "i=0\n",
    "while(i<n):\n",
    "\n",
    "    s = student()\n",
    "    name = input(\"Enter the name:\")\n",
    "    s.setName(name)\n",
    "    marks = input(\"Enter the marks:\")\n",
    "    s.setMarks(marks)\n",
    "\n",
    "    #retrribing the data from class instance\n",
    "\n",
    "    print(\"The name is\",s.getName())\n",
    "    print(\"Your marks is\",s.getMarks())\n",
    "    i+=1\n",
    "\n",
    "    print(\"------------------------------------------\")"
   ]
  },
  {
   "cell_type": "code",
   "execution_count": 11,
   "metadata": {},
   "outputs": [
    {
     "name": "stdout",
     "output_type": "stream",
     "text": [
      "Eagle flies with 2 wings\n",
      "crow flies with 2 wings\n"
     ]
    }
   ],
   "source": [
    "#defining a class method\n",
    "#clas is used instead of self to instatiate the varibles unlike normal methods and wings is in the class variable section so we call it class.variblename\n",
    "\n",
    "\n",
    "class birds:\n",
    "\n",
    "    #class variable\n",
    "\n",
    "    wings =2\n",
    "\n",
    "    @classmethod\n",
    "    def fly(cls ,name):\n",
    "        print(\"{} flies with {} wings\".format(name ,cls.wings))\n",
    "\n",
    "#display information for two birds\n",
    "\n",
    "birds.fly(\"Eagle\")\n",
    "birds.fly(\"crow\")\n",
    "\n",
    "\n"
   ]
  },
  {
   "cell_type": "code",
   "execution_count": 13,
   "metadata": {},
   "outputs": [
    {
     "name": "stdout",
     "output_type": "stream",
     "text": [
      "The number of instances in the class are 5\n"
     ]
    }
   ],
   "source": [
    "#understanding static methods to count the number of instances in a class\n",
    "\n",
    "class student:\n",
    "\n",
    "    #creating a class varible\n",
    "    n =0\n",
    "\n",
    "    #constructing an consrictor to count the number of n when ever an instance is created\n",
    "\n",
    "    def __init__(self):\n",
    "\n",
    "        student.n = student.n+1\n",
    "\n",
    "    #the static method to display the number of instances created in the class\n",
    "    @staticmethod\n",
    "    def no_of_instances():\n",
    "        print(\"The number of instances in the class are\",student.n)\n",
    "\n",
    "#creating instances\n",
    "o1 =student()\n",
    "o2 =student()\n",
    "o3 =student()\n",
    "o4 =student()\n",
    "o5 =student()\n",
    "student.no_of_instances()\n",
    "\n",
    "\n"
   ]
  },
  {
   "cell_type": "code",
   "execution_count": 14,
   "metadata": {},
   "outputs": [
    {
     "name": "stdout",
     "output_type": "stream",
     "text": [
      "The square root of 49.0 is 7.0\n"
     ]
    }
   ],
   "source": [
    "\n",
    "#using a static method to print a square root of a number\n",
    "\n",
    "import math\n",
    "\n",
    "class sample:\n",
    "    @staticmethod\n",
    "    def calculate(x):\n",
    "        result = math.sqrt(x)\n",
    "        return result\n",
    "\n",
    "    #accept number\n",
    "\n",
    "num = float(input(\"enter the number:\"))\n",
    "res = sample.calculate(num)\n",
    "print(\"The square root of {} is {}\".format(num,res))\n"
   ]
  },
  {
   "cell_type": "code",
   "execution_count": null,
   "metadata": {},
   "outputs": [],
   "source": []
  }
 ],
 "metadata": {
  "kernelspec": {
   "display_name": "Python 3.10.6 64-bit",
   "language": "python",
   "name": "python3"
  },
  "language_info": {
   "codemirror_mode": {
    "name": "ipython",
    "version": 3
   },
   "file_extension": ".py",
   "mimetype": "text/x-python",
   "name": "python",
   "nbconvert_exporter": "python",
   "pygments_lexer": "ipython3",
   "version": "3.10.6"
  },
  "orig_nbformat": 4,
  "vscode": {
   "interpreter": {
    "hash": "107d7b120a5b68773a87d4067e673630b35702e55ebab3138143d08b1c4d7cbc"
   }
  }
 },
 "nbformat": 4,
 "nbformat_minor": 2
}
