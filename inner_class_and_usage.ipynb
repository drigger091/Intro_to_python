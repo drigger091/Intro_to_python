{
 "cells": [
  {
   "cell_type": "markdown",
   "metadata": {},
   "source": [
    "# inner clases and its varied uses\n",
    "\n",
    "\n"
   ]
  },
  {
   "cell_type": "code",
   "execution_count": 6,
   "metadata": {},
   "outputs": [
    {
     "name": "stdout",
     "output_type": "stream",
     "text": [
      "name: Dipayan\n",
      "Dob =26/12/1991\n"
     ]
    }
   ],
   "source": [
    "#iiner class is like created on the constructor of a class to acess cetain ther variables\n",
    "\n",
    "\n",
    "\n",
    "\n",
    "\n",
    "class person:\n",
    "    def __init__(self):\n",
    "        self.name = \"Dipayan\"\n",
    "        self.db = self.Dob()  \n",
    "\n",
    "        #creating a method for outer class\n",
    "    def display(self):\n",
    "        print(\"name:\",self.name)\n",
    "\n",
    "    class Dob:\n",
    "        def __init__(self):\n",
    "            self.dd = 26\n",
    "            self.mm = 12\n",
    "            self.yy = 1991\n",
    "        def display(self):\n",
    "            print('Dob ={}/{}/{}'.format(self.dd,self.mm,self.yy))\n",
    "        \n",
    "#creating a person class object\n",
    "\n",
    "\n",
    "\n",
    "p = person()\n",
    "p.display()\n",
    "\n",
    "#create inner class object\n",
    "x = p.db\n",
    "x.display()\n",
    "\n"
   ]
  },
  {
   "cell_type": "code",
   "execution_count": 8,
   "metadata": {},
   "outputs": [
    {
     "name": "stdout",
     "output_type": "stream",
     "text": [
      "Name: Dipayan\n",
      "Date of Birth = 26/12/1991\n",
      "1991\n"
     ]
    }
   ],
   "source": [
    "#we need not create a paramter of ouer class as inner class object instead we could use the follpwing code\n",
    "\n",
    "class person:\n",
    "    def __init__(self):\n",
    "        self.name = \"Dipayan\"\n",
    "\n",
    "    def display(self):\n",
    "        print(\"Name:\",self.name)\n",
    "\n",
    "\n",
    "    class dob:\n",
    "        def __init__(self):\n",
    "            self.dd = 26\n",
    "            self.mm = 12\n",
    "            self.yy = 1991\n",
    "        def display(self):\n",
    "            print(\"Date of Birth = {}/{}/{}\".format(self.dd,self.mm,self.yy))\n",
    "\n",
    "\n",
    "#creating a person for person object\n",
    "\n",
    "p = person()\n",
    "p.display()\n",
    "\n",
    "#creating an object for second class\n",
    "x = person().dob()\n",
    "x.display()\n",
    "print(x.yy)\n"
   ]
  },
  {
   "cell_type": "code",
   "execution_count": null,
   "metadata": {},
   "outputs": [],
   "source": []
  }
 ],
 "metadata": {
  "kernelspec": {
   "display_name": "Python 3.9.7 ('base')",
   "language": "python",
   "name": "python3"
  },
  "language_info": {
   "codemirror_mode": {
    "name": "ipython",
    "version": 3
   },
   "file_extension": ".py",
   "mimetype": "text/x-python",
   "name": "python",
   "nbconvert_exporter": "python",
   "pygments_lexer": "ipython3",
   "version": "3.9.7"
  },
  "orig_nbformat": 4,
  "vscode": {
   "interpreter": {
    "hash": "c39ee6e24b83006eb386f86b08c4fd4839bfb2c807e17caea351eeccecc27516"
   }
  }
 },
 "nbformat": 4,
 "nbformat_minor": 2
}
