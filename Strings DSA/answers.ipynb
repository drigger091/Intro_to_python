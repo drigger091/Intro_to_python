{
 "cells": [
  {
   "cell_type": "code",
   "execution_count": 1,
   "metadata": {},
   "outputs": [
    {
     "name": "stdout",
     "output_type": "stream",
     "text": [
      "ogotecalponevahi\n"
     ]
    }
   ],
   "source": [
    "# reverse a string operation\n",
    "\n",
    "\n",
    "a = \"i have no place to go\"\n",
    "a= a.replace(\" \",\"\")\n",
    "print(a[::-1])"
   ]
  },
  {
   "cell_type": "code",
   "execution_count": 5,
   "metadata": {},
   "outputs": [
    {
     "name": "stdout",
     "output_type": "stream",
     "text": [
      "it is a palindrome\n"
     ]
    }
   ],
   "source": [
    "#check whtehr a string has palindrome or not\n",
    "\n",
    "a = \"malayalam\"\n",
    "\n",
    "def check_palindrome(a):\n",
    "\n",
    "    b = a[::-1]\n",
    "\n",
    "    if b == a:\n",
    "\n",
    "        return True\n",
    "    else:\n",
    "        return False\n",
    "\n",
    "stat_check = check_palindrome(a)\n",
    "\n",
    "if stat_check is True:\n",
    "    print(\"it is a palindrome\")\n",
    "else:\n",
    "    print(\"It is not a palindrome\")\n",
    "\n"
   ]
  },
  {
   "cell_type": "code",
   "execution_count": null,
   "metadata": {},
   "outputs": [],
   "source": []
  },
  {
   "cell_type": "code",
   "execution_count": null,
   "metadata": {},
   "outputs": [],
   "source": []
  }
 ],
 "metadata": {
  "kernelspec": {
   "display_name": "Python 3",
   "language": "python",
   "name": "python3"
  },
  "language_info": {
   "codemirror_mode": {
    "name": "ipython",
    "version": 3
   },
   "file_extension": ".py",
   "mimetype": "text/x-python",
   "name": "python",
   "nbconvert_exporter": "python",
   "pygments_lexer": "ipython3",
   "version": "3.10.9"
  },
  "orig_nbformat": 4,
  "vscode": {
   "interpreter": {
    "hash": "00ab0c96a4010d88df09b2badbfa6c7366287254f707ccc0dc2e798515ac13e8"
   }
  }
 },
 "nbformat": 4,
 "nbformat_minor": 2
}
