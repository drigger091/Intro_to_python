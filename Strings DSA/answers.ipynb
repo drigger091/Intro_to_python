{
 "cells": [
  {
   "cell_type": "code",
   "execution_count": 1,
   "metadata": {},
   "outputs": [
    {
     "name": "stdout",
     "output_type": "stream",
     "text": [
      "ogotecalponevahi\n"
     ]
    }
   ],
   "source": [
    "# reverse a string operation\n",
    "\n",
    "\n",
    "a = \"i have no place to go\"\n",
    "a= a.replace(\" \",\"\")\n",
    "print(a[::-1])"
   ]
  },
  {
   "cell_type": "code",
   "execution_count": 5,
   "metadata": {},
   "outputs": [
    {
     "name": "stdout",
     "output_type": "stream",
     "text": [
      "it is a palindrome\n"
     ]
    }
   ],
   "source": [
    "#check whtehr a string has palindrome or not\n",
    "\n",
    "a = \"malayalam\"\n",
    "\n",
    "def check_palindrome(a):\n",
    "\n",
    "    b = a[::-1]\n",
    "\n",
    "    if b == a:\n",
    "\n",
    "        return True\n",
    "    else:\n",
    "        return False\n",
    "\n",
    "stat_check = check_palindrome(a)\n",
    "\n",
    "if stat_check is True:\n",
    "    print(\"it is a palindrome\")\n",
    "else:\n",
    "    print(\"It is not a palindrome\")\n",
    "\n"
   ]
  },
  {
   "cell_type": "code",
   "execution_count": 4,
   "metadata": {},
   "outputs": [
    {
     "name": "stdout",
     "output_type": "stream",
     "text": [
      "{'i': 1, ' ': 4, 'a': 2, 'm': 1, 'g': 1, 'o': 3, 'd': 1, 'b': 1, 'y': 1}\n"
     ]
    }
   ],
   "source": [
    "#count the occurences of each character in a string\n",
    "\n",
    "def count_chars(a):\n",
    "    char_count = {}\n",
    "    for i in a:\n",
    "        if i in char_count:\n",
    "            char_count[i] += 1\n",
    "        else:\n",
    "            char_count[i] = 1\n",
    "    return char_count\n",
    "\n",
    "string = \"i am a good boy\"\n",
    "char_count = count_chars(string)\n",
    "print(char_count)\n",
    "\n",
    "\n"
   ]
  },
  {
   "cell_type": "code",
   "execution_count": 5,
   "metadata": {},
   "outputs": [
    {
     "name": "stdout",
     "output_type": "stream",
     "text": [
      "True\n"
     ]
    }
   ],
   "source": [
    "#check whether a string has duplicates or not\n",
    "\n",
    "a = \"asdasdas\"\n",
    "def has_duplicates(a):\n",
    "    char_dict = {}\n",
    "    for i in a:\n",
    "        if i in char_dict:\n",
    "            return True\n",
    "        else:\n",
    "            char_dict[i] = 1\n",
    "    return False\n",
    "\n",
    "\n",
    "result = has_duplicates(a)\n",
    "print(result)\n"
   ]
  },
  {
   "cell_type": "code",
   "execution_count": 9,
   "metadata": {},
   "outputs": [
    {
     "name": "stdout",
     "output_type": "stream",
     "text": [
      "They are rotation of one another\n"
     ]
    }
   ],
   "source": [
    "# Write a Code to check whether one string is a rotation of another #basically anagrams\n",
    "\n",
    "a = \"hello\"\n",
    "b = \"lohel\"\n",
    "\n",
    "\n",
    "def is_rotation(a , b):\n",
    "\n",
    "    a = a.replace(\" \",\"\")\n",
    "    b = b.replace(\" \",\"\")\n",
    "    a = a.lower()\n",
    "    b = b.lower()\n",
    "\n",
    "    dicta = {}\n",
    "    dictb = {}\n",
    "\n",
    "    for i in a:\n",
    "\n",
    "        if i in dicta:\n",
    "            dicta[i] +=1\n",
    "        else:\n",
    "            dicta[i] = 1\n",
    "\n",
    "            \n",
    "    for j in b:\n",
    "\n",
    "        if j in dictb:\n",
    "            dictb[j] +=1\n",
    "        else:\n",
    "            dictb[j] = 1\n",
    "\n",
    "    \n",
    "    if dicta == dictb:\n",
    "        print(\"They are rotation of one another\")\n",
    "\n",
    "    else:\n",
    "        print(\" They are not rotation of another\")\n",
    "\n",
    "\n",
    "is_rotation(a ,b)\n"
   ]
  },
  {
   "cell_type": "code",
   "execution_count": 18,
   "metadata": {},
   "outputs": [
    {
     "name": "stdout",
     "output_type": "stream",
     "text": [
      "it is valid shuffle\n"
     ]
    }
   ],
   "source": [
    "#Write a Program to check whether a string is a valid shuffle of two strings or not\n",
    "\n",
    "a = \"cary\"\n",
    "b = \"anar\"\n",
    "c = \"caanrayr\"\n",
    "\n",
    "def valid_shuffle(a,b,c):\n",
    "\n",
    "    if len(a) + len(b) == len(c):\n",
    "\n",
    "        i , j , k = 0,0,0\n",
    "\n",
    "        while k < len(c):\n",
    "\n",
    "            if i < len(a) and a[i] == c[k]:\n",
    "                i+=1\n",
    "            elif j < len(b) and b[j] == c[k]:\n",
    "                j+=1\n",
    "            else:\n",
    "                return False\n",
    "            k+=1\n",
    "    else:\n",
    "\n",
    "        return False\n",
    "    \n",
    "    return i == len(a) and j == len(b)\n",
    "\n",
    "stat_check = valid_shuffle(a , b ,c)\n",
    "\n",
    "if stat_check is True:\n",
    "    print(\"it is valid shuffle\")\n",
    "else:\n",
    "    print(\"Not a valid shuffle\")"
   ]
  },
  {
   "cell_type": "code",
   "execution_count": null,
   "metadata": {},
   "outputs": [],
   "source": []
  }
 ],
 "metadata": {
  "kernelspec": {
   "display_name": "Python 3",
   "language": "python",
   "name": "python3"
  },
  "language_info": {
   "codemirror_mode": {
    "name": "ipython",
    "version": 3
   },
   "file_extension": ".py",
   "mimetype": "text/x-python",
   "name": "python",
   "nbconvert_exporter": "python",
   "pygments_lexer": "ipython3",
   "version": "3.10.9"
  },
  "orig_nbformat": 4,
  "vscode": {
   "interpreter": {
    "hash": "00ab0c96a4010d88df09b2badbfa6c7366287254f707ccc0dc2e798515ac13e8"
   }
  }
 },
 "nbformat": 4,
 "nbformat_minor": 2
}
