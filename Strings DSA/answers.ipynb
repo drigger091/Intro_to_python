{
 "cells": [
  {
   "cell_type": "code",
   "execution_count": null,
   "metadata": {},
   "outputs": [],
   "source": [
    "# reverse a string operation\n",
    "\n",
    "\n",
    "a = \"i have no place to go\"\n",
    "a= a.replace(\" \",\"\")\n",
    "print(a[::-1])"
   ]
  }
 ],
 "metadata": {
  "kernelspec": {
   "display_name": "base",
   "language": "python",
   "name": "python3"
  },
  "language_info": {
   "name": "python",
   "version": "3.9.7 (default, Sep 16 2021, 16:59:28) [MSC v.1916 64 bit (AMD64)]"
  },
  "orig_nbformat": 4,
  "vscode": {
   "interpreter": {
    "hash": "c39ee6e24b83006eb386f86b08c4fd4839bfb2c807e17caea351eeccecc27516"
   }
  }
 },
 "nbformat": 4,
 "nbformat_minor": 2
}
