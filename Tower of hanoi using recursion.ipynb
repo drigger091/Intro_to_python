{
 "cells": [
  {
   "cell_type": "code",
   "execution_count": 2,
   "id": "49bcdbfa",
   "metadata": {},
   "outputs": [],
   "source": [
    "def tower_hanoi(n,a,b,c):\n",
    "    \n",
    "    if n==1:\n",
    "        print(\"move 1st disk from\",a, \"to\" ,c)\n",
    "        return\n",
    "    tower_hanoi(n-1,a,c,b)\n",
    "    print(\"move the\",n,\"thdisk from \",a ,\"to\",c)\n",
    "    tower_hanoi(n-1,b,a,c)\n",
    "    "
   ]
  },
  {
   "cell_type": "code",
   "execution_count": 11,
   "id": "9fbc4556",
   "metadata": {},
   "outputs": [
    {
     "name": "stdout",
     "output_type": "stream",
     "text": [
      "move 1st disk from first_tower to third_tower\n",
      "move the 2 thdisk from  first_tower to second_tower\n",
      "move 1st disk from third_tower to second_tower\n",
      "move the 3 thdisk from  first_tower to third_tower\n",
      "move 1st disk from second_tower to first_tower\n",
      "move the 2 thdisk from  second_tower to third_tower\n",
      "move 1st disk from first_tower to third_tower\n"
     ]
    }
   ],
   "source": [
    "tower_hanoi(3,\"first_tower\",\"second_tower\",\"third_tower\")\n"
   ]
  },
  {
   "cell_type": "code",
   "execution_count": null,
   "id": "de6a30de",
   "metadata": {},
   "outputs": [],
   "source": []
  }
 ],
 "metadata": {
  "kernelspec": {
   "display_name": "Python 3 (ipykernel)",
   "language": "python",
   "name": "python3"
  },
  "language_info": {
   "codemirror_mode": {
    "name": "ipython",
    "version": 3
   },
   "file_extension": ".py",
   "mimetype": "text/x-python",
   "name": "python",
   "nbconvert_exporter": "python",
   "pygments_lexer": "ipython3",
   "version": "3.9.7"
  }
 },
 "nbformat": 4,
 "nbformat_minor": 5
}
