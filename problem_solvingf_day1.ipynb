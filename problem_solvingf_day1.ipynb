{
  "nbformat": 4,
  "nbformat_minor": 0,
  "metadata": {
    "colab": {
      "provenance": [],
      "authorship_tag": "ABX9TyNAXep80Jf7WudGhBWMToJ/"
    },
    "kernelspec": {
      "name": "python3",
      "display_name": "Python 3"
    },
    "language_info": {
      "name": "python"
    }
  },
  "cells": [
    {
      "cell_type": "code",
      "source": [
        "#longest subsequnce plaindrome\n"
      ],
      "metadata": {
        "id": "nj0FK2IWsGq-"
      },
      "execution_count": null,
      "outputs": []
    },
    {
      "cell_type": "code",
      "source": [
        "def longestPalindrome(a): \n",
        "    \n",
        "  s = len(a)\n",
        "  res = \"\"\n",
        "  reslen = 0\n",
        "\n",
        "  if s <=0:\n",
        "      print(\"Cant be done\")\n",
        "\n",
        "  else:\n",
        "\n",
        "      for i in range(s):\n",
        "\n",
        "        if s %2 != 0: #odd length\n",
        "            l,r = i,i\n",
        "            while l >=0 and r < s and a[l] == a[r]:\n",
        "              if (r-l +1) > reslen:\n",
        "                res = a[l:r+1]\n",
        "                reslen = r-l +1\n",
        "              l-=1\n",
        "              r+=1\n",
        "            else: #even length\n",
        "              l ,r = i ,i+1\n",
        "\n",
        "            while l >=0 and r < s and a[i] == a[r]:\n",
        "\n",
        "              if (r-1+l) > reslen:\n",
        "                res = a[l:r+1]\n",
        "                reslen = l-r +1\n",
        "              l-=1\n",
        "              r+=1\n",
        "\n",
        "      return res\n",
        "\n",
        "\n",
        "print(longestPalindrome(a))"
      ],
      "metadata": {
        "id": "nmWSjdTcSHdx"
      },
      "execution_count": null,
      "outputs": []
    },
    {
      "cell_type": "code",
      "execution_count": null,
      "metadata": {
        "colab": {
          "base_uri": "https://localhost:8080/"
        },
        "id": "EvHJOg_Ds3nG",
        "outputId": "06f2ad96-166e-48ff-8dbd-ee31eadb8e17"
      },
      "outputs": [
        {
          "output_type": "stream",
          "name": "stdout",
          "text": [
            "enter the number of elements3\n",
            "enter the elements1\n",
            "enter the elements2\n",
            "enter the elements3\n",
            "[1, 2, 3]\n",
            "6\n"
          ]
        }
      ],
      "source": [
        " #@title Default title text\n",
        "#Given an array of integers, find the sum of its elements.\n",
        "\n",
        "n = int(input(\"enter the number of elements\"))\n",
        "\n",
        "arr = []\n",
        "\n",
        "for i in range(0,n):\n",
        "  a = int(input(\"enter the elements\"))\n",
        "  arr.append(a)\n",
        "\n",
        "print(arr)\n",
        "\n",
        "sum =0\n",
        "for j in arr:\n",
        "  sum = sum + j\n",
        "\n",
        "  \n",
        "  \n",
        "\n",
        "print(sum)\n",
        "\n",
        "\n"
      ]
    },
    {
      "cell_type": "markdown",
      "source": [
        "Alice and Bob each created one problem for HackerRank. A reviewer rates the two challenges, awarding points on a scale from 1 to 100 for three categories: problem clarity, originality, and difficulty.\n",
        "\n",
        "The rating for Alice's challenge is the triplet a = (a[0], a[1], a[2]), and the rating for Bob's challenge is the triplet b = (b[0], b[1], b[2]).\n",
        "\n",
        "The task is to find their comparison points by comparing a[0] with b[0], a[1] with b[1], and a[2] with b[2].\n",
        "\n",
        "    If a[i] > b[i], then Alice is awarded 1 point.\n",
        "    If a[i] < b[i], then Bob is awarded 1 point.\n",
        "    If a[i] = b[i], then neither person receives a point.\n",
        "\n",
        "Comparison points is the total points a person earned.\n",
        "\n",
        "Given a and b, determine their respective comparison points\n",
        "\n",
        "\n",
        "Function Description\n",
        "\n",
        "Complete the function compareTriplets in the editor below.\n",
        "\n",
        "compareTriplets has the following parameter(s):\n",
        "\n",
        "    int a[3]: Alice's challenge rating\n",
        "    int b[3]: Bob's challenge rating\n",
        "\n",
        "Return\n",
        "\n",
        "    int[2]: Alice's score is in the first position, and Bob's score is in the second.\n"
      ],
      "metadata": {
        "id": "qMoFsfmRzEBq"
      }
    },
    {
      "cell_type": "code",
      "source": [
        "\n",
        "\n",
        "\n",
        "#a is alice array\n",
        "#b is bob array\n",
        "\n",
        "n = int(input(\"enter the number of elements for Alice array\"))\n",
        "\n",
        "if n > 100:\n",
        "  print(\"inavlid array size\")\n",
        "else:\n",
        "\n",
        "    a = []\n",
        "\n",
        "    for i in range(0,n):\n",
        "      arr = int(input(\"enter the elements\"))\n",
        "      a.append(arr)\n",
        "\n",
        "print(a)\n",
        "\n",
        "\n",
        "n = int(input(\"enter the number of elements for Bob array\"))\n",
        "\n",
        "if n > 100:\n",
        "  print(\"inavlid array size\")\n",
        "\n",
        "else:\n",
        "  b = []\n",
        "\n",
        "  for i in range(0,n):\n",
        "    arr = int(input(\"enter the elements\"))\n",
        "    b.append(arr)\n",
        "\n",
        "print(b)\n",
        "\n",
        "\n",
        "\n",
        "def compare(a,b):\n",
        "    Alice = 0\n",
        "    Bob = 0\n",
        "    if len(a) == len(b):\n",
        "\n",
        "        for i in range(0 ,len(a)):\n",
        "          if a[i] > b[i]:\n",
        "            Alice+=1\n",
        "          elif a[i] < b[i]:\n",
        "            Bob+=1\n",
        "\n",
        "          else:\n",
        "            continue\n",
        "    else:\n",
        "\n",
        "        print(\"Alice and Bob dont have equal size\")\n",
        "\n",
        "    \n",
        "    \n",
        "    return Alice,Bob\n",
        "\n",
        "\n",
        "compare(a,b)\n",
        "\n",
        "\n",
        "\n"
      ],
      "metadata": {
        "colab": {
          "base_uri": "https://localhost:8080/"
        },
        "id": "OcqG14eCzLOw",
        "outputId": "0b0fbcbe-ea54-46f7-920a-9b368247fb61"
      },
      "execution_count": null,
      "outputs": [
        {
          "output_type": "stream",
          "name": "stdout",
          "text": [
            "enter the number of elements for Alice array2\n",
            "enter the elements1\n",
            "enter the elements5\n",
            "[1, 5]\n",
            "enter the number of elements for Bob array1\n",
            "enter the elements4\n",
            "[4]\n",
            "Alice and Bob dont have equal size\n"
          ]
        },
        {
          "output_type": "execute_result",
          "data": {
            "text/plain": [
              "(0, 0)"
            ]
          },
          "metadata": {},
          "execution_count": 17
        }
      ]
    },
    {
      "cell_type": "markdown",
      "source": [
        "In this challenge, you are required to calculate and print the sum of the elements in an array, keeping in mind that some of those integers may be quite large.\n",
        "\n",
        "Function Description\n",
        "\n",
        "Complete the aVeryBigSum function in the editor below. It must return the sum of all array elements.\n",
        "\n",
        "aVeryBigSum has the following parameter(s):\n",
        "\n",
        "    int ar[n]: an array of integers .\n",
        "\n",
        "Return\n",
        "\n",
        "    long: the sum of all array elements\n",
        "\n",
        "Input Format\n",
        "\n",
        "The first line of the input consists of an integer\n",
        ".\n",
        "The next line contains\n",
        "\n",
        "space-separated integers contained in the array.\n",
        "\n",
        "Output Format\n",
        "\n",
        "Return the integer sum of the elements in the array.\n",
        "\n",
        "Constraints\n",
        "\n",
        "Sample Input\n",
        "\n",
        "5\n",
        "1000000001 1000000002 1000000003 1000000004 1000000005\n",
        "\n",
        "Output\n",
        "\n",
        "5000000015\n",
        "\n",
        "Note:\n",
        "\n",
        "The range of the 32-bit integer is\n",
        "\n",
        ".\n",
        "\n",
        "When we add several integer values, the resulting sum might exceed the above range. You might need to use long int C/C++/Java to store such sum\n"
      ],
      "metadata": {
        "id": "gFnEaNOZzCtH"
      }
    },
    {
      "cell_type": "code",
      "source": [
        "a = \"hellloojbabaklbalbalbna;a\"\n",
        "a =a[::-1]\n",
        "print(a)"
      ],
      "metadata": {
        "colab": {
          "base_uri": "https://localhost:8080/"
        },
        "id": "GnMC53nz8Wda",
        "outputId": "ff1ab45f-dfa7-445f-928d-77e3453b2adb"
      },
      "execution_count": null,
      "outputs": [
        {
          "output_type": "stream",
          "name": "stdout",
          "text": [
            "a;anblablablkababjoollleh\n"
          ]
        }
      ]
    },
    {
      "cell_type": "code",
      "source": [
        "def showresult(a):\n",
        "  a= \"12344578\"\n",
        "  a = a[::-1]\n",
        "\n",
        "  i =0\n",
        "  while(i<len(a)):\n",
        "    print(a[i],end  =\"\")\n",
        "    i+=1\n",
        "  "
      ],
      "metadata": {
        "id": "ZHu2168GMpwn"
      },
      "execution_count": null,
      "outputs": []
    },
    {
      "cell_type": "code",
      "source": [
        "#needs to be solved\n",
        "\n",
        "\n",
        "\n",
        "\n",
        "\n",
        "\n",
        "\n",
        "def getsum(a,b):\n",
        "  \n",
        "  sum = \"\"\n",
        "  carry = 0\n",
        "  a = a[::-1]\n",
        "  b = b[::-1]\n",
        "  \n",
        "  for i in range(0,len(b)):\n",
        "      s = carry + (int(a[i])+int(b[i])) % 10\n",
        "      carry = (int(a[i])+int(b[i]))//10\n",
        "      sum += str(s)\n",
        "  for i in range(min(len(b),len(a)), max(len(a), len(b))):\n",
        "      s = carry + (int(a[i]))%10\n",
        "      carry = (int(a[i]))//10\n",
        "      sum += str(s)\n",
        "\n",
        "  sum = sum[::-1]\n",
        "  return sum\n",
        "  \n",
        "  \n",
        "\n",
        "\n",
        "arr = ['1000000','2000000','56000','564646']\n",
        "\n",
        "def Array_sum(arr):\n",
        "  if len(arr) == 1:\n",
        "    return arr\n",
        "\n",
        "  add = getsum(arr[0],arr[1])\n",
        "\n",
        "  for i in range(2, len(arr)):\n",
        "      add = getsum(add,arr[i])\n",
        "\n",
        "  return add\n",
        "\n",
        "\n",
        "Array_sum(arr)\n",
        "\n",
        "\n",
        "    \n",
        "\n",
        "\n",
        "\n",
        "\n",
        "\n",
        "\n",
        "\n",
        "  \n",
        "  \n",
        "    \n",
        "\n",
        "\n",
        "\n",
        "\n",
        "\n"
      ],
      "metadata": {
        "id": "hGVyzDxpN5gv",
        "colab": {
          "base_uri": "https://localhost:8080/",
          "height": 35
        },
        "outputId": "0db4f52f-3ffa-482b-bdf7-e37a567ef489"
      },
      "execution_count": null,
      "outputs": [
        {
          "output_type": "execute_result",
          "data": {
            "text/plain": [
              "'3620646'"
            ],
            "application/vnd.google.colaboratory.intrinsic+json": {
              "type": "string"
            }
          },
          "metadata": {},
          "execution_count": 20
        }
      ]
    },
    {
      "cell_type": "code",
      "source": [
        "print(len(a))\n",
        "  print(len(b))\n",
        "  \n",
        "  for i in range(0,len(a)):\n",
        "      s = carry + (int(a[i])+int(b[i])) % 10\n",
        "      carry = (int(a[i])+int(b[i]))//10\n",
        "      sum += str(s)\n",
        "\n",
        "  sum = sum[::-1]\n",
        "  return sum\n",
        "\n",
        "\n",
        "getsum(a,b)"
      ],
      "metadata": {
        "id": "WqtqzVYFVqDn"
      },
      "execution_count": null,
      "outputs": []
    },
    {
      "cell_type": "code",
      "source": [
        "sum = 0\n",
        "for i in range(0,len(b)):\n",
        "    sum =  + b[i]+a[i]\n",
        "    carry = 0\n",
        "    \n",
        "    if sum >= 10:\n",
        "      result = sum % 10\n",
        "      carry+=1\n",
        "    else:\n",
        "      result = sum"
      ],
      "metadata": {
        "id": "AnCpCo6afzS8"
      },
      "execution_count": null,
      "outputs": []
    },
    {
      "cell_type": "markdown",
      "source": [
        "Given a square matrix, calculate the absolute difference between the sums of its diagonals.\n",
        "\n",
        "For example, the square matrix\n",
        "\n",
        "is shown below:\n",
        "\n",
        "1 2 3\n",
        "4 5 6\n",
        "9 8 9  \n",
        "\n",
        "The left-to-right diagonal =\n",
        ". The right to left diagonal = . Their absolute difference is\n",
        "\n",
        ".\n",
        "\n",
        "Function description\n",
        "\n",
        "Complete the\n",
        "\n",
        "function in the editor below.\n",
        "\n",
        "diagonalDifference takes the following parameter:\n",
        "\n",
        "    int arr[n][m]: an array of integers\n",
        "\n",
        "Return\n",
        "\n",
        "    int: the absolute diagonal difference\n",
        "\n",
        "Input Format\n",
        "\n",
        "The first line contains a single integer,\n",
        ", the number of rows and columns in the square matrix .\n",
        "Each of the next lines describes a row, , and consists of space-separated integers\n",
        "\n",
        ".\n",
        "\n",
        "Constraints\n",
        "\n",
        "Output Format\n",
        "\n",
        "Return the absolute difference between the sums of the matrix's two diagonals as a single integer.\n",
        "\n",
        "Sample Input\n",
        "\n",
        "3\n",
        "11 2 4\n",
        "4 5 6\n",
        "10 8 -12\n",
        "\n",
        "Sample Output\n",
        "\n",
        "15\n",
        "\n",
        "Explanation\n",
        "\n",
        "The primary diagonal is:\n",
        "\n",
        "11\n",
        "   5\n",
        "     -12\n",
        "\n",
        "Sum across the primary diagonal: 11 + 5 - 12 = 4\n",
        "\n",
        "The secondary diagonal is:\n",
        "\n",
        "     4\n",
        "   5\n",
        "10\n",
        "\n",
        "Sum across the secondary diagonal: 4 + 5 + 10 = 19\n",
        "Difference: |4 - 19| = 15\n",
        "\n",
        "Note: |x| is the absolute value of x"
      ],
      "metadata": {
        "id": "mVggH03aOhoR"
      }
    },
    {
      "cell_type": "code",
      "source": [
        "#taking the matrix user input\n",
        "\n",
        "\n",
        "#R = int(input(\"Enter the rows of the matrix\"))\n",
        "#C = int(input(\"Enter the columns of the matrix\"))\n",
        "N = int(input(\"Enter the dimensions of the matrix\"))\n",
        "#initialize matrix\n",
        "\n",
        "matrix = []\n",
        "\n",
        "\n",
        "for i in range(N):\n",
        "  a = []\n",
        "  for j in range(N):\n",
        "      a.append(int(input(\"enter the values\")))\n",
        "  matrix.append(a)\n",
        "\n",
        "#printing the matrix\n",
        "\n",
        "for i  in range(N):\n",
        "  for j in range(N):\n",
        "    print(matrix[i][j], end =\" \")\n",
        "  print()\n",
        "  \n",
        "\n",
        "\n",
        "def diagonal_dfference(matrix):\n",
        "  leftdiag = 0\n",
        "  rightdiag = 0\n",
        "\n",
        "  for i in range(N):\n",
        "    leftdiag +=matrix[i][i]\n",
        "    rightdiag +=matrix[i][N-1-i]\n",
        "  return abs(leftdiag-rightdiag)\n",
        "\n",
        "\n",
        "\n",
        "\n",
        "\n",
        "print(\"The diagonal difference of the matrix is:\",diagonal_dfference(matrix))\n",
        "    \n",
        "\n",
        "\n",
        "\n",
        "\n",
        "\n",
        "\n",
        "\n",
        "\n",
        "\n",
        "\n",
        "\n",
        "\n",
        "\n",
        "\n",
        "\n",
        "\n"
      ],
      "metadata": {
        "id": "3_vAuTcGOXiR",
        "colab": {
          "base_uri": "https://localhost:8080/"
        },
        "outputId": "7135960d-aafd-48ea-de93-fa258bd0f2d3"
      },
      "execution_count": null,
      "outputs": [
        {
          "output_type": "stream",
          "name": "stdout",
          "text": [
            "Enter the dimensions of the matrix3\n",
            "enter the values1\n",
            "enter the values2\n",
            "enter the values3\n",
            "enter the values4\n",
            "enter the values5\n",
            "enter the values6\n",
            "enter the values9\n",
            "enter the values8\n",
            "enter the values9\n",
            "1 2 3 \n",
            "4 5 6 \n",
            "9 8 9 \n",
            "The diagonal difference of the matrix is: 2\n"
          ]
        }
      ]
    },
    {
      "cell_type": "markdown",
      "source": [
        "Given an array of integers, calculate the ratios of its elements that are positive, negative, and zero. Print the decimal value of each fraction on a new line with\n",
        "\n",
        "places after the decimal.\n",
        "\n",
        "Note: This challenge introduces precision problems. The test cases are scaled to six decimal places, though answers with absolute error of up to\n",
        "\n",
        "are acceptable.\n",
        "\n",
        "Example\n",
        "There are elements, two positive, two negative and one zero. Their ratios are , and\n",
        "\n",
        ". Results are printed as:\n",
        "\n",
        "0.400000\n",
        "0.400000\n",
        "0.200000\n",
        "\n",
        "Function Description\n",
        "\n",
        "Complete the plusMinus function in the editor below.\n",
        "\n",
        "plusMinus has the following parameter(s):\n",
        "\n",
        "    int arr[n]: an array of integers\n",
        "\n",
        "Print\n",
        "Print the ratios of positive, negative and zero values in the array. Each value should be printed on a separate line with\n",
        "digits after the decimal. The function should not return a value. \n"
      ],
      "metadata": {
        "id": "R9H5iCeSOgP7"
      }
    },
    {
      "cell_type": "code",
      "source": [
        "n = int(input(\"enter the number of elements\"))\n",
        "\n",
        "arr = []\n",
        "\n",
        "\n",
        "if n > 0 and n <= 100:\n",
        "\n",
        "    for i in range(0,n):\n",
        "     a = int(input(\"enter the elements\"))\n",
        "     arr.append(a)\n",
        "\n",
        "else:\n",
        "  print(\"Invalid Array size\")\n",
        "\n",
        "\n",
        "print(arr)\n",
        "\n",
        "\n",
        "\n",
        "def plusMinus(arr):\n",
        "\n",
        "  pos = 0\n",
        "  neg = 0\n",
        "  zero = 0\n",
        "  for i in range(0, n):\n",
        "    if arr[i] > 0:\n",
        "      pos += 1\n",
        "    elif arr[i] < 0:\n",
        "      neg += 1\n",
        "    else:\n",
        "      zero += 1\n",
        "\n",
        "  print(pos/n)\n",
        "  print(neg/n)\n",
        "  print(zero/n)\n",
        "\n",
        "\n",
        "plusMinus(arr)\n",
        "\n",
        "\n"
      ],
      "metadata": {
        "colab": {
          "base_uri": "https://localhost:8080/"
        },
        "id": "7OD7MW1Gf4BC",
        "outputId": "466b9f75-197f-4e21-b31d-0e0b4630a098"
      },
      "execution_count": null,
      "outputs": [
        {
          "output_type": "stream",
          "name": "stdout",
          "text": [
            "enter the number of elements5\n",
            "enter the elements1\n",
            "enter the elements1\n",
            "enter the elements0\n",
            "enter the elements-1\n",
            "enter the elements-1\n",
            "[1, 1, 0, -1, -1]\n",
            "0.4\n",
            "0.4\n",
            "0.2\n"
          ]
        }
      ]
    },
    {
      "cell_type": "markdown",
      "source": [
        "Staircase detail\n",
        "\n",
        "This is a staircase of size\n",
        "\n",
        ":\n",
        "\n",
        "   #\n",
        "  ##\n",
        " ###\n",
        "####\n",
        "\n",
        "Its base and height are both equal to\n",
        "\n",
        ". It is drawn using # symbols and spaces. The last line is not preceded by any spaces.\n",
        "\n",
        "Write a program that prints a staircase of size\n",
        "\n",
        ".\n",
        "\n",
        "Function Description\n",
        "\n",
        "Complete the staircase function in the editor below.\n",
        "\n",
        "staircase has the following parameter(s):\n",
        "\n",
        "    int n: an integer\n",
        "\n",
        "Print\n",
        "\n",
        "Print a staircase as described above.\n",
        "\n",
        "Input Format\n",
        "\n",
        "A single integer,\n",
        "\n",
        ", denoting the size of the staircase.\n",
        "\n",
        "Constraints\n",
        "\n",
        ".\n",
        "\n",
        "Output Format\n",
        "\n",
        "Print a staircase of size\n",
        "\n",
        "using # symbols and spaces.\n",
        "\n",
        "Note: The last line must have\n",
        "\n",
        "spaces in it.\n",
        "\n",
        "Sample Input\n",
        "\n",
        "6 \n",
        "\n",
        "Sample Output\n",
        "\n",
        "     #\n",
        "    ##\n",
        "   ###\n",
        "  ####\n",
        " #####\n",
        "######\n",
        "\n",
        "Explanation\n",
        "\n",
        "The staircase is right-aligned, composed of # symbols and spaces, and has a height and width of\n",
        "."
      ],
      "metadata": {
        "id": "ZxzkAQP3YLgs"
      }
    },
    {
      "cell_type": "code",
      "source": [],
      "metadata": {
        "id": "FG6xIbmlSCZK"
      },
      "execution_count": null,
      "outputs": []
    },
    {
      "cell_type": "code",
      "source": [
        "n = 10\n",
        "\n",
        "for i in range(1,n):\n",
        "    s= \"1\" * i\n",
        "    fillchar = \"0\"\n",
        "    print(s.ljust(n,fillchar))"
      ],
      "metadata": {
        "colab": {
          "base_uri": "https://localhost:8080/"
        },
        "outputId": "d3e7fafc-f38a-44c3-f5a6-b967c1af6925",
        "id": "ai66inHNSiDn"
      },
      "execution_count": 9,
      "outputs": [
        {
          "output_type": "stream",
          "name": "stdout",
          "text": [
            "1000000000\n",
            "1100000000\n",
            "1110000000\n",
            "1111000000\n",
            "1111100000\n",
            "1111110000\n",
            "1111111000\n",
            "1111111100\n",
            "1111111110\n"
          ]
        }
      ]
    },
    {
      "cell_type": "code",
      "source": [
        "n = 10\n",
        "\n",
        "for i in range(1,n+1):\n",
        "    s= \"#\" * i\n",
        "    print(s.rjust(n))"
      ],
      "metadata": {
        "id": "SH_m4Bf9UOCJ",
        "colab": {
          "base_uri": "https://localhost:8080/"
        },
        "outputId": "e94c6b9d-37ae-49f5-9ad1-83c8ecc5cfea"
      },
      "execution_count": 3,
      "outputs": [
        {
          "output_type": "stream",
          "name": "stdout",
          "text": [
            "         #\n",
            "        ##\n",
            "       ###\n",
            "      ####\n",
            "     #####\n",
            "    ######\n",
            "   #######\n",
            "  ########\n",
            " #########\n",
            "##########\n"
          ]
        }
      ]
    },
    {
      "cell_type": "markdown",
      "source": [
        "Given five positive integers, find the minimum and maximum values that can be calculated by summing exactly four of the five integers. Then print the respective minimum and maximum values as a single line of two space-separated long integers.\n",
        "\n",
        "Example\n",
        "The minimum sum is and the maximum sum is\n",
        "\n",
        ". The function prints\n",
        "\n",
        "16 24\n",
        "\n",
        "Function Description\n",
        "\n",
        "Complete the miniMaxSum function in the editor below.\n",
        "\n",
        "miniMaxSum has the following parameter(s):\n",
        "\n",
        "    arr: an array of \n",
        "\n",
        "    integers\n",
        "\n",
        "Print\n",
        "\n",
        "Print two space-separated integers on one line: the minimum sum and the maximum sum of\n",
        "of\n",
        "\n",
        "elements.\n",
        "\n",
        "Input Format\n",
        "\n",
        "A single line of five space-separated integers.\n",
        "\n",
        "Constraints\n",
        "\n",
        "Output Format\n",
        "\n",
        "Print two space-separated long integers denoting the respective minimum and maximum values that can be calculated by summing exactly four of the five integers. (The output can be greater than a 32 bit integer.)"
      ],
      "metadata": {
        "id": "K7sG67V_jKSG"
      }
    },
    {
      "cell_type": "code",
      "source": [],
      "metadata": {
        "id": "b5cDAjhDOu2C"
      },
      "execution_count": null,
      "outputs": []
    },
    {
      "cell_type": "code",
      "source": [
        "n = 5\n",
        "\n",
        "for i in range(0,n):\n",
        "  for j in range(0,n+1):\n",
        "\n",
        "    if i+j < n:\n",
        "      print(\" \",end=\"\")\n",
        "    else:\n",
        "      print(\"#\", end=\"\")\n",
        "\n",
        "  print(\"\\n\")"
      ],
      "metadata": {
        "colab": {
          "base_uri": "https://localhost:8080/"
        },
        "id": "NQBNpa9CmXOm",
        "outputId": "cc969429-5cde-4308-a18e-87a43c338500"
      },
      "execution_count": null,
      "outputs": [
        {
          "output_type": "stream",
          "name": "stdout",
          "text": [
            "     #\n",
            "\n",
            "    ##\n",
            "\n",
            "   ###\n",
            "\n",
            "  ####\n",
            "\n",
            " #####\n",
            "\n"
          ]
        }
      ]
    },
    {
      "cell_type": "code",
      "source": [],
      "metadata": {
        "id": "lo5F1VmZcnLX"
      },
      "execution_count": null,
      "outputs": []
    },
    {
      "cell_type": "markdown",
      "source": [
        "Given five positive integers, find the minimum and maximum values that can be calculated by summing exactly four of the five integers. Then print the respective minimum and maximum values as a single line of two space-separated long integers.\n",
        "\n",
        "Example\n",
        "The minimum sum is and the maximum sum is\n",
        "\n",
        ". The function prints\n",
        "\n",
        "16 24\n",
        "\n",
        "Function Description\n",
        "\n",
        "Complete the miniMaxSum function in the editor below.\n",
        "\n",
        "miniMaxSum has the following parameter(s):\n",
        "\n",
        "    arr: an array of \n",
        "\n",
        "    integers\n",
        "\n",
        "Print\n",
        "\n",
        "Print two space-separated integers on one line: the minimum sum and the maximum sum of\n",
        "of\n",
        "\n",
        "elements.\n",
        "\n",
        "Input Format\n",
        "\n",
        "A single line of five space-separated integers.\n",
        "\n",
        "Constraints\n",
        "\n",
        "Output Format\n",
        "\n",
        "Print two space-separated long integers denoting the respective minimum and maximum values that can be calculated by summing exactly four of the five integers. (The output can be greater than a 32 bit integer.)\n",
        "\n",
        "Sample Input\n",
        "\n",
        "1 2 3 4 5\n",
        "\n",
        "Sample Output\n",
        "\n",
        "10 14\n",
        "\n",
        "Explanation\n",
        "\n",
        "The numbers are\n",
        ", , , , and\n",
        "\n",
        ". Calculate the following sums using four of the five integers:\n",
        "\n",
        "    Sum everything except \n",
        "\n",
        ", the sum is\n",
        ".\n",
        "Sum everything except\n",
        ", the sum is\n",
        ".\n",
        "Sum everything except\n",
        ", the sum is\n",
        ".\n",
        "Sum everything except\n",
        ", the sum is\n",
        ".\n",
        "Sum everything except\n",
        ", the sum is\n",
        "\n",
        "    .\n",
        "\n",
        "Hints: Beware of integer overflow! Use 64-bit Integer.\n",
        "\n",
        "Need help to get started? Try the Solve Me First problem"
      ],
      "metadata": {
        "id": "p7q0VwIgOxGE"
      }
    },
    {
      "cell_type": "code",
      "source": [],
      "metadata": {
        "id": "ZCBmaFMavXRT"
      },
      "execution_count": null,
      "outputs": []
    }
  ]
}