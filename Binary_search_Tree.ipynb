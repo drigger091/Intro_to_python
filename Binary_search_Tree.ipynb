{
  "nbformat": 4,
  "nbformat_minor": 0,
  "metadata": {
    "colab": {
      "provenance": [],
      "authorship_tag": "ABX9TyMYC/N7FlY+RmNhogavm10R",
      "include_colab_link": true
    },
    "kernelspec": {
      "name": "python3",
      "display_name": "Python 3"
    },
    "language_info": {
      "name": "python"
    }
  },
  "cells": [
    {
      "cell_type": "markdown",
      "metadata": {
        "id": "view-in-github",
        "colab_type": "text"
      },
      "source": [
        "<a href=\"https://colab.research.google.com/github/drigger091/Intro_to_python/blob/main/Binary_search_Tree.ipynb\" target=\"_parent\"><img src=\"https://colab.research.google.com/assets/colab-badge.svg\" alt=\"Open In Colab\"/></a>"
      ]
    },
    {
      "cell_type": "code",
      "execution_count": null,
      "metadata": {
        "colab": {
          "base_uri": "https://localhost:8080/"
        },
        "id": "-nm4J_e-JcvF",
        "outputId": "aa4da429-67b9-419d-eef6-9ef99eb35774"
      },
      "outputs": [
        {
          "output_type": "stream",
          "name": "stdout",
          "text": [
            "100\n",
            "None\n",
            "None\n",
            "50\n",
            "<__main__.bst object at 0x7fab18eed160>\n",
            "None\n",
            "None\n",
            "None\n"
          ]
        }
      ],
      "source": [
        "class bst:\n",
        "\n",
        "    def __init__(self,key):\n",
        "\n",
        "        self.key = key\n",
        "        self.lchild = None\n",
        "        self.rchild = None\n",
        "\n",
        "\n",
        "    def insertion(self,val):\n",
        "\n",
        "      val = bst()\n",
        "      \n",
        "\n",
        "\n",
        "      pass\n",
        "\n",
        "\n",
        "\n",
        "root = bst(100)\n",
        "\n",
        "print(root.key)\n",
        "print(root.lchild)\n",
        "print(root.rchild)\n",
        "        \n",
        "#alloting left child to the root\n",
        "\n",
        "root.lchild = bst(50)\n",
        "\n"
      ]
    },
    {
      "cell_type": "code",
      "source": [
        "#checking conditions\n",
        "class bst:\n",
        "\n",
        "    def __init__(self,key):\n",
        "\n",
        "        self.key = key\n",
        "        self.lchild = None\n",
        "        self.rchild = None\n",
        "\n",
        "\n",
        "    def insertion(self,val):\n",
        "\n",
        "      \n",
        "      \n",
        "      if self.key is None:\n",
        "        self.key = val\n",
        "\n",
        "        return\n",
        "\n",
        "\n",
        "        #ignoring duplicates\n",
        "\n",
        "      if self.key == val:\n",
        "        return\n",
        "\n",
        "      if self.key > val:\n",
        "        if self.lchild is None:\n",
        "            self.lchild = bst(val)\n",
        "        else:\n",
        "            self.lchild.insertion(val)\n",
        "\n",
        "      else:\n",
        "          if self.rchild is None:\n",
        "            self.rchild = bst(val)\n",
        "          else:\n",
        "            self.rchild.insertion(val)\n",
        "\n",
        "\n",
        "\n",
        "    def search(self,val): #ignoring duplicate values for now\n",
        "      \n",
        "      if self.key == val:\n",
        "\n",
        "        print(\"node is found\")\n",
        "\n",
        "        return\n",
        "\n",
        "\n",
        "      if self.key > val:\n",
        "\n",
        "        if self.lchild is None:\n",
        "\n",
        "          print(\"Node not found\")\n",
        "\n",
        "        else:\n",
        "\n",
        "            self.lchild.search(val)\n",
        "\n",
        "      else:\n",
        "\n",
        "        if self.rchild is None:\n",
        "\n",
        "          print(\"node not found\")\n",
        "\n",
        "        else:\n",
        "\n",
        "          self.rchild.search(val)\n",
        "\n",
        "\n",
        "      \n",
        "      \n",
        "\n",
        "\n",
        "\n",
        "root = bst(None)\n",
        "\n",
        "root.insertion(10)\n",
        "\n",
        "list1 = [20,6,4,5,7,35]\n",
        "\n",
        "for i in list1:\n",
        "  root.insertion(i)\n",
        "\n",
        "\n",
        "\n",
        "print(root.lchild.key)\n",
        "print(root.rchild.key)\n",
        "\n",
        "root.search(66)\n",
        "\n",
        "\n"
      ],
      "metadata": {
        "colab": {
          "base_uri": "https://localhost:8080/"
        },
        "id": "Exvzw6URJ0mq",
        "outputId": "b17e6ef9-7fed-4731-c3d0-aea69a80b541"
      },
      "execution_count": 3,
      "outputs": [
        {
          "output_type": "stream",
          "name": "stdout",
          "text": [
            "6\n",
            "20\n",
            "node not found\n"
          ]
        }
      ]
    },
    {
      "cell_type": "code",
      "source": [],
      "metadata": {
        "id": "H9RJ3lA3WpCB"
      },
      "execution_count": null,
      "outputs": []
    }
  ]
}