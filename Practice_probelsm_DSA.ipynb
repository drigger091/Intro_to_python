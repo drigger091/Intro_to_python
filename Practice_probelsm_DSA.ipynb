{
  "nbformat": 4,
  "nbformat_minor": 0,
  "metadata": {
    "colab": {
      "provenance": [],
      "authorship_tag": "ABX9TyNNOYaHcut1aoDQmTzek3Q9",
      "include_colab_link": true
    },
    "kernelspec": {
      "name": "python3",
      "display_name": "Python 3"
    },
    "language_info": {
      "name": "python"
    }
  },
  "cells": [
    {
      "cell_type": "markdown",
      "metadata": {
        "id": "view-in-github",
        "colab_type": "text"
      },
      "source": [
        "<a href=\"https://colab.research.google.com/github/drigger091/Intro_to_python/blob/main/Practice_probelsm_DSA.ipynb\" target=\"_parent\"><img src=\"https://colab.research.google.com/assets/colab-badge.svg\" alt=\"Open In Colab\"/></a>"
      ]
    },
    {
      "cell_type": "code",
      "source": [
        "#\n",
        "#to be well understood\n",
        "#length of largest subarray\n",
        "\n",
        "\n",
        " # print max number of ones\n",
        "a = [1,1,1]\n",
        "s = len(a)\n",
        "\n",
        "def findmaxone(a,s):\n",
        "\n",
        "  og1_count = 0\n",
        "\n",
        "  max_diff = 0\n",
        "\n",
        "  curr_max = 0\n",
        "\n",
        "\n",
        "  for i in range(s):\n",
        "\n",
        "    if a[i] == 1:\n",
        "      og1_count +=1\n",
        "\n",
        "\n",
        "    if a[i] == 0:\n",
        "\n",
        "      val = 1\n",
        "\n",
        "    else:\n",
        "\n",
        "      val = -1\n",
        "\n",
        "\n",
        "    curr_max = max(val,curr_max +val)\n",
        "    max_diff = max(max_diff,curr_max)\n",
        "\n",
        "  max_diff = max (0,max_diff)\n",
        "\n",
        "  return og1_count + max_diff\n",
        "\n",
        "\n",
        "\n",
        "findmaxone(a,s)\n",
        "\n",
        "\n"
      ],
      "metadata": {
        "colab": {
          "base_uri": "https://localhost:8080/"
        },
        "id": "10783TNvfu16",
        "outputId": "416b24a0-e7d4-4140-e8e4-97588cf57037"
      },
      "execution_count": 6,
      "outputs": [
        {
          "output_type": "execute_result",
          "data": {
            "text/plain": [
              "3"
            ]
          },
          "metadata": {},
          "execution_count": 6
        }
      ]
    },
    {
      "cell_type": "code",
      "source": [
        "a = [1,0,0,0,1]\n",
        "s = len(a)\n",
        "\n",
        "def findmaxone(a,s):\n",
        "\n",
        "  og1_count = 0\n",
        "  max_diff = 0 #( count of 1s - count of 0s)\n",
        "  \n",
        "\n",
        "  for i in range(s):\n",
        "\n",
        "      if a[i] == 1:\n",
        "        og1_count +=1\n",
        "\n",
        "\n",
        "        count1 ,count0 = 0,0\n",
        "    \n",
        "      for j in range(i,s):\n",
        "\n",
        "          if a[j] == 1:\n",
        "            count1 +=1\n",
        "\n",
        "          else:\n",
        "\n",
        "            count0+=1\n",
        "\n",
        "\n",
        "          max_diff = max (max_diff,count0 - count1)\n",
        "\n",
        "    \n",
        "  return og1_count + max_diff\n",
        "\n",
        "\n",
        "findmaxone(a,s)\n",
        "\n",
        "\n",
        "\n"
      ],
      "metadata": {
        "colab": {
          "base_uri": "https://localhost:8080/"
        },
        "id": "ziSFO59X2Hqf",
        "outputId": "2b4e8819-ab93-42d6-d302-f076595a9576"
      },
      "execution_count": 15,
      "outputs": [
        {
          "output_type": "execute_result",
          "data": {
            "text/plain": [
              "7"
            ]
          },
          "metadata": {},
          "execution_count": 15
        }
      ]
    },
    {
      "cell_type": "code",
      "execution_count": null,
      "metadata": {
        "id": "dt1L6EyMcAry",
        "colab": {
          "base_uri": "https://localhost:8080/"
        },
        "outputId": "ec74e665-af7e-4636-af86-4a4857547016"
      },
      "outputs": [
        {
          "output_type": "stream",
          "name": "stdout",
          "text": [
            "3\n",
            "Enter the number5\n",
            "120\n",
            "Enter the number6\n",
            "720\n",
            "Enter the number7\n",
            "5040\n"
          ]
        }
      ],
      "source": [
        "#factorial\n",
        "\n",
        "\n",
        "x = int(input())\n",
        "\n",
        "for i in range(0,x,1):\n",
        "  n = int(input(\"Enter the number\"))\n",
        "  output = 1\n",
        "\n",
        "  for i in range (1,n+1,1):\n",
        "\n",
        "    output = output * i\n",
        "    \n",
        "\n",
        "  print(output)\n"
      ]
    },
    {
      "cell_type": "code",
      "source": [
        "#sum of triplets\n",
        "\n",
        "\n",
        "a = [7,6,1,23,45,56]\n",
        "sum = 30\n",
        "\n",
        "\n",
        "size = len(a)\n",
        "\n",
        "\n",
        "\n",
        "def find_sum(a,size,sum):\n",
        "   a.sort()\n",
        "\n",
        "   for i in range(0,size-2):\n",
        "\n",
        "     left = i+1\n",
        "     right = size-1\n",
        "\n",
        "     while left< right:\n",
        "\n",
        "       if (a[i] +a[left]+a[right] == sum):\n",
        "          print(\"The Triplet is\",a[i],a[left],a[right])\n",
        "          return True \n",
        "\n",
        "       elif(a[i]+a[left]+a[right] < sum):\n",
        "          left+=1\n",
        "       else:\n",
        "          right-=1\n",
        "   return False\n",
        "\n",
        "status = find_sum(a,size,sum)\n",
        "\n",
        "if status is True:\n",
        "  print(\"result shown\")\n",
        "\n",
        "else:\n",
        "\n",
        "  print(\"not possible\")\n",
        "\n",
        "\n",
        "    \n",
        "#O(n^2) time complexity\n",
        "\n",
        "\n",
        "\n"
      ],
      "metadata": {
        "colab": {
          "base_uri": "https://localhost:8080/"
        },
        "id": "9GR8WjYkAS5M",
        "outputId": "6458f38f-ae00-4890-92b9-df9ad1033973"
      },
      "execution_count": null,
      "outputs": [
        {
          "output_type": "stream",
          "name": "stdout",
          "text": [
            "The Triplet is 1 6 23\n",
            "result shown\n"
          ]
        }
      ]
    },
    {
      "cell_type": "code",
      "source": [
        "#find min and max of an unsorted array:\n",
        "\n",
        "a = [5,6,1,3,55,2,76]\n",
        "\n",
        "\n",
        "max = a[0]\n",
        "min = a[0]\n",
        "\n",
        "\n",
        "for i in range(0,len(a)):\n",
        "  \n",
        "  if a[i] > max:\n",
        "    max = a[i]\n",
        "\n",
        "\n",
        "for i in range(0,len(a)):\n",
        "\n",
        "    if a[i] <min:\n",
        "      min = a[i]\n",
        "print(min)\n",
        "print(max)\n",
        "\n",
        "#complexity O(n)\n",
        "\n"
      ],
      "metadata": {
        "colab": {
          "base_uri": "https://localhost:8080/"
        },
        "id": "vPlueobBDdNs",
        "outputId": "b95d6828-752a-4241-f97c-5a5ac79f98e9"
      },
      "execution_count": null,
      "outputs": [
        {
          "output_type": "stream",
          "name": "stdout",
          "text": [
            "1\n",
            "76\n"
          ]
        }
      ]
    },
    {
      "cell_type": "code",
      "source": [
        "#kaydence algorithm \n",
        "\n",
        "\n",
        "def findGoodPairs(self, a, n, k):\n",
        "        \n",
        "        \n",
        "        \n",
        "        count = 0\n",
        "        for i in range(0,n):\n",
        "            \n",
        "            for j in range(0,n):\n",
        "                \n",
        "                if a[i] == a[j] and abs(i-j) >= k:\n",
        "                    count +=1\n",
        "                \n",
        "        \n",
        "        return floor(count / 2) \n"
      ],
      "metadata": {
        "id": "TunqklmyLequ"
      },
      "execution_count": null,
      "outputs": []
    },
    {
      "cell_type": "code",
      "source": [
        "def findgoodpairs(a,n,k):\n",
        "\n",
        "\n",
        "  count = 0\n",
        "\n",
        "  \n",
        "\n",
        "\n",
        "\n",
        "\n",
        "\n",
        "\n",
        "\n"
      ],
      "metadata": {
        "id": "Zbe_4s3O3DMc"
      },
      "execution_count": null,
      "outputs": []
    }
  ]
}