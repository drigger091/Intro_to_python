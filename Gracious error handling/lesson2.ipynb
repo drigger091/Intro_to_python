{
 "cells": [
  {
   "cell_type": "code",
   "execution_count": 1,
   "metadata": {},
   "outputs": [],
   "source": [
    "# custom exception\n",
    "\n",
    "class error(Exception):\n",
    "\n",
    "    pass\n",
    "\n",
    "class dobexception(error):\n",
    "    pass"
   ]
  },
  {
   "cell_type": "code",
   "execution_count": 4,
   "metadata": {},
   "outputs": [
    {
     "name": "stdout",
     "output_type": "stream",
     "text": [
      "The year age is not within the criteria\n"
     ]
    }
   ],
   "source": [
    "year = int(input(\"Enter your birth year:\"))\n",
    "age = 2023 - year\n",
    "\n",
    "try:\n",
    "\n",
    "    if age <= 30 & age >20:\n",
    "        print(\"The age is valid\")\n",
    "    else:\n",
    "        raise dobexception\n",
    "except dobexception:\n",
    "    print(\"The year age is not within the criteria\")\n"
   ]
  },
  {
   "cell_type": "code",
   "execution_count": null,
   "metadata": {},
   "outputs": [],
   "source": []
  }
 ],
 "metadata": {
  "kernelspec": {
   "display_name": "base",
   "language": "python",
   "name": "python3"
  },
  "language_info": {
   "codemirror_mode": {
    "name": "ipython",
    "version": 3
   },
   "file_extension": ".py",
   "mimetype": "text/x-python",
   "name": "python",
   "nbconvert_exporter": "python",
   "pygments_lexer": "ipython3",
   "version": "3.9.7"
  },
  "orig_nbformat": 4,
  "vscode": {
   "interpreter": {
    "hash": "c39ee6e24b83006eb386f86b08c4fd4839bfb2c807e17caea351eeccecc27516"
   }
  }
 },
 "nbformat": 4,
 "nbformat_minor": 2
}
