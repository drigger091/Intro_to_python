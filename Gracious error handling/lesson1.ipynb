{
 "cells": [
  {
   "cell_type": "code",
   "execution_count": 4,
   "metadata": {},
   "outputs": [
    {
     "name": "stdout",
     "output_type": "stream",
     "text": [
      "There are some errors in the value\n"
     ]
    }
   ],
   "source": [
    "try:\n",
    "    a= 1\n",
    "    b = 3\n",
    "    sum = a+d\n",
    "    print(sum)\n",
    "except:\n",
    "    print(\"There are some errors in the value\")\n"
   ]
  },
  {
   "cell_type": "code",
   "execution_count": 3,
   "metadata": {},
   "outputs": [
    {
     "name": "stdout",
     "output_type": "stream",
     "text": [
      "4\n"
     ]
    }
   ],
   "source": [
    "try:\n",
    "    a= 1\n",
    "    b = 3\n",
    "    sum = a+b\n",
    "    print(sum)\n",
    "except:\n",
    "    print(\"There are some errors in the value\")"
   ]
  },
  {
   "cell_type": "code",
   "execution_count": 10,
   "metadata": {},
   "outputs": [
    {
     "name": "stdout",
     "output_type": "stream",
     "text": [
      "(\"name 'd' is not defined\",)\n"
     ]
    }
   ],
   "source": [
    "#using the exception class\n",
    "\n",
    "try:\n",
    "    a= 1\n",
    "    b = 3\n",
    "    sum = a+d\n",
    "except Exception as ex:\n",
    "\n",
    "    print(ex.args)\n",
    "\n",
    "   # The argument fucntion is printed "
   ]
  },
  {
   "cell_type": "code",
   "execution_count": 11,
   "metadata": {},
   "outputs": [
    {
     "name": "stdout",
     "output_type": "stream",
     "text": [
      "The user may have not defined the variable\n"
     ]
    }
   ],
   "source": [
    "\n",
    "try:\n",
    "    a= 1\n",
    "    b = 3\n",
    "    sum = a+d\n",
    "\n",
    "\n",
    "except NameError as ex1:\n",
    "    print(\"The user may have not defined the variable\")\n",
    "except Exception as ex:\n",
    "\n",
    "    print(ex.args)"
   ]
  },
  {
   "cell_type": "code",
   "execution_count": null,
   "metadata": {},
   "outputs": [],
   "source": []
  }
 ],
 "metadata": {
  "kernelspec": {
   "display_name": "base",
   "language": "python",
   "name": "python3"
  },
  "language_info": {
   "codemirror_mode": {
    "name": "ipython",
    "version": 3
   },
   "file_extension": ".py",
   "mimetype": "text/x-python",
   "name": "python",
   "nbconvert_exporter": "python",
   "pygments_lexer": "ipython3",
   "version": "3.9.7"
  },
  "orig_nbformat": 4,
  "vscode": {
   "interpreter": {
    "hash": "c39ee6e24b83006eb386f86b08c4fd4839bfb2c807e17caea351eeccecc27516"
   }
  }
 },
 "nbformat": 4,
 "nbformat_minor": 2
}
