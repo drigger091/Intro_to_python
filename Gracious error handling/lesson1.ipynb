{
 "cells": [
  {
   "cell_type": "code",
   "execution_count": 4,
   "metadata": {},
   "outputs": [
    {
     "name": "stdout",
     "output_type": "stream",
     "text": [
      "There are some errors in the value\n"
     ]
    }
   ],
   "source": [
    "try:\n",
    "    a= 1\n",
    "    b = 3\n",
    "    sum = a+d\n",
    "    print(sum)\n",
    "except:\n",
    "    print(\"There are some errors in the value\")\n"
   ]
  },
  {
   "cell_type": "code",
   "execution_count": 3,
   "metadata": {},
   "outputs": [
    {
     "name": "stdout",
     "output_type": "stream",
     "text": [
      "4\n"
     ]
    }
   ],
   "source": [
    "try:\n",
    "    a= 1\n",
    "    b = 3\n",
    "    sum = a+b\n",
    "    print(sum)\n",
    "except:\n",
    "    print(\"There are some errors in the value\")"
   ]
  },
  {
   "cell_type": "code",
   "execution_count": 10,
   "metadata": {},
   "outputs": [
    {
     "name": "stdout",
     "output_type": "stream",
     "text": [
      "(\"name 'd' is not defined\",)\n"
     ]
    }
   ],
   "source": [
    "#using the exception class\n",
    "\n",
    "try:\n",
    "    a= 1\n",
    "    b = 3\n",
    "    sum = a+d\n",
    "except Exception as ex:\n",
    "\n",
    "    print(ex.args)\n",
    "\n",
    "   # The argument fucntion is printed "
   ]
  },
  {
   "cell_type": "code",
   "execution_count": 11,
   "metadata": {},
   "outputs": [
    {
     "name": "stdout",
     "output_type": "stream",
     "text": [
      "The user may have not defined the variable\n"
     ]
    }
   ],
   "source": [
    "\n",
    "try:\n",
    "    a= 1\n",
    "    b = 3\n",
    "    sum = a+d\n",
    "# because we know that there is a namerror wihich wil be picked up by ex1\n",
    "\n",
    "except NameError as ex1:\n",
    "    print(\"The user may have not defined the variable\")\n",
    "except Exception as ex:\n",
    "\n",
    "    print(ex.args)"
   ]
  },
  {
   "cell_type": "code",
   "execution_count": 12,
   "metadata": {},
   "outputs": [
    {
     "name": "stdout",
     "output_type": "stream",
     "text": [
      "(\"unsupported operand type(s) for +: 'int' and 'str'\",)\n"
     ]
    }
   ],
   "source": [
    "try:\n",
    "    a= 1\n",
    "    b = \"c\"\n",
    "    sum = a+b\n",
    "#here there is atypecasting error which wont be picked up by nameeor but the excepton class at end (it is a type error)\n",
    "\n",
    "except NameError as ex1:\n",
    "    print(\"The user may have not defined the variable\")\n",
    "except Exception as ex:\n",
    "\n",
    "    print(ex.args)"
   ]
  },
  {
   "cell_type": "code",
   "execution_count": 13,
   "metadata": {},
   "outputs": [
    {
     "name": "stdout",
     "output_type": "stream",
     "text": [
      "Try to make the data types similar\n"
     ]
    }
   ],
   "source": [
    "#type error exception\n",
    "\n",
    "try:\n",
    "    a= 1\n",
    "    b = \"c\"\n",
    "    sum = a+b\n",
    "\n",
    "\n",
    "except NameError as ex1:\n",
    "    print(\"The user may have not defined the variable\")\n",
    "except TypeError as ex2:\n",
    "    print(\"Try to make the data types similar\")\n",
    "except Exception as ex:\n",
    "\n",
    "    print(ex.args)"
   ]
  },
  {
   "cell_type": "code",
   "execution_count": 22,
   "metadata": {},
   "outputs": [
    {
     "name": "stdout",
     "output_type": "stream",
     "text": [
      "one of the inputs cant be considered as zero\n"
     ]
    }
   ],
   "source": [
    "try:\n",
    "    a = int(input(\"Enter the 1st number\"))\n",
    "    b = int(input(\"Enter the 2 number\"))\n",
    "    sum = a + b\n",
    "    div = a/b\n",
    "    mul = a*b\n",
    "\n",
    "    print(sum)\n",
    "    print(div)\n",
    "    print(mul)\n",
    "except NameError as ex1:\n",
    "    print(\"The user may have not defined the variable\")\n",
    "except ZeroDivisionError as ex3:\n",
    "    print(\"provide input greater than zero\")\n",
    "except TypeError as ex2:\n",
    "    print(\"Try to make the data types similar\")\n",
    "except Exception as ex:\n",
    "\n",
    "    print(ex.args)"
   ]
  },
  {
   "cell_type": "code",
   "execution_count": 21,
   "metadata": {},
   "outputs": [
    {
     "ename": "ZeroDivisionError",
     "evalue": "division by zero",
     "output_type": "error",
     "traceback": [
      "\u001b[1;31m---------------------------------------------------------------------------\u001b[0m",
      "\u001b[1;31mZeroDivisionError\u001b[0m                         Traceback (most recent call last)",
      "\u001b[1;32m~\\AppData\\Local\\Temp/ipykernel_18328/279582651.py\u001b[0m in \u001b[0;36m<module>\u001b[1;34m\u001b[0m\n\u001b[1;32m----> 1\u001b[1;33m \u001b[0ma\u001b[0m \u001b[1;33m/\u001b[0m\u001b[0mb\u001b[0m\u001b[1;33m\u001b[0m\u001b[1;33m\u001b[0m\u001b[0m\n\u001b[0m",
      "\u001b[1;31mZeroDivisionError\u001b[0m: division by zero"
     ]
    }
   ],
   "source": [
    "a /b"
   ]
  },
  {
   "cell_type": "code",
   "execution_count": 1,
   "metadata": {},
   "outputs": [
    {
     "name": "stdout",
     "output_type": "stream",
     "text": [
      "provide input greater than zero\n"
     ]
    }
   ],
   "source": [
    "#usage of else block in python \n",
    "#will work no exception gets triggered\n",
    "\n",
    "try:\n",
    "    a = int(input(\"Enter the 1st number\"))\n",
    "    b = int(input(\"Enter the 2 number\"))\n",
    "    sum = a + b\n",
    "    div = a/b\n",
    "    mul = a*b\n",
    "\n",
    "  \n",
    "except NameError as ex1:\n",
    "    print(\"The user may have not defined the variable\")\n",
    "except ZeroDivisionError as ex3:\n",
    "    print(\"provide input greater than zero\")\n",
    "except TypeError as ex2:\n",
    "    print(\"Try to make the data types similar\")\n",
    "except Exception as ex:\n",
    "\n",
    "    print(ex.args)\n",
    "else:\n",
    "      print(sum)\n",
    "      print(div)\n",
    "      print(mul)\n"
   ]
  },
  {
   "cell_type": "code",
   "execution_count": 25,
   "metadata": {},
   "outputs": [
    {
     "name": "stdout",
     "output_type": "stream",
     "text": [
      "provide input greater than zero\n",
      "The execution has been done\n"
     ]
    }
   ],
   "source": [
    "#try  else and finally\n",
    "\n",
    "\n",
    "try:\n",
    "    a = int(input(\"Enter the 1st number\"))\n",
    "    b = int(input(\"Enter the 2 number\"))\n",
    "    sum = a + b\n",
    "    div = a/b\n",
    "    mul = a*b\n",
    "\n",
    "  \n",
    "except NameError as ex1:\n",
    "    print(\"The user may have not defined the variable\")\n",
    "except ZeroDivisionError as ex3:\n",
    "    print(\"provide input greater than zero\")\n",
    "except TypeError as ex2:\n",
    "    print(\"Try to make the data types similar\")\n",
    "except Exception as ex:\n",
    "\n",
    "    print(ex.args)\n",
    "else:\n",
    "      print(sum)\n",
    "      print(div)\n",
    "      print(mul)\n",
    "finally:\n",
    "    print(\"The execution has been done\")  #clsong the connection string if an api calls fails\n",
    "\n",
    "\n",
    "#finally block will always get printed"
   ]
  },
  {
   "cell_type": "code",
   "execution_count": null,
   "metadata": {},
   "outputs": [],
   "source": []
  }
 ],
 "metadata": {
  "kernelspec": {
   "display_name": "base",
   "language": "python",
   "name": "python3"
  },
  "language_info": {
   "codemirror_mode": {
    "name": "ipython",
    "version": 3
   },
   "file_extension": ".py",
   "mimetype": "text/x-python",
   "name": "python",
   "nbconvert_exporter": "python",
   "pygments_lexer": "ipython3",
   "version": "3.9.7"
  },
  "orig_nbformat": 4,
  "vscode": {
   "interpreter": {
    "hash": "c39ee6e24b83006eb386f86b08c4fd4839bfb2c807e17caea351eeccecc27516"
   }
  }
 },
 "nbformat": 4,
 "nbformat_minor": 2
}
