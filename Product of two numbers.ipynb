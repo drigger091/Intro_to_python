{
 "cells": [
  {
   "cell_type": "code",
   "execution_count": null,
   "metadata": {},
   "outputs": [],
   "source": [
    "#program to calculate the digits of a number\n",
    "\n",
    "\n",
    "n = int(input(\"enter the number\"))\n",
    "\n",
    "#function to get the product of the digits\n",
    "\n",
    "def getProducts(n):\n",
    "\n",
    "    product = 1\n",
    "\n",
    "    #convert the integer into string\n",
    "\n",
    "    num = str(n)\n",
    "\n",
    "    #tarversing the string\n",
    "\n",
    "    for i in num:\n",
    "        product = product * int(i)\n",
    "\n",
    "    return product\n",
    "\n",
    "print(getProducts(n))"
   ]
  },
  {
   "cell_type": "code",
   "execution_count": null,
   "metadata": {},
   "outputs": [],
   "source": []
  }
 ],
 "metadata": {
  "language_info": {
   "name": "python"
  },
  "orig_nbformat": 4
 },
 "nbformat": 4,
 "nbformat_minor": 2
}
